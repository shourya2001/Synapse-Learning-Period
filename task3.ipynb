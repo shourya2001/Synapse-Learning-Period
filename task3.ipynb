{
 "cells": [
  {
   "cell_type": "markdown",
   "metadata": {
    "id": "2GKIJx3sYNC0"
   },
   "source": [
    "# Task 2\n",
    "This week you have learnt about various types of ML models. <br>\n",
    "Let us focus on two of them."
   ]
  },
  {
   "cell_type": "markdown",
   "metadata": {
    "id": "fKEbTpqVYg8m"
   },
   "source": [
    "# Instructions\n",
    "1. create a folder called synapse_w2 in your drive\n",
    "2. add housing_data.csv, classified_data.txt, titanic_data.csv in the folder.\n",
    "3. You will use the data from this path in this notebook"
   ]
  },
  {
   "cell_type": "code",
   "execution_count": null,
   "metadata": {
    "id": "88aLM-5hYgVL"
   },
   "outputs": [],
   "source": []
  },
  {
   "cell_type": "markdown",
   "metadata": {
    "id": "yJqOW8lFYNC3"
   },
   "source": [
    "# 1)  Linear Regression on Housing Price"
   ]
  },
  {
   "cell_type": "markdown",
   "metadata": {
    "id": "hZGyek2wYNC4"
   },
   "source": [
    "### Import packages and dataset"
   ]
  },
  {
   "cell_type": "code",
   "execution_count": 102,
   "metadata": {
    "id": "C--rF9aZYNC4"
   },
   "outputs": [],
   "source": [
    "# import numpy, pandas, matplotlib, seaborn\n",
    "# add code here\n",
    "import pandas as pd\n",
    "import numpy as np\n",
    "import matplotlib.pyplot as plt\n",
    "import seaborn as sns\n",
    "\n",
    "%matplotlib inline"
   ]
  },
  {
   "cell_type": "markdown",
   "metadata": {
    "id": "P8Kgu-VJYNC5"
   },
   "source": [
    "**Read housing_data.csv using pandas and call head() to show first few records.**"
   ]
  },
  {
   "cell_type": "code",
   "execution_count": 103,
   "metadata": {
    "id": "qrdEbQKxYNC5"
   },
   "outputs": [
    {
     "data": {
      "text/html": [
       "<div>\n",
       "<style scoped>\n",
       "    .dataframe tbody tr th:only-of-type {\n",
       "        vertical-align: middle;\n",
       "    }\n",
       "\n",
       "    .dataframe tbody tr th {\n",
       "        vertical-align: top;\n",
       "    }\n",
       "\n",
       "    .dataframe thead th {\n",
       "        text-align: right;\n",
       "    }\n",
       "</style>\n",
       "<table border=\"1\" class=\"dataframe\">\n",
       "  <thead>\n",
       "    <tr style=\"text-align: right;\">\n",
       "      <th></th>\n",
       "      <th>Avg. Area Income</th>\n",
       "      <th>Avg. Area House Age</th>\n",
       "      <th>Avg. Area Number of Rooms</th>\n",
       "      <th>Avg. Area Number of Bedrooms</th>\n",
       "      <th>Area Population</th>\n",
       "      <th>Price</th>\n",
       "      <th>Address</th>\n",
       "    </tr>\n",
       "  </thead>\n",
       "  <tbody>\n",
       "    <tr>\n",
       "      <th>0</th>\n",
       "      <td>79545.458574</td>\n",
       "      <td>5.682861</td>\n",
       "      <td>7.009188</td>\n",
       "      <td>4.09</td>\n",
       "      <td>23086.800503</td>\n",
       "      <td>1.059034e+06</td>\n",
       "      <td>208 Michael Ferry Apt. 674\\nLaurabury, NE 3701...</td>\n",
       "    </tr>\n",
       "    <tr>\n",
       "      <th>1</th>\n",
       "      <td>79248.642455</td>\n",
       "      <td>6.002900</td>\n",
       "      <td>6.730821</td>\n",
       "      <td>3.09</td>\n",
       "      <td>40173.072174</td>\n",
       "      <td>1.505891e+06</td>\n",
       "      <td>188 Johnson Views Suite 079\\nLake Kathleen, CA...</td>\n",
       "    </tr>\n",
       "    <tr>\n",
       "      <th>2</th>\n",
       "      <td>61287.067179</td>\n",
       "      <td>5.865890</td>\n",
       "      <td>8.512727</td>\n",
       "      <td>5.13</td>\n",
       "      <td>36882.159400</td>\n",
       "      <td>1.058988e+06</td>\n",
       "      <td>9127 Elizabeth Stravenue\\nDanieltown, WI 06482...</td>\n",
       "    </tr>\n",
       "    <tr>\n",
       "      <th>3</th>\n",
       "      <td>63345.240046</td>\n",
       "      <td>7.188236</td>\n",
       "      <td>5.586729</td>\n",
       "      <td>3.26</td>\n",
       "      <td>34310.242831</td>\n",
       "      <td>1.260617e+06</td>\n",
       "      <td>USS Barnett\\nFPO AP 44820</td>\n",
       "    </tr>\n",
       "    <tr>\n",
       "      <th>4</th>\n",
       "      <td>59982.197226</td>\n",
       "      <td>5.040555</td>\n",
       "      <td>7.839388</td>\n",
       "      <td>4.23</td>\n",
       "      <td>26354.109472</td>\n",
       "      <td>6.309435e+05</td>\n",
       "      <td>USNS Raymond\\nFPO AE 09386</td>\n",
       "    </tr>\n",
       "  </tbody>\n",
       "</table>\n",
       "</div>"
      ],
      "text/plain": [
       "   Avg. Area Income  Avg. Area House Age  Avg. Area Number of Rooms  \\\n",
       "0      79545.458574             5.682861                   7.009188   \n",
       "1      79248.642455             6.002900                   6.730821   \n",
       "2      61287.067179             5.865890                   8.512727   \n",
       "3      63345.240046             7.188236                   5.586729   \n",
       "4      59982.197226             5.040555                   7.839388   \n",
       "\n",
       "   Avg. Area Number of Bedrooms  Area Population         Price  \\\n",
       "0                          4.09     23086.800503  1.059034e+06   \n",
       "1                          3.09     40173.072174  1.505891e+06   \n",
       "2                          5.13     36882.159400  1.058988e+06   \n",
       "3                          3.26     34310.242831  1.260617e+06   \n",
       "4                          4.23     26354.109472  6.309435e+05   \n",
       "\n",
       "                                             Address  \n",
       "0  208 Michael Ferry Apt. 674\\nLaurabury, NE 3701...  \n",
       "1  188 Johnson Views Suite 079\\nLake Kathleen, CA...  \n",
       "2  9127 Elizabeth Stravenue\\nDanieltown, WI 06482...  \n",
       "3                          USS Barnett\\nFPO AP 44820  \n",
       "4                         USNS Raymond\\nFPO AE 09386  "
      ]
     },
     "execution_count": 103,
     "metadata": {},
     "output_type": "execute_result"
    }
   ],
   "source": [
    "# add code here\n",
    "data = pd.read_csv(\"housing_data.csv\")\n",
    "data.head()"
   ]
  },
  {
   "cell_type": "markdown",
   "metadata": {
    "id": "_158HqRTYNC6"
   },
   "source": [
    "### Exloratory Data Analysis (EDA)"
   ]
  },
  {
   "cell_type": "markdown",
   "metadata": {
    "id": "YbmnOZ48YNC6"
   },
   "source": [
    "**'info()' method to check the data types and number**"
   ]
  },
  {
   "cell_type": "code",
   "execution_count": 104,
   "metadata": {
    "id": "7YWr6trZYNC6"
   },
   "outputs": [
    {
     "name": "stdout",
     "output_type": "stream",
     "text": [
      "<class 'pandas.core.frame.DataFrame'>\n",
      "RangeIndex: 5000 entries, 0 to 4999\n",
      "Data columns (total 7 columns):\n",
      " #   Column                        Non-Null Count  Dtype  \n",
      "---  ------                        --------------  -----  \n",
      " 0   Avg. Area Income              5000 non-null   float64\n",
      " 1   Avg. Area House Age           5000 non-null   float64\n",
      " 2   Avg. Area Number of Rooms     5000 non-null   float64\n",
      " 3   Avg. Area Number of Bedrooms  5000 non-null   float64\n",
      " 4   Area Population               5000 non-null   float64\n",
      " 5   Price                         5000 non-null   float64\n",
      " 6   Address                       5000 non-null   object \n",
      "dtypes: float64(6), object(1)\n",
      "memory usage: 273.6+ KB\n"
     ]
    }
   ],
   "source": [
    "# add code here\n",
    "data.info()"
   ]
  },
  {
   "cell_type": "markdown",
   "metadata": {
    "id": "-XVB-HteYNC7"
   },
   "source": [
    "**Get the statistical summary of the data set** <br>\n",
    "Hint: describe()"
   ]
  },
  {
   "cell_type": "code",
   "execution_count": 105,
   "metadata": {
    "id": "XZPbIjgYYNC7"
   },
   "outputs": [
    {
     "data": {
      "text/html": [
       "<div>\n",
       "<style scoped>\n",
       "    .dataframe tbody tr th:only-of-type {\n",
       "        vertical-align: middle;\n",
       "    }\n",
       "\n",
       "    .dataframe tbody tr th {\n",
       "        vertical-align: top;\n",
       "    }\n",
       "\n",
       "    .dataframe thead th {\n",
       "        text-align: right;\n",
       "    }\n",
       "</style>\n",
       "<table border=\"1\" class=\"dataframe\">\n",
       "  <thead>\n",
       "    <tr style=\"text-align: right;\">\n",
       "      <th></th>\n",
       "      <th>Avg. Area Income</th>\n",
       "      <th>Avg. Area House Age</th>\n",
       "      <th>Avg. Area Number of Rooms</th>\n",
       "      <th>Avg. Area Number of Bedrooms</th>\n",
       "      <th>Area Population</th>\n",
       "      <th>Price</th>\n",
       "    </tr>\n",
       "  </thead>\n",
       "  <tbody>\n",
       "    <tr>\n",
       "      <th>count</th>\n",
       "      <td>5000.000000</td>\n",
       "      <td>5000.000000</td>\n",
       "      <td>5000.000000</td>\n",
       "      <td>5000.000000</td>\n",
       "      <td>5000.000000</td>\n",
       "      <td>5.000000e+03</td>\n",
       "    </tr>\n",
       "    <tr>\n",
       "      <th>mean</th>\n",
       "      <td>68583.108984</td>\n",
       "      <td>5.977222</td>\n",
       "      <td>6.987792</td>\n",
       "      <td>3.981330</td>\n",
       "      <td>36163.516039</td>\n",
       "      <td>1.232073e+06</td>\n",
       "    </tr>\n",
       "    <tr>\n",
       "      <th>std</th>\n",
       "      <td>10657.991214</td>\n",
       "      <td>0.991456</td>\n",
       "      <td>1.005833</td>\n",
       "      <td>1.234137</td>\n",
       "      <td>9925.650114</td>\n",
       "      <td>3.531176e+05</td>\n",
       "    </tr>\n",
       "    <tr>\n",
       "      <th>min</th>\n",
       "      <td>17796.631190</td>\n",
       "      <td>2.644304</td>\n",
       "      <td>3.236194</td>\n",
       "      <td>2.000000</td>\n",
       "      <td>172.610686</td>\n",
       "      <td>1.593866e+04</td>\n",
       "    </tr>\n",
       "    <tr>\n",
       "      <th>25%</th>\n",
       "      <td>61480.562388</td>\n",
       "      <td>5.322283</td>\n",
       "      <td>6.299250</td>\n",
       "      <td>3.140000</td>\n",
       "      <td>29403.928702</td>\n",
       "      <td>9.975771e+05</td>\n",
       "    </tr>\n",
       "    <tr>\n",
       "      <th>50%</th>\n",
       "      <td>68804.286404</td>\n",
       "      <td>5.970429</td>\n",
       "      <td>7.002902</td>\n",
       "      <td>4.050000</td>\n",
       "      <td>36199.406689</td>\n",
       "      <td>1.232669e+06</td>\n",
       "    </tr>\n",
       "    <tr>\n",
       "      <th>75%</th>\n",
       "      <td>75783.338666</td>\n",
       "      <td>6.650808</td>\n",
       "      <td>7.665871</td>\n",
       "      <td>4.490000</td>\n",
       "      <td>42861.290769</td>\n",
       "      <td>1.471210e+06</td>\n",
       "    </tr>\n",
       "    <tr>\n",
       "      <th>max</th>\n",
       "      <td>107701.748378</td>\n",
       "      <td>9.519088</td>\n",
       "      <td>10.759588</td>\n",
       "      <td>6.500000</td>\n",
       "      <td>69621.713378</td>\n",
       "      <td>2.469066e+06</td>\n",
       "    </tr>\n",
       "  </tbody>\n",
       "</table>\n",
       "</div>"
      ],
      "text/plain": [
       "       Avg. Area Income  Avg. Area House Age  Avg. Area Number of Rooms  \\\n",
       "count       5000.000000          5000.000000                5000.000000   \n",
       "mean       68583.108984             5.977222                   6.987792   \n",
       "std        10657.991214             0.991456                   1.005833   \n",
       "min        17796.631190             2.644304                   3.236194   \n",
       "25%        61480.562388             5.322283                   6.299250   \n",
       "50%        68804.286404             5.970429                   7.002902   \n",
       "75%        75783.338666             6.650808                   7.665871   \n",
       "max       107701.748378             9.519088                  10.759588   \n",
       "\n",
       "       Avg. Area Number of Bedrooms  Area Population         Price  \n",
       "count                   5000.000000      5000.000000  5.000000e+03  \n",
       "mean                       3.981330     36163.516039  1.232073e+06  \n",
       "std                        1.234137      9925.650114  3.531176e+05  \n",
       "min                        2.000000       172.610686  1.593866e+04  \n",
       "25%                        3.140000     29403.928702  9.975771e+05  \n",
       "50%                        4.050000     36199.406689  1.232669e+06  \n",
       "75%                        4.490000     42861.290769  1.471210e+06  \n",
       "max                        6.500000     69621.713378  2.469066e+06  "
      ]
     },
     "execution_count": 105,
     "metadata": {},
     "output_type": "execute_result"
    }
   ],
   "source": [
    "# add code here\n",
    "data.describe()"
   ]
  },
  {
   "cell_type": "markdown",
   "metadata": {
    "id": "DfSgsewYYNC7"
   },
   "source": [
    "**Print the names of the columns(features)**"
   ]
  },
  {
   "cell_type": "code",
   "execution_count": 106,
   "metadata": {
    "id": "9ss5VF20YNC8"
   },
   "outputs": [
    {
     "name": "stdout",
     "output_type": "stream",
     "text": [
      "Avg. Area Income\n",
      "Avg. Area House Age\n",
      "Avg. Area Number of Rooms\n",
      "Avg. Area Number of Bedrooms\n",
      "Area Population\n",
      "Price\n",
      "Address\n"
     ]
    }
   ],
   "source": [
    "# add code here\n",
    "for col in data.columns:\n",
    "    print(col)"
   ]
  },
  {
   "cell_type": "markdown",
   "metadata": {
    "id": "p0HiN5NeYNC8"
   },
   "source": [
    "### Basic plotting and visualization"
   ]
  },
  {
   "cell_type": "markdown",
   "metadata": {
    "id": "-rumpxTXYNC8"
   },
   "source": [
    "**The target quantity is price. Let us see its distribution.** <br>\n",
    "Plot a histogram of Price. Choose the number of bins by experimenting a little. (Expected: a bell curve shape)"
   ]
  },
  {
   "cell_type": "code",
   "execution_count": 107,
   "metadata": {
    "id": "8BGkFMVBYNC8"
   },
   "outputs": [
    {
     "data": {
      "text/plain": [
       "(array([6.11464486e-09, 1.01910748e-08, 3.26114392e-08, 5.70700186e-08,\n",
       "        9.57961027e-08, 1.77324701e-07, 3.15923318e-07, 4.74904084e-07,\n",
       "        6.21655560e-07, 7.50063102e-07, 1.02726034e-06, 1.07413928e-06,\n",
       "        1.14751502e-06, 1.03745141e-06, 9.41655308e-07, 8.21400626e-07,\n",
       "        5.76814831e-07, 3.93375486e-07, 2.97579383e-07, 1.67133626e-07,\n",
       "        7.33757383e-08, 4.68789439e-08, 2.85350093e-08, 1.42675047e-08,\n",
       "        2.03821495e-09]),\n",
       " array([  15938.65792329,  114063.73537334,  212188.8128234 ,\n",
       "         310313.89027346,  408438.96772351,  506564.04517357,\n",
       "         604689.12262363,  702814.20007368,  800939.27752374,\n",
       "         899064.3549738 ,  997189.43242385, 1095314.50987391,\n",
       "        1193439.58732397, 1291564.66477402, 1389689.74222408,\n",
       "        1487814.81967414, 1585939.89712419, 1684064.97457425,\n",
       "        1782190.05202431, 1880315.12947436, 1978440.20692442,\n",
       "        2076565.28437448, 2174690.36182453, 2272815.43927459,\n",
       "        2370940.51672465, 2469065.5941747 ]),\n",
       " <BarContainer object of 25 artists>)"
      ]
     },
     "execution_count": 107,
     "metadata": {},
     "output_type": "execute_result"
    },
    {
     "data": {
      "image/png": "[encoded data removed]",
      "text/plain": [
       "<Figure size 576x432 with 1 Axes>"
      ]
     },
     "metadata": {
      "needs_background": "light"
     },
     "output_type": "display_data"
    }
   ],
   "source": [
    "# add code here\n",
    "\n",
    "fig = plt.figure(figsize=(8,6))\n",
    "plt.hist(data[\"Price\"],bins=25,density=True)"
   ]
  },
  {
   "cell_type": "markdown",
   "metadata": {
    "id": "Al174yCyYNC9"
   },
   "source": [
    "**Let us see how the different features are correlated with each other by printing a Correlation Matrix**<br>\n",
    "Hint: corr()"
   ]
  },
  {
   "cell_type": "code",
   "execution_count": 108,
   "metadata": {
    "id": "aaLwISKZYNC9",
    "scrolled": false
   },
   "outputs": [
    {
     "data": {
      "text/plain": [
       "<AxesSubplot:>"
      ]
     },
     "execution_count": 108,
     "metadata": {},
     "output_type": "execute_result"
    },
    {
     "data": {
      "image/png": "[encoded data removed]",
      "text/plain": [
       "<Figure size 576x432 with 2 Axes>"
      ]
     },
     "metadata": {
      "needs_background": "light"
     },
     "output_type": "display_data"
    }
   ],
   "source": [
    "# add code here\n",
    "fig, axes = plt.subplots(figsize=(8,6))\n",
    "corr = data.corr()\n",
    "sns.heatmap(corr,mask=np.zeros_like(corr, dtype=np.bool),cmap=sns.diverging_palette(240,10,as_cmap=True),\n",
    "            square=True, ax=axes)"
   ]
  },
  {
   "cell_type": "markdown",
   "metadata": {
    "id": "niwpNf_EYNC9"
   },
   "source": [
    "### Feature and variable sets"
   ]
  },
  {
   "cell_type": "markdown",
   "metadata": {
    "id": "YZRq4NakYNC9"
   },
   "source": [
    "**Make a list of data frame column names**\n",
    "**Create a new dataframe containing all the numerical training features(note that Address is a string so ignore that) and store it in a variable called \"X\"**<br><br>\n",
    "**Then create a new dataframe containing the target (Price) and store it in a variable called \"y\"**"
   ]
  },
  {
   "cell_type": "code",
   "execution_count": 109,
   "metadata": {
    "id": "KBKubTuLYNC-"
   },
   "outputs": [
    {
     "name": "stdout",
     "output_type": "stream",
     "text": [
      "Index(['Avg. Area Income', 'Avg. Area House Age', 'Avg. Area Number of Rooms',\n",
      "       'Avg. Area Number of Bedrooms', 'Area Population', 'Price', 'Address'],\n",
      "      dtype='object')\n"
     ]
    }
   ],
   "source": [
    "# add code here\n",
    "print(data.columns)\n",
    "X = data.drop([\"Address\",\"Price\"],axis=1)\n",
    "y = data[\"Price\"]"
   ]
  },
  {
   "cell_type": "code",
   "execution_count": 110,
   "metadata": {
    "id": "2w-pU7UhYNC-"
   },
   "outputs": [
    {
     "name": "stdout",
     "output_type": "stream",
     "text": [
      "(5000, 5)\n"
     ]
    },
    {
     "data": {
      "text/plain": [
       "(5000,)"
      ]
     },
     "execution_count": 110,
     "metadata": {},
     "output_type": "execute_result"
    }
   ],
   "source": [
    "# This code should print (5000, 5) and (5000,) if everything is correct\n",
    "print(X.shape)\n",
    "y.shape"
   ]
  },
  {
   "cell_type": "code",
   "execution_count": 111,
   "metadata": {
    "id": "qC6JzmuDYNC-"
   },
   "outputs": [
    {
     "data": {
      "text/html": [
       "<div>\n",
       "<style scoped>\n",
       "    .dataframe tbody tr th:only-of-type {\n",
       "        vertical-align: middle;\n",
       "    }\n",
       "\n",
       "    .dataframe tbody tr th {\n",
       "        vertical-align: top;\n",
       "    }\n",
       "\n",
       "    .dataframe thead th {\n",
       "        text-align: right;\n",
       "    }\n",
       "</style>\n",
       "<table border=\"1\" class=\"dataframe\">\n",
       "  <thead>\n",
       "    <tr style=\"text-align: right;\">\n",
       "      <th></th>\n",
       "      <th>Avg. Area Income</th>\n",
       "      <th>Avg. Area House Age</th>\n",
       "      <th>Avg. Area Number of Rooms</th>\n",
       "      <th>Avg. Area Number of Bedrooms</th>\n",
       "      <th>Area Population</th>\n",
       "    </tr>\n",
       "  </thead>\n",
       "  <tbody>\n",
       "    <tr>\n",
       "      <th>0</th>\n",
       "      <td>79545.458574</td>\n",
       "      <td>5.682861</td>\n",
       "      <td>7.009188</td>\n",
       "      <td>4.09</td>\n",
       "      <td>23086.800503</td>\n",
       "    </tr>\n",
       "    <tr>\n",
       "      <th>1</th>\n",
       "      <td>79248.642455</td>\n",
       "      <td>6.002900</td>\n",
       "      <td>6.730821</td>\n",
       "      <td>3.09</td>\n",
       "      <td>40173.072174</td>\n",
       "    </tr>\n",
       "    <tr>\n",
       "      <th>2</th>\n",
       "      <td>61287.067179</td>\n",
       "      <td>5.865890</td>\n",
       "      <td>8.512727</td>\n",
       "      <td>5.13</td>\n",
       "      <td>36882.159400</td>\n",
       "    </tr>\n",
       "    <tr>\n",
       "      <th>3</th>\n",
       "      <td>63345.240046</td>\n",
       "      <td>7.188236</td>\n",
       "      <td>5.586729</td>\n",
       "      <td>3.26</td>\n",
       "      <td>34310.242831</td>\n",
       "    </tr>\n",
       "    <tr>\n",
       "      <th>4</th>\n",
       "      <td>59982.197226</td>\n",
       "      <td>5.040555</td>\n",
       "      <td>7.839388</td>\n",
       "      <td>4.23</td>\n",
       "      <td>26354.109472</td>\n",
       "    </tr>\n",
       "  </tbody>\n",
       "</table>\n",
       "</div>"
      ],
      "text/plain": [
       "   Avg. Area Income  Avg. Area House Age  Avg. Area Number of Rooms  \\\n",
       "0      79545.458574             5.682861                   7.009188   \n",
       "1      79248.642455             6.002900                   6.730821   \n",
       "2      61287.067179             5.865890                   8.512727   \n",
       "3      63345.240046             7.188236                   5.586729   \n",
       "4      59982.197226             5.040555                   7.839388   \n",
       "\n",
       "   Avg. Area Number of Bedrooms  Area Population  \n",
       "0                          4.09     23086.800503  \n",
       "1                          3.09     40173.072174  \n",
       "2                          5.13     36882.159400  \n",
       "3                          3.26     34310.242831  \n",
       "4                          4.23     26354.109472  "
      ]
     },
     "execution_count": 111,
     "metadata": {},
     "output_type": "execute_result"
    }
   ],
   "source": [
    "# print a few record of X\n",
    "# add code here\n",
    "X.head()"
   ]
  },
  {
   "cell_type": "code",
   "execution_count": 112,
   "metadata": {
    "id": "rQ9RkZ1-YNC-"
   },
   "outputs": [
    {
     "data": {
      "text/plain": [
       "0    1.059034e+06\n",
       "1    1.505891e+06\n",
       "2    1.058988e+06\n",
       "3    1.260617e+06\n",
       "4    6.309435e+05\n",
       "Name: Price, dtype: float64"
      ]
     },
     "execution_count": 112,
     "metadata": {},
     "output_type": "execute_result"
    }
   ],
   "source": [
    "# print a few record of y\n",
    "# add code here\n",
    "y.head()"
   ]
  },
  {
   "cell_type": "markdown",
   "metadata": {
    "id": "TvhXRmGyYNC_"
   },
   "source": [
    "### Test-train split"
   ]
  },
  {
   "cell_type": "markdown",
   "metadata": {
    "id": "A-I6E4XuYNC_"
   },
   "source": [
    "**Import train_test_split function from scikit-learn**"
   ]
  },
  {
   "cell_type": "code",
   "execution_count": 113,
   "metadata": {
    "id": "SJ2t9WC4YNC_"
   },
   "outputs": [],
   "source": [
    "# add code here\n",
    "from sklearn.model_selection import train_test_split"
   ]
  },
  {
   "cell_type": "markdown",
   "metadata": {
    "id": "wTHAGB7pYNC_"
   },
   "source": [
    "**Create X and y train and test splits in one command using a test size of 0.3 and a random seed**<br>\n",
    "They should be called X_train, X_test, y_train, y_test"
   ]
  },
  {
   "cell_type": "code",
   "execution_count": 114,
   "metadata": {
    "id": "gZWMHfPcYNC_"
   },
   "outputs": [],
   "source": [
    "# add code here\n",
    "X_train, X_test, y_train, y_test = train_test_split(X,y,test_size=0.3,random_state=0)"
   ]
  },
  {
   "cell_type": "markdown",
   "metadata": {
    "id": "xyfldBi7YNDA"
   },
   "source": [
    "**Print the size and shape of each of the train/test splits (it should be in the ratio as per test_size parameter above)**"
   ]
  },
  {
   "cell_type": "code",
   "execution_count": 115,
   "metadata": {
    "id": "PTMhv-xlYNDA"
   },
   "outputs": [
    {
     "name": "stdout",
     "output_type": "stream",
     "text": [
      "(3500, 5)\n",
      "(1500, 5)\n",
      "(3500,)\n",
      "(1500,)\n"
     ]
    }
   ],
   "source": [
    "# add code here\n",
    "print(X_train.shape)\n",
    "print(X_test.shape)\n",
    "print(y_train.shape)\n",
    "print(y_test.shape)"
   ]
  },
  {
   "cell_type": "markdown",
   "metadata": {
    "id": "ZBLwVsQIYNDA"
   },
   "source": [
    "### Model fit and training"
   ]
  },
  {
   "cell_type": "markdown",
   "metadata": {
    "id": "uNPr5Xb0YNDA"
   },
   "source": [
    "**Import LinearRegression and metrics from scikit-learn**"
   ]
  },
  {
   "cell_type": "code",
   "execution_count": 116,
   "metadata": {
    "id": "llBzX5-EYNDA"
   },
   "outputs": [],
   "source": [
    "# add code for imports here\n",
    "from sklearn.linear_model import LinearRegression\n",
    "from sklearn.metrics import r2_score,mean_squared_error\n",
    "\n",
    "# Create a Linear Regression object 'lm' by calling LinearRegression()\n",
    "# add code here\n",
    "lm = LinearRegression()\n"
   ]
  },
  {
   "cell_type": "markdown",
   "metadata": {
    "id": "rRzoOJXhYNDA"
   },
   "source": [
    "**Fit the model on to the instantiated object itself using the X_train and y_train created earlier. No need to create another variable**<br>\n",
    "Hint: lm.fit()"
   ]
  },
  {
   "cell_type": "code",
   "execution_count": 117,
   "metadata": {
    "id": "R9U1pME1YNDB"
   },
   "outputs": [
    {
     "data": {
      "text/plain": [
       "LinearRegression()"
      ]
     },
     "execution_count": 117,
     "metadata": {},
     "output_type": "execute_result"
    }
   ],
   "source": [
    "# add code here\n",
    "lm.fit(X_train,y_train)"
   ]
  },
  {
   "cell_type": "markdown",
   "metadata": {
    "id": "a7pxLfloYNDM"
   },
   "source": [
    "### Prediction, error estimate, and regression evaluation matrices"
   ]
  },
  {
   "cell_type": "markdown",
   "metadata": {
    "id": "rOXcTK_iYNDN"
   },
   "source": [
    "**Prediction using the lm model**<br>\n",
    "Use model.predict() on X_test and store them in a variable called \"predictions\".<br>\n",
    "Print type and size of the predictions. Size should be (1500,) if everything is correct."
   ]
  },
  {
   "cell_type": "code",
   "execution_count": 118,
   "metadata": {
    "id": "ef28Cy7pYNDP"
   },
   "outputs": [
    {
     "name": "stdout",
     "output_type": "stream",
     "text": [
      "<class 'numpy.ndarray'>\n"
     ]
    },
    {
     "data": {
      "text/plain": [
       "(1500,)"
      ]
     },
     "execution_count": 118,
     "metadata": {},
     "output_type": "execute_result"
    }
   ],
   "source": [
    "# add code here\n",
    "predictions = lm.predict(X_test)\n",
    "print(type(predictions))\n",
    "predictions.shape"
   ]
  },
  {
   "cell_type": "markdown",
   "metadata": {
    "id": "rPM6_2M5YNDQ"
   },
   "source": [
    "**Since we're done with our predictions, let's compare it with y_test and see how accurate our predictions are.<br> Plot a Scatter plot of predicted price and y_test set to see if the data fall on a 45 degree straight line**"
   ]
  },
  {
   "cell_type": "code",
   "execution_count": 119,
   "metadata": {
    "id": "2T7YcpWMYNDQ",
    "scrolled": false
   },
   "outputs": [
    {
     "data": {
      "text/plain": [
       "<AxesSubplot:ylabel='Price'>"
      ]
     },
     "execution_count": 119,
     "metadata": {},
     "output_type": "execute_result"
    },
    {
     "data": {
      "image/png": "[encoded data removed]",
      "text/plain": [
       "<Figure size 432x288 with 1 Axes>"
      ]
     },
     "metadata": {
      "needs_background": "light"
     },
     "output_type": "display_data"
    }
   ],
   "source": [
    "# add code here\n",
    "sns.scatterplot(x=predictions, y=y_test)"
   ]
  },
  {
   "cell_type": "markdown",
   "metadata": {
    "id": "LZtFB738YNDS"
   },
   "source": [
    "**Print the R-square value and round it to 3 decimal places**<br>\n",
    "Hint: sklearn metrics.r2_score"
   ]
  },
  {
   "cell_type": "code",
   "execution_count": 120,
   "metadata": {
    "id": "IGKgAkCDYNDS"
   },
   "outputs": [
    {
     "data": {
      "text/plain": [
       "0.9200757649412081"
      ]
     },
     "execution_count": 120,
     "metadata": {},
     "output_type": "execute_result"
    }
   ],
   "source": [
    "# add code here\n",
    "r2_score(y_test,predictions)"
   ]
  },
  {
   "cell_type": "code",
   "execution_count": 121,
   "metadata": {},
   "outputs": [
    {
     "name": "stdout",
     "output_type": "stream",
     "text": [
      "Mean Absolute Error: 81563.147\n",
      "Mean squared error: 10337337828.267\n"
     ]
    }
   ],
   "source": [
    "from sklearn.metrics import mean_squared_error,mean_absolute_error\n",
    "\n",
    "print('Mean Absolute Error: %.3f'% mean_absolute_error(y_test, predictions))\n",
    "print('Mean squared error: %.3f' % mean_squared_error(y_test,predictions))"
   ]
  },
  {
   "cell_type": "code",
   "execution_count": 122,
   "metadata": {},
   "outputs": [
    {
     "name": "stdout",
     "output_type": "stream",
     "text": [
      "mean of 5-fold cross validation:  0.9165695116513171\n",
      "mean of 10-fold cross validation:  0.9161953891058733\n"
     ]
    }
   ],
   "source": [
    "from sklearn.model_selection import cross_val_score\n",
    "\n",
    "five_fold_val = (cross_val_score(lm, X_train, y_train, cv=5))\n",
    "ten_fold_val = (cross_val_score(lm, X_train, y_train, cv=10))\n",
    "\n",
    "print(\"mean of 5-fold cross validation: \", np.mean(five_fold_val))\n",
    "print(\"mean of 10-fold cross validation: \", np.mean(ten_fold_val))"
   ]
  },
  {
   "cell_type": "markdown",
   "metadata": {
    "id": "2jroGWezYNDT"
   },
   "source": [
    "# 2) K-nearest neighbor Classification"
   ]
  },
  {
   "cell_type": "markdown",
   "metadata": {
    "id": "WHlWn6YXYNDU"
   },
   "source": [
    "### Import packages and dataset"
   ]
  },
  {
   "cell_type": "code",
   "execution_count": 123,
   "metadata": {
    "id": "xJAjpGbYYNDU"
   },
   "outputs": [],
   "source": [
    "# import numpy, pandas, matplotlib, seaborn\n",
    "# add code here\n",
    "import pandas as pd\n",
    "import numpy as np\n",
    "import matplotlib.pyplot as plt\n",
    "import seaborn as sns\n",
    "\n",
    "%matplotlib inline"
   ]
  },
  {
   "cell_type": "markdown",
   "metadata": {
    "id": "8RWyQOGrYNDV"
   },
   "source": [
    "**Read classified_data.txt using pandas and call head() to show first few records. Call this dataframe \"df\"** <br>\n",
    "Use \"index_col\" parameter to index the dataframe according to the first column. Otherwise, a new column would get created."
   ]
  },
  {
   "cell_type": "code",
   "execution_count": 124,
   "metadata": {
    "id": "0GDXB_9GYNDV"
   },
   "outputs": [
    {
     "data": {
      "text/html": [
       "<div>\n",
       "<style scoped>\n",
       "    .dataframe tbody tr th:only-of-type {\n",
       "        vertical-align: middle;\n",
       "    }\n",
       "\n",
       "    .dataframe tbody tr th {\n",
       "        vertical-align: top;\n",
       "    }\n",
       "\n",
       "    .dataframe thead th {\n",
       "        text-align: right;\n",
       "    }\n",
       "</style>\n",
       "<table border=\"1\" class=\"dataframe\">\n",
       "  <thead>\n",
       "    <tr style=\"text-align: right;\">\n",
       "      <th></th>\n",
       "      <th>WTT</th>\n",
       "      <th>PTI</th>\n",
       "      <th>EQW</th>\n",
       "      <th>SBI</th>\n",
       "      <th>LQE</th>\n",
       "      <th>QWG</th>\n",
       "      <th>FDJ</th>\n",
       "      <th>PJF</th>\n",
       "      <th>HQE</th>\n",
       "      <th>NXJ</th>\n",
       "      <th>TARGET CLASS</th>\n",
       "    </tr>\n",
       "  </thead>\n",
       "  <tbody>\n",
       "    <tr>\n",
       "      <th>0</th>\n",
       "      <td>0.913917</td>\n",
       "      <td>1.162073</td>\n",
       "      <td>0.567946</td>\n",
       "      <td>0.755464</td>\n",
       "      <td>0.780862</td>\n",
       "      <td>0.352608</td>\n",
       "      <td>0.759697</td>\n",
       "      <td>0.643798</td>\n",
       "      <td>0.879422</td>\n",
       "      <td>1.231409</td>\n",
       "      <td>1</td>\n",
       "    </tr>\n",
       "    <tr>\n",
       "      <th>1</th>\n",
       "      <td>0.635632</td>\n",
       "      <td>1.003722</td>\n",
       "      <td>0.535342</td>\n",
       "      <td>0.825645</td>\n",
       "      <td>0.924109</td>\n",
       "      <td>0.648450</td>\n",
       "      <td>0.675334</td>\n",
       "      <td>1.013546</td>\n",
       "      <td>0.621552</td>\n",
       "      <td>1.492702</td>\n",
       "      <td>0</td>\n",
       "    </tr>\n",
       "    <tr>\n",
       "      <th>2</th>\n",
       "      <td>0.721360</td>\n",
       "      <td>1.201493</td>\n",
       "      <td>0.921990</td>\n",
       "      <td>0.855595</td>\n",
       "      <td>1.526629</td>\n",
       "      <td>0.720781</td>\n",
       "      <td>1.626351</td>\n",
       "      <td>1.154483</td>\n",
       "      <td>0.957877</td>\n",
       "      <td>1.285597</td>\n",
       "      <td>0</td>\n",
       "    </tr>\n",
       "    <tr>\n",
       "      <th>3</th>\n",
       "      <td>1.234204</td>\n",
       "      <td>1.386726</td>\n",
       "      <td>0.653046</td>\n",
       "      <td>0.825624</td>\n",
       "      <td>1.142504</td>\n",
       "      <td>0.875128</td>\n",
       "      <td>1.409708</td>\n",
       "      <td>1.380003</td>\n",
       "      <td>1.522692</td>\n",
       "      <td>1.153093</td>\n",
       "      <td>1</td>\n",
       "    </tr>\n",
       "    <tr>\n",
       "      <th>4</th>\n",
       "      <td>1.279491</td>\n",
       "      <td>0.949750</td>\n",
       "      <td>0.627280</td>\n",
       "      <td>0.668976</td>\n",
       "      <td>1.232537</td>\n",
       "      <td>0.703727</td>\n",
       "      <td>1.115596</td>\n",
       "      <td>0.646691</td>\n",
       "      <td>1.463812</td>\n",
       "      <td>1.419167</td>\n",
       "      <td>1</td>\n",
       "    </tr>\n",
       "  </tbody>\n",
       "</table>\n",
       "</div>"
      ],
      "text/plain": [
       "        WTT       PTI       EQW       SBI       LQE       QWG       FDJ  \\\n",
       "0  0.913917  1.162073  0.567946  0.755464  0.780862  0.352608  0.759697   \n",
       "1  0.635632  1.003722  0.535342  0.825645  0.924109  0.648450  0.675334   \n",
       "2  0.721360  1.201493  0.921990  0.855595  1.526629  0.720781  1.626351   \n",
       "3  1.234204  1.386726  0.653046  0.825624  1.142504  0.875128  1.409708   \n",
       "4  1.279491  0.949750  0.627280  0.668976  1.232537  0.703727  1.115596   \n",
       "\n",
       "        PJF       HQE       NXJ  TARGET CLASS  \n",
       "0  0.643798  0.879422  1.231409             1  \n",
       "1  1.013546  0.621552  1.492702             0  \n",
       "2  1.154483  0.957877  1.285597             0  \n",
       "3  1.380003  1.522692  1.153093             1  \n",
       "4  0.646691  1.463812  1.419167             1  "
      ]
     },
     "execution_count": 124,
     "metadata": {},
     "output_type": "execute_result"
    }
   ],
   "source": [
    "# add code here\n",
    "df = pd.read_csv('classified_data.txt', sep=\",\",index_col=0, header=0)\n",
    "df.head()\n"
   ]
  },
  {
   "cell_type": "markdown",
   "metadata": {
    "id": "QPOM6rXpYNDW"
   },
   "source": [
    "### Exloratory Data Analysis (EDA)"
   ]
  },
  {
   "cell_type": "markdown",
   "metadata": {
    "id": "2J-RhwE5YNDW"
   },
   "source": [
    "**'info()' method to check the data types and number**"
   ]
  },
  {
   "cell_type": "code",
   "execution_count": 125,
   "metadata": {
    "id": "LQ27teSgYNDW"
   },
   "outputs": [
    {
     "name": "stdout",
     "output_type": "stream",
     "text": [
      "<class 'pandas.core.frame.DataFrame'>\n",
      "Int64Index: 1000 entries, 0 to 999\n",
      "Data columns (total 11 columns):\n",
      " #   Column        Non-Null Count  Dtype  \n",
      "---  ------        --------------  -----  \n",
      " 0   WTT           1000 non-null   float64\n",
      " 1   PTI           1000 non-null   float64\n",
      " 2   EQW           1000 non-null   float64\n",
      " 3   SBI           1000 non-null   float64\n",
      " 4   LQE           1000 non-null   float64\n",
      " 5   QWG           1000 non-null   float64\n",
      " 6   FDJ           1000 non-null   float64\n",
      " 7   PJF           1000 non-null   float64\n",
      " 8   HQE           1000 non-null   float64\n",
      " 9   NXJ           1000 non-null   float64\n",
      " 10  TARGET CLASS  1000 non-null   int64  \n",
      "dtypes: float64(10), int64(1)\n",
      "memory usage: 93.8 KB\n"
     ]
    }
   ],
   "source": [
    "# add code here\n",
    "df.info()"
   ]
  },
  {
   "cell_type": "markdown",
   "metadata": {
    "id": "lwSF-PxbYNDX"
   },
   "source": [
    "**Get the statistical summary of the data set** <br>\n",
    "Hint: describe()"
   ]
  },
  {
   "cell_type": "code",
   "execution_count": 126,
   "metadata": {
    "id": "g7XvMQ5eYNDX"
   },
   "outputs": [
    {
     "data": {
      "text/html": [
       "<div>\n",
       "<style scoped>\n",
       "    .dataframe tbody tr th:only-of-type {\n",
       "        vertical-align: middle;\n",
       "    }\n",
       "\n",
       "    .dataframe tbody tr th {\n",
       "        vertical-align: top;\n",
       "    }\n",
       "\n",
       "    .dataframe thead th {\n",
       "        text-align: right;\n",
       "    }\n",
       "</style>\n",
       "<table border=\"1\" class=\"dataframe\">\n",
       "  <thead>\n",
       "    <tr style=\"text-align: right;\">\n",
       "      <th></th>\n",
       "      <th>WTT</th>\n",
       "      <th>PTI</th>\n",
       "      <th>EQW</th>\n",
       "      <th>SBI</th>\n",
       "      <th>LQE</th>\n",
       "      <th>QWG</th>\n",
       "      <th>FDJ</th>\n",
       "      <th>PJF</th>\n",
       "      <th>HQE</th>\n",
       "      <th>NXJ</th>\n",
       "      <th>TARGET CLASS</th>\n",
       "    </tr>\n",
       "  </thead>\n",
       "  <tbody>\n",
       "    <tr>\n",
       "      <th>count</th>\n",
       "      <td>1000.000000</td>\n",
       "      <td>1000.000000</td>\n",
       "      <td>1000.000000</td>\n",
       "      <td>1000.000000</td>\n",
       "      <td>1000.000000</td>\n",
       "      <td>1000.000000</td>\n",
       "      <td>1000.000000</td>\n",
       "      <td>1000.000000</td>\n",
       "      <td>1000.000000</td>\n",
       "      <td>1000.000000</td>\n",
       "      <td>1000.00000</td>\n",
       "    </tr>\n",
       "    <tr>\n",
       "      <th>mean</th>\n",
       "      <td>0.949682</td>\n",
       "      <td>1.114303</td>\n",
       "      <td>0.834127</td>\n",
       "      <td>0.682099</td>\n",
       "      <td>1.032336</td>\n",
       "      <td>0.943534</td>\n",
       "      <td>0.963422</td>\n",
       "      <td>1.071960</td>\n",
       "      <td>1.158251</td>\n",
       "      <td>1.362725</td>\n",
       "      <td>0.50000</td>\n",
       "    </tr>\n",
       "    <tr>\n",
       "      <th>std</th>\n",
       "      <td>0.289635</td>\n",
       "      <td>0.257085</td>\n",
       "      <td>0.291554</td>\n",
       "      <td>0.229645</td>\n",
       "      <td>0.243413</td>\n",
       "      <td>0.256121</td>\n",
       "      <td>0.255118</td>\n",
       "      <td>0.288982</td>\n",
       "      <td>0.293738</td>\n",
       "      <td>0.204225</td>\n",
       "      <td>0.50025</td>\n",
       "    </tr>\n",
       "    <tr>\n",
       "      <th>min</th>\n",
       "      <td>0.174412</td>\n",
       "      <td>0.441398</td>\n",
       "      <td>0.170924</td>\n",
       "      <td>0.045027</td>\n",
       "      <td>0.315307</td>\n",
       "      <td>0.262389</td>\n",
       "      <td>0.295228</td>\n",
       "      <td>0.299476</td>\n",
       "      <td>0.365157</td>\n",
       "      <td>0.639693</td>\n",
       "      <td>0.00000</td>\n",
       "    </tr>\n",
       "    <tr>\n",
       "      <th>25%</th>\n",
       "      <td>0.742358</td>\n",
       "      <td>0.942071</td>\n",
       "      <td>0.615451</td>\n",
       "      <td>0.515010</td>\n",
       "      <td>0.870855</td>\n",
       "      <td>0.761064</td>\n",
       "      <td>0.784407</td>\n",
       "      <td>0.866306</td>\n",
       "      <td>0.934340</td>\n",
       "      <td>1.222623</td>\n",
       "      <td>0.00000</td>\n",
       "    </tr>\n",
       "    <tr>\n",
       "      <th>50%</th>\n",
       "      <td>0.940475</td>\n",
       "      <td>1.118486</td>\n",
       "      <td>0.813264</td>\n",
       "      <td>0.676835</td>\n",
       "      <td>1.035824</td>\n",
       "      <td>0.941502</td>\n",
       "      <td>0.945333</td>\n",
       "      <td>1.065500</td>\n",
       "      <td>1.165556</td>\n",
       "      <td>1.375368</td>\n",
       "      <td>0.50000</td>\n",
       "    </tr>\n",
       "    <tr>\n",
       "      <th>75%</th>\n",
       "      <td>1.163295</td>\n",
       "      <td>1.307904</td>\n",
       "      <td>1.028340</td>\n",
       "      <td>0.834317</td>\n",
       "      <td>1.198270</td>\n",
       "      <td>1.123060</td>\n",
       "      <td>1.134852</td>\n",
       "      <td>1.283156</td>\n",
       "      <td>1.383173</td>\n",
       "      <td>1.504832</td>\n",
       "      <td>1.00000</td>\n",
       "    </tr>\n",
       "    <tr>\n",
       "      <th>max</th>\n",
       "      <td>1.721779</td>\n",
       "      <td>1.833757</td>\n",
       "      <td>1.722725</td>\n",
       "      <td>1.634884</td>\n",
       "      <td>1.650050</td>\n",
       "      <td>1.666902</td>\n",
       "      <td>1.713342</td>\n",
       "      <td>1.785420</td>\n",
       "      <td>1.885690</td>\n",
       "      <td>1.893950</td>\n",
       "      <td>1.00000</td>\n",
       "    </tr>\n",
       "  </tbody>\n",
       "</table>\n",
       "</div>"
      ],
      "text/plain": [
       "               WTT          PTI          EQW          SBI          LQE  \\\n",
       "count  1000.000000  1000.000000  1000.000000  1000.000000  1000.000000   \n",
       "mean      0.949682     1.114303     0.834127     0.682099     1.032336   \n",
       "std       0.289635     0.257085     0.291554     0.229645     0.243413   \n",
       "min       0.174412     0.441398     0.170924     0.045027     0.315307   \n",
       "25%       0.742358     0.942071     0.615451     0.515010     0.870855   \n",
       "50%       0.940475     1.118486     0.813264     0.676835     1.035824   \n",
       "75%       1.163295     1.307904     1.028340     0.834317     1.198270   \n",
       "max       1.721779     1.833757     1.722725     1.634884     1.650050   \n",
       "\n",
       "               QWG          FDJ          PJF          HQE          NXJ  \\\n",
       "count  1000.000000  1000.000000  1000.000000  1000.000000  1000.000000   \n",
       "mean      0.943534     0.963422     1.071960     1.158251     1.362725   \n",
       "std       0.256121     0.255118     0.288982     0.293738     0.204225   \n",
       "min       0.262389     0.295228     0.299476     0.365157     0.639693   \n",
       "25%       0.761064     0.784407     0.866306     0.934340     1.222623   \n",
       "50%       0.941502     0.945333     1.065500     1.165556     1.375368   \n",
       "75%       1.123060     1.134852     1.283156     1.383173     1.504832   \n",
       "max       1.666902     1.713342     1.785420     1.885690     1.893950   \n",
       "\n",
       "       TARGET CLASS  \n",
       "count    1000.00000  \n",
       "mean        0.50000  \n",
       "std         0.50025  \n",
       "min         0.00000  \n",
       "25%         0.00000  \n",
       "50%         0.50000  \n",
       "75%         1.00000  \n",
       "max         1.00000  "
      ]
     },
     "execution_count": 126,
     "metadata": {},
     "output_type": "execute_result"
    }
   ],
   "source": [
    "# add code here\n",
    "df.describe()"
   ]
  },
  {
   "cell_type": "markdown",
   "metadata": {
    "id": "LDYWYnvwYNDY"
   },
   "source": [
    "### Check the spread of the features"
   ]
  },
  {
   "cell_type": "markdown",
   "metadata": {
    "id": "Q0hgD8wlYNDY"
   },
   "source": [
    "**Store the column names in a list**"
   ]
  },
  {
   "cell_type": "code",
   "execution_count": 127,
   "metadata": {
    "id": "rxAYeNSzYNDY"
   },
   "outputs": [
    {
     "name": "stdout",
     "output_type": "stream",
     "text": [
      "Index(['WTT', 'PTI', 'EQW', 'SBI', 'LQE', 'QWG', 'FDJ', 'PJF', 'HQE', 'NXJ',\n",
      "       'TARGET CLASS'],\n",
      "      dtype='object')\n"
     ]
    }
   ],
   "source": [
    "# add code here\n",
    "cols = df.columns\n",
    "print(cols)"
   ]
  },
  {
   "cell_type": "markdown",
   "metadata": {
    "id": "N3g0ISUGYNDZ"
   },
   "source": [
    "**Run a 'for' loop to draw boxplots of all the features for '0' and '1' TARGET CLASS**<br>\n",
    "Hint: Loop through each of the 10 features and draw a separate boxplot. You should have 10 boxplots in total. <br>\n",
    "Refer seaborn boxplot() "
   ]
  },
  {
   "cell_type": "code",
   "execution_count": 128,
   "metadata": {
    "id": "kORQOo9gYNDZ",
    "scrolled": false
   },
   "outputs": [
    {
     "data": {
      "image/png": "[encoded data removed]",
      "text/plain": [
       "<Figure size 432x288 with 1 Axes>"
      ]
     },
     "metadata": {
      "needs_background": "light"
     },
     "output_type": "display_data"
    },
    {
     "data": {
      "image/png": "[encoded data removed]",
      "text/plain": [
       "<Figure size 432x288 with 1 Axes>"
      ]
     },
     "metadata": {
      "needs_background": "light"
     },
     "output_type": "display_data"
    },
    {
     "data": {
      "image/png": "[encoded data removed]",
      "text/plain": [
       "<Figure size 432x288 with 1 Axes>"
      ]
     },
     "metadata": {
      "needs_background": "light"
     },
     "output_type": "display_data"
    },
    {
     "data": {
      "image/png": "[encoded data removed]",
      "text/plain": [
       "<Figure size 432x288 with 1 Axes>"
      ]
     },
     "metadata": {
      "needs_background": "light"
     },
     "output_type": "display_data"
    },
    {
     "data": {
      "image/png": "[encoded data removed]",
      "text/plain": [
       "<Figure size 432x288 with 1 Axes>"
      ]
     },
     "metadata": {
      "needs_background": "light"
     },
     "output_type": "display_data"
    },
    {
     "data": {
      "image/png": "[encoded data removed]",
      "text/plain": [
       "<Figure size 432x288 with 1 Axes>"
      ]
     },
     "metadata": {
      "needs_background": "light"
     },
     "output_type": "display_data"
    },
    {
     "data": {
      "image/png": "[encoded data removed]",
      "text/plain": [
       "<Figure size 432x288 with 1 Axes>"
      ]
     },
     "metadata": {
      "needs_background": "light"
     },
     "output_type": "display_data"
    },
    {
     "data": {
      "image/png": "[encoded data removed]",
      "text/plain": [
       "<Figure size 432x288 with 1 Axes>"
      ]
     },
     "metadata": {
      "needs_background": "light"
     },
     "output_type": "display_data"
    },
    {
     "data": {
      "image/png": "[encoded data removed]",
      "text/plain": [
       "<Figure size 432x288 with 1 Axes>"
      ]
     },
     "metadata": {
      "needs_background": "light"
     },
     "output_type": "display_data"
    },
    {
     "data": {
      "image/png": "[encoded data removed]",
      "text/plain": [
       "<Figure size 432x288 with 1 Axes>"
      ]
     },
     "metadata": {
      "needs_background": "light"
     },
     "output_type": "display_data"
    }
   ],
   "source": [
    "# add code here\n",
    "for i in range(len(cols)-1):\n",
    "    plt.figure()\n",
    "    sns.boxplot(x='TARGET CLASS',y=cols[i],data=df)"
   ]
  },
  {
   "cell_type": "markdown",
   "metadata": {
    "id": "OIFaYgUWYNDa"
   },
   "source": [
    "### Standardize the features using sklearn.preprocessing \n",
    "Why should we standardize?<br>\n",
    "Variables that are measured at different scales do not contribute equally to the model fitting & model learned function and might end up creating a bias. Thus, to deal with this potential problem feature-wise standardized (μ=0, σ=1) is usually used prior to model fitting.<br>\n",
    "<br>\n",
    "Go through this link for a better understanding:<br>\n",
    "https://towardsdatascience.com/how-and-why-to-standardize-your-data-996926c2c832"
   ]
  },
  {
   "cell_type": "markdown",
   "metadata": {
    "id": "EzMEGA9fYNDa"
   },
   "source": [
    "**import StandardScaler from Sklearn and instantiate it to a variable called \"scaler\"**"
   ]
  },
  {
   "cell_type": "code",
   "execution_count": 129,
   "metadata": {
    "id": "HVWU81uvYNDb"
   },
   "outputs": [],
   "source": [
    "# add code here\n",
    "from sklearn.preprocessing import StandardScaler\n",
    "scaler = StandardScaler()"
   ]
  },
  {
   "cell_type": "markdown",
   "metadata": {
    "id": "HlKUjW9XYNDb"
   },
   "source": [
    "**Fit only the features data to this scaler (leaving the TARGET CLASS column out) and then transform**<br>\n",
    "Hint: scaler.fit() and scaler.transform()"
   ]
  },
  {
   "cell_type": "code",
   "execution_count": 130,
   "metadata": {
    "id": "MCbkapp4YNDb"
   },
   "outputs": [],
   "source": [
    "# add code here\n",
    "X = df.drop([\"TARGET CLASS\"],axis=1)\n",
    "scaler.fit(X)\n",
    "scaled_data = scaler.transform(X)"
   ]
  },
  {
   "cell_type": "markdown",
   "metadata": {
    "id": "uZTbl8UBYNDc"
   },
   "source": [
    "**Scaler.transform() will return an array. We need to convert this into a dataframe. Do this and add the column names to the dataframe. Call this new dataframe as \"df_feat\". Call head() on this df**<br>\n",
    "Note: The final dataframe will have the initial columns except the \"TARGET CLASS\"."
   ]
  },
  {
   "cell_type": "code",
   "execution_count": 131,
   "metadata": {
    "id": "m6DnntqtYNDc"
   },
   "outputs": [
    {
     "data": {
      "text/html": [
       "<div>\n",
       "<style scoped>\n",
       "    .dataframe tbody tr th:only-of-type {\n",
       "        vertical-align: middle;\n",
       "    }\n",
       "\n",
       "    .dataframe tbody tr th {\n",
       "        vertical-align: top;\n",
       "    }\n",
       "\n",
       "    .dataframe thead th {\n",
       "        text-align: right;\n",
       "    }\n",
       "</style>\n",
       "<table border=\"1\" class=\"dataframe\">\n",
       "  <thead>\n",
       "    <tr style=\"text-align: right;\">\n",
       "      <th></th>\n",
       "      <th>WTT</th>\n",
       "      <th>PTI</th>\n",
       "      <th>EQW</th>\n",
       "      <th>SBI</th>\n",
       "      <th>LQE</th>\n",
       "      <th>QWG</th>\n",
       "      <th>FDJ</th>\n",
       "      <th>PJF</th>\n",
       "      <th>HQE</th>\n",
       "      <th>NXJ</th>\n",
       "    </tr>\n",
       "  </thead>\n",
       "  <tbody>\n",
       "    <tr>\n",
       "      <th>0</th>\n",
       "      <td>-0.123542</td>\n",
       "      <td>0.185907</td>\n",
       "      <td>-0.913431</td>\n",
       "      <td>0.319629</td>\n",
       "      <td>-1.033637</td>\n",
       "      <td>-2.308375</td>\n",
       "      <td>-0.798951</td>\n",
       "      <td>-1.482368</td>\n",
       "      <td>-0.949719</td>\n",
       "      <td>-0.643314</td>\n",
       "    </tr>\n",
       "    <tr>\n",
       "      <th>1</th>\n",
       "      <td>-1.084836</td>\n",
       "      <td>-0.430348</td>\n",
       "      <td>-1.025313</td>\n",
       "      <td>0.625388</td>\n",
       "      <td>-0.444847</td>\n",
       "      <td>-1.152706</td>\n",
       "      <td>-1.129797</td>\n",
       "      <td>-0.202240</td>\n",
       "      <td>-1.828051</td>\n",
       "      <td>0.636759</td>\n",
       "    </tr>\n",
       "    <tr>\n",
       "      <th>2</th>\n",
       "      <td>-0.788702</td>\n",
       "      <td>0.339318</td>\n",
       "      <td>0.301511</td>\n",
       "      <td>0.755873</td>\n",
       "      <td>2.031693</td>\n",
       "      <td>-0.870156</td>\n",
       "      <td>2.599818</td>\n",
       "      <td>0.285707</td>\n",
       "      <td>-0.682494</td>\n",
       "      <td>-0.377850</td>\n",
       "    </tr>\n",
       "    <tr>\n",
       "      <th>3</th>\n",
       "      <td>0.982841</td>\n",
       "      <td>1.060193</td>\n",
       "      <td>-0.621399</td>\n",
       "      <td>0.625299</td>\n",
       "      <td>0.452820</td>\n",
       "      <td>-0.267220</td>\n",
       "      <td>1.750208</td>\n",
       "      <td>1.066491</td>\n",
       "      <td>1.241325</td>\n",
       "      <td>-1.026987</td>\n",
       "    </tr>\n",
       "    <tr>\n",
       "      <th>4</th>\n",
       "      <td>1.139275</td>\n",
       "      <td>-0.640392</td>\n",
       "      <td>-0.709819</td>\n",
       "      <td>-0.057175</td>\n",
       "      <td>0.822886</td>\n",
       "      <td>-0.936773</td>\n",
       "      <td>0.596782</td>\n",
       "      <td>-1.472352</td>\n",
       "      <td>1.040772</td>\n",
       "      <td>0.276510</td>\n",
       "    </tr>\n",
       "  </tbody>\n",
       "</table>\n",
       "</div>"
      ],
      "text/plain": [
       "        WTT       PTI       EQW       SBI       LQE       QWG       FDJ  \\\n",
       "0 -0.123542  0.185907 -0.913431  0.319629 -1.033637 -2.308375 -0.798951   \n",
       "1 -1.084836 -0.430348 -1.025313  0.625388 -0.444847 -1.152706 -1.129797   \n",
       "2 -0.788702  0.339318  0.301511  0.755873  2.031693 -0.870156  2.599818   \n",
       "3  0.982841  1.060193 -0.621399  0.625299  0.452820 -0.267220  1.750208   \n",
       "4  1.139275 -0.640392 -0.709819 -0.057175  0.822886 -0.936773  0.596782   \n",
       "\n",
       "        PJF       HQE       NXJ  \n",
       "0 -1.482368 -0.949719 -0.643314  \n",
       "1 -0.202240 -1.828051  0.636759  \n",
       "2  0.285707 -0.682494 -0.377850  \n",
       "3  1.066491  1.241325 -1.026987  \n",
       "4 -1.472352  1.040772  0.276510  "
      ]
     },
     "execution_count": 131,
     "metadata": {},
     "output_type": "execute_result"
    }
   ],
   "source": [
    "# add code here\n",
    "df_feat = pd.DataFrame(data=scaled_data,columns = X.columns )\n",
    "df_feat.head()"
   ]
  },
  {
   "cell_type": "markdown",
   "metadata": {
    "id": "vWiXgySxYNDd"
   },
   "source": [
    "### Train/Test split"
   ]
  },
  {
   "cell_type": "markdown",
   "metadata": {
    "id": "xgJQPOfXYNDd"
   },
   "source": [
    "**Set X to be equal to df_feat and set y accordingly. As you know, X contains our training features and y contains our target.**<br>\n",
    "Hint: y can be taken directly from the initaial dataframe \"df\""
   ]
  },
  {
   "cell_type": "code",
   "execution_count": 132,
   "metadata": {
    "id": "W94s-2-jYNDd"
   },
   "outputs": [],
   "source": [
    "# add code here\n",
    "X = df_feat\n",
    "y = df[\"TARGET CLASS\"]"
   ]
  },
  {
   "cell_type": "markdown",
   "metadata": {
    "id": "5tyZdg0nYNDd"
   },
   "source": [
    "**Import train_test_split function from scikit-learn**<br>\n",
    "**Create X and y train and test splits in one command using a test size of 0.3 and a random seed**<br>\n",
    "They should be called X_train, X_test, y_train, y_test"
   ]
  },
  {
   "cell_type": "code",
   "execution_count": 133,
   "metadata": {
    "id": "wiNlmT2IYNDe"
   },
   "outputs": [],
   "source": [
    "# add code here\n",
    "X_train, X_test, y_train, y_test = train_test_split(X,y,test_size=0.3,random_state=0)"
   ]
  },
  {
   "cell_type": "markdown",
   "metadata": {
    "id": "N6tS1j4iYNDe"
   },
   "source": [
    "### Model fit and training"
   ]
  },
  {
   "cell_type": "markdown",
   "metadata": {
    "id": "7A_LeaNAYNDe"
   },
   "source": [
    "**import KNeighborsClassifier from sklearn and initialize it with neighbours = 1. Fit this on X_train and y_train**"
   ]
  },
  {
   "cell_type": "code",
   "execution_count": 134,
   "metadata": {
    "id": "kaSJJTYDYNDf"
   },
   "outputs": [
    {
     "data": {
      "text/plain": [
       "KNeighborsClassifier(n_neighbors=1)"
      ]
     },
     "execution_count": 134,
     "metadata": {},
     "output_type": "execute_result"
    }
   ],
   "source": [
    "# add code here\n",
    "from sklearn.neighbors import KNeighborsClassifier\n",
    "classifier = KNeighborsClassifier(n_neighbors=1)\n",
    "classifier.fit(X_train,y_train)"
   ]
  },
  {
   "cell_type": "markdown",
   "metadata": {
    "id": "eAEVkt6LYNDf"
   },
   "source": [
    "**Using this fitted model, predict on X_test. Store these predictions in variable called pred.**"
   ]
  },
  {
   "cell_type": "code",
   "execution_count": 135,
   "metadata": {
    "id": "rsnjjXaMYNDf"
   },
   "outputs": [],
   "source": [
    "# add code here\n",
    "pred = classifier.predict(X_test)"
   ]
  },
  {
   "cell_type": "markdown",
   "metadata": {
    "id": "7IcCOyuOYNDf"
   },
   "source": [
    "**Let us check how correct these predictions are.<br>\n",
    "Print a classification report of y_test and pred**<br>\n",
    "Hint: sklearn classification_report"
   ]
  },
  {
   "cell_type": "code",
   "execution_count": 136,
   "metadata": {
    "id": "HC-20WeuYNDg"
   },
   "outputs": [
    {
     "name": "stdout",
     "output_type": "stream",
     "text": [
      "              precision    recall  f1-score   support\n",
      "\n",
      "           0       0.89      0.89      0.89       140\n",
      "           1       0.91      0.90      0.90       160\n",
      "\n",
      "    accuracy                           0.90       300\n",
      "   macro avg       0.90      0.90      0.90       300\n",
      "weighted avg       0.90      0.90      0.90       300\n",
      "\n"
     ]
    }
   ],
   "source": [
    "# add code here\n",
    "from sklearn.metrics import classification_report\n",
    "result = classification_report(y_test, pred)\n",
    "print(result)"
   ]
  },
  {
   "cell_type": "markdown",
   "metadata": {
    "id": "exGvX0C5YNDg"
   },
   "source": [
    "**Print the accuracy using numpy and round it to 3 decimal places.**"
   ]
  },
  {
   "cell_type": "code",
   "execution_count": 137,
   "metadata": {
    "id": "sSoOx6MiYNDg"
   },
   "outputs": [
    {
     "name": "stdout",
     "output_type": "stream",
     "text": [
      "accuracy: 0.897\n"
     ]
    }
   ],
   "source": [
    "# add code here\n",
    "from sklearn.metrics import accuracy_score\n",
    "\n",
    "print(\"accuracy: %.3f\" %accuracy_score(y_test,pred))"
   ]
  },
  {
   "cell_type": "markdown",
   "metadata": {
    "id": "UWjjrBrbYNDh"
   },
   "source": [
    "### Choosing optimal 'k'"
   ]
  },
  {
   "cell_type": "markdown",
   "metadata": {
    "id": "IT_5lBDVYNDh"
   },
   "source": [
    "**Above, we chose n_neighbours to be equal to 1. Choosing a small value of K leads to unstable decision boundaries. <br>\n",
    "We need to select n_neighbours by calculating the accuracy for every value of n from 1 to 60 and then choosing the one which gives the highest accuracy.**"
   ]
  },
  {
   "cell_type": "code",
   "execution_count": 138,
   "metadata": {
    "id": "xPKm3inZYNDh"
   },
   "outputs": [],
   "source": [
    "# Do the same as we did above, but this time make a loop from n = 1 to n = 60 and append the accuracy\n",
    "# for each in a list\n",
    "def k_neighbor_model(n,X_train,y_train,X_test,y_test):\n",
    "    classifier = KNeighborsClassifier(n_neighbors=n)\n",
    "    classifier.fit(X_train,y_train)\n",
    "    pred = classifier.predict(X_test)\n",
    "    result = classification_report(y_test, pred,output_dict=True)\n",
    "    return result[\"accuracy\"]\n",
    "# add code here\n",
    "accuracies = []\n",
    "for i in range(1,61):\n",
    "    classifier = KNeighborsClassifier(n_neighbors=i)\n",
    "    classifier.fit(X_train,y_train)\n",
    "    pred = classifier.predict(X_test)\n",
    "    result = classification_report(y_test, pred,output_dict=True)\n",
    "    accuracies.append(round(result[\"accuracy\"],3))"
   ]
  },
  {
   "cell_type": "markdown",
   "metadata": {
    "id": "5LUl_JMUYNDi"
   },
   "source": [
    "**Plot a graph of K value vs Accuracy**"
   ]
  },
  {
   "cell_type": "code",
   "execution_count": 139,
   "metadata": {
    "id": "DvsbINxsYNDi"
   },
   "outputs": [
    {
     "data": {
      "text/plain": [
       "[<matplotlib.lines.Line2D at 0x142c55dd340>]"
      ]
     },
     "execution_count": 139,
     "metadata": {},
     "output_type": "execute_result"
    },
    {
     "data": {
      "image/png": "[encoded data removed]",
      "text/plain": [
       "<Figure size 1440x576 with 1 Axes>"
      ]
     },
     "metadata": {
      "needs_background": "light"
     },
     "output_type": "display_data"
    }
   ],
   "source": [
    "# add code here\n",
    "# print(max(accuracies))\n",
    "# print(np.arange(1,61))\n",
    "\n",
    "fig = plt.figure(figsize = (20,8))\n",
    "plt.xticks(np.arange(1,61))\n",
    "plt.plot(np.arange(1,61),accuracies)\n"
   ]
  },
  {
   "cell_type": "markdown",
   "metadata": {
    "id": "KO4KK1WEYNDi"
   },
   "source": [
    "**Choose the best value of n_neighbours and give a reason why and also print the accuracy**"
   ]
  },
  {
   "cell_type": "code",
   "execution_count": 140,
   "metadata": {
    "id": "SWf5hh-jYNDj"
   },
   "outputs": [
    {
     "name": "stdout",
     "output_type": "stream",
     "text": [
      "argmax returns the index of the highest value in the array, therefore we add 1 to the result.\n",
      "The best value of n_neighbours is 55 with accuracy: 0.94\n"
     ]
    }
   ],
   "source": [
    "# add code here \n",
    "print(\"argmax returns the index of the highest value in the array, therefore we add 1 to the result.\")\n",
    "print(\"The best value of n_neighbours is \" + str(np.argmax(accuracies)+1) \n",
    "      + \" with accuracy: \" + str(accuracies[np.argmax(accuracies)]))\n"
   ]
  },
  {
   "cell_type": "code",
   "execution_count": 141,
   "metadata": {
    "id": "8gIMbzLJd8bu"
   },
   "outputs": [],
   "source": [
    "from sklearn import svm\n",
    "from sklearn.ensemble import RandomForestClassifier\n",
    "from sklearn.linear_model import LogisticRegression\n",
    "from sklearn.tree import DecisionTreeClassifier"
   ]
  },
  {
   "cell_type": "code",
   "execution_count": 142,
   "metadata": {},
   "outputs": [],
   "source": [
    "model_params = {\n",
    "    'svm':{\n",
    "      'model':svm.SVC(gamma='auto'),\n",
    "      'params':{\n",
    "          'C':[1,10,20],\n",
    "          'kernel':['rbf','linear']\n",
    "    }\n",
    "    },\n",
    "    'random_forest':{\n",
    "        'model':RandomForestClassifier(),\n",
    "        'params':{\n",
    "            'n_estimators':[10,20,30,40,50,60,70,80,90,100],\n",
    "            'max_depth': [2,4,6,8,10],\n",
    "            'min_samples_split': [2,4,6,8,10]\n",
    "        }\n",
    "    },\n",
    "    'logistic_regression':{\n",
    "        'model':LogisticRegression(multi_class='auto'),\n",
    "        'params':{\n",
    "            'solver':['newton-cg', 'lbfgs', 'liblinear', 'sag', 'saga'],\n",
    "            'C':[1,5,10],\n",
    "            'penalty':['l1', 'l2', 'elasticnet'],\n",
    "        }\n",
    "    },\n",
    "    'Decision_tree':{\n",
    "        'model':DecisionTreeClassifier(random_state=10),\n",
    "        'params':{\n",
    "            'criterion':[\"gini\",\"entropy\"],\n",
    "            'max_depth':[2,4,6,8,10],\n",
    "            'splitter':[\"best\", \"random\"],\n",
    "            'min_samples_split': [2,4,6,8,10]\n",
    "        }\n",
    "    }\n",
    "    \n",
    "}"
   ]
  },
  {
   "cell_type": "code",
   "execution_count": 143,
   "metadata": {},
   "outputs": [
    {
     "name": "stderr",
     "output_type": "stream",
     "text": [
      "C:\\Users\\admin\\anaconda3\\envs\\bankruptcy\\lib\\site-packages\\sklearn\\model_selection\\_validation.py:548: FitFailedWarning: Estimator fit failed. The score on this train-test partition for these parameters will be set to nan. Details: \n",
      "Traceback (most recent call last):\n",
      "  File \"C:\\Users\\admin\\anaconda3\\envs\\bankruptcy\\lib\\site-packages\\sklearn\\model_selection\\_validation.py\", line 531, in _fit_and_score\n",
      "    estimator.fit(X_train, y_train, **fit_params)\n",
      "  File \"C:\\Users\\admin\\anaconda3\\envs\\bankruptcy\\lib\\site-packages\\sklearn\\linear_model\\_logistic.py\", line 1304, in fit\n",
      "    solver = _check_solver(self.solver, self.penalty, self.dual)\n",
      "  File \"C:\\Users\\admin\\anaconda3\\envs\\bankruptcy\\lib\\site-packages\\sklearn\\linear_model\\_logistic.py\", line 442, in _check_solver\n",
      "    raise ValueError(\"Solver %s supports only 'l2' or 'none' penalties, \"\n",
      "ValueError: Solver newton-cg supports only 'l2' or 'none' penalties, got l1 penalty.\n",
      "\n",
      "  warnings.warn(\"Estimator fit failed. The score on this train-test\"\n",
      "C:\\Users\\admin\\anaconda3\\envs\\bankruptcy\\lib\\site-packages\\sklearn\\model_selection\\_validation.py:548: FitFailedWarning: Estimator fit failed. The score on this train-test partition for these parameters will be set to nan. Details: \n",
      "Traceback (most recent call last):\n",
      "  File \"C:\\Users\\admin\\anaconda3\\envs\\bankruptcy\\lib\\site-packages\\sklearn\\model_selection\\_validation.py\", line 531, in _fit_and_score\n",
      "    estimator.fit(X_train, y_train, **fit_params)\n",
      "  File \"C:\\Users\\admin\\anaconda3\\envs\\bankruptcy\\lib\\site-packages\\sklearn\\linear_model\\_logistic.py\", line 1304, in fit\n",
      "    solver = _check_solver(self.solver, self.penalty, self.dual)\n",
      "  File \"C:\\Users\\admin\\anaconda3\\envs\\bankruptcy\\lib\\site-packages\\sklearn\\linear_model\\_logistic.py\", line 442, in _check_solver\n",
      "    raise ValueError(\"Solver %s supports only 'l2' or 'none' penalties, \"\n",
      "ValueError: Solver lbfgs supports only 'l2' or 'none' penalties, got l1 penalty.\n",
      "\n",
      "  warnings.warn(\"Estimator fit failed. The score on this train-test\"\n",
      "C:\\Users\\admin\\anaconda3\\envs\\bankruptcy\\lib\\site-packages\\sklearn\\model_selection\\_validation.py:548: FitFailedWarning: Estimator fit failed. The score on this train-test partition for these parameters will be set to nan. Details: \n",
      "Traceback (most recent call last):\n",
      "  File \"C:\\Users\\admin\\anaconda3\\envs\\bankruptcy\\lib\\site-packages\\sklearn\\model_selection\\_validation.py\", line 531, in _fit_and_score\n",
      "    estimator.fit(X_train, y_train, **fit_params)\n",
      "  File \"C:\\Users\\admin\\anaconda3\\envs\\bankruptcy\\lib\\site-packages\\sklearn\\linear_model\\_logistic.py\", line 1304, in fit\n",
      "    solver = _check_solver(self.solver, self.penalty, self.dual)\n",
      "  File \"C:\\Users\\admin\\anaconda3\\envs\\bankruptcy\\lib\\site-packages\\sklearn\\linear_model\\_logistic.py\", line 442, in _check_solver\n",
      "    raise ValueError(\"Solver %s supports only 'l2' or 'none' penalties, \"\n",
      "ValueError: Solver sag supports only 'l2' or 'none' penalties, got l1 penalty.\n",
      "\n",
      "  warnings.warn(\"Estimator fit failed. The score on this train-test\"\n",
      "C:\\Users\\admin\\anaconda3\\envs\\bankruptcy\\lib\\site-packages\\sklearn\\model_selection\\_validation.py:548: FitFailedWarning: Estimator fit failed. The score on this train-test partition for these parameters will be set to nan. Details: \n",
      "Traceback (most recent call last):\n",
      "  File \"C:\\Users\\admin\\anaconda3\\envs\\bankruptcy\\lib\\site-packages\\sklearn\\model_selection\\_validation.py\", line 531, in _fit_and_score\n",
      "    estimator.fit(X_train, y_train, **fit_params)\n",
      "  File \"C:\\Users\\admin\\anaconda3\\envs\\bankruptcy\\lib\\site-packages\\sklearn\\linear_model\\_logistic.py\", line 1304, in fit\n",
      "    solver = _check_solver(self.solver, self.penalty, self.dual)\n",
      "  File \"C:\\Users\\admin\\anaconda3\\envs\\bankruptcy\\lib\\site-packages\\sklearn\\linear_model\\_logistic.py\", line 442, in _check_solver\n",
      "    raise ValueError(\"Solver %s supports only 'l2' or 'none' penalties, \"\n",
      "ValueError: Solver newton-cg supports only 'l2' or 'none' penalties, got elasticnet penalty.\n",
      "\n",
      "  warnings.warn(\"Estimator fit failed. The score on this train-test\"\n",
      "C:\\Users\\admin\\anaconda3\\envs\\bankruptcy\\lib\\site-packages\\sklearn\\model_selection\\_validation.py:548: FitFailedWarning: Estimator fit failed. The score on this train-test partition for these parameters will be set to nan. Details: \n",
      "Traceback (most recent call last):\n",
      "  File \"C:\\Users\\admin\\anaconda3\\envs\\bankruptcy\\lib\\site-packages\\sklearn\\model_selection\\_validation.py\", line 531, in _fit_and_score\n",
      "    estimator.fit(X_train, y_train, **fit_params)\n",
      "  File \"C:\\Users\\admin\\anaconda3\\envs\\bankruptcy\\lib\\site-packages\\sklearn\\linear_model\\_logistic.py\", line 1304, in fit\n",
      "    solver = _check_solver(self.solver, self.penalty, self.dual)\n",
      "  File \"C:\\Users\\admin\\anaconda3\\envs\\bankruptcy\\lib\\site-packages\\sklearn\\linear_model\\_logistic.py\", line 442, in _check_solver\n",
      "    raise ValueError(\"Solver %s supports only 'l2' or 'none' penalties, \"\n",
      "ValueError: Solver lbfgs supports only 'l2' or 'none' penalties, got elasticnet penalty.\n",
      "\n",
      "  warnings.warn(\"Estimator fit failed. The score on this train-test\"\n",
      "C:\\Users\\admin\\anaconda3\\envs\\bankruptcy\\lib\\site-packages\\sklearn\\model_selection\\_validation.py:548: FitFailedWarning: Estimator fit failed. The score on this train-test partition for these parameters will be set to nan. Details: \n",
      "Traceback (most recent call last):\n",
      "  File \"C:\\Users\\admin\\anaconda3\\envs\\bankruptcy\\lib\\site-packages\\sklearn\\model_selection\\_validation.py\", line 531, in _fit_and_score\n",
      "    estimator.fit(X_train, y_train, **fit_params)\n",
      "  File \"C:\\Users\\admin\\anaconda3\\envs\\bankruptcy\\lib\\site-packages\\sklearn\\linear_model\\_logistic.py\", line 1304, in fit\n",
      "    solver = _check_solver(self.solver, self.penalty, self.dual)\n",
      "  File \"C:\\Users\\admin\\anaconda3\\envs\\bankruptcy\\lib\\site-packages\\sklearn\\linear_model\\_logistic.py\", line 449, in _check_solver\n",
      "    raise ValueError(\"Only 'saga' solver supports elasticnet penalty,\"\n",
      "ValueError: Only 'saga' solver supports elasticnet penalty, got solver=liblinear.\n",
      "\n",
      "  warnings.warn(\"Estimator fit failed. The score on this train-test\"\n",
      "C:\\Users\\admin\\anaconda3\\envs\\bankruptcy\\lib\\site-packages\\sklearn\\model_selection\\_validation.py:548: FitFailedWarning: Estimator fit failed. The score on this train-test partition for these parameters will be set to nan. Details: \n",
      "Traceback (most recent call last):\n",
      "  File \"C:\\Users\\admin\\anaconda3\\envs\\bankruptcy\\lib\\site-packages\\sklearn\\model_selection\\_validation.py\", line 531, in _fit_and_score\n",
      "    estimator.fit(X_train, y_train, **fit_params)\n",
      "  File \"C:\\Users\\admin\\anaconda3\\envs\\bankruptcy\\lib\\site-packages\\sklearn\\linear_model\\_logistic.py\", line 1304, in fit\n",
      "    solver = _check_solver(self.solver, self.penalty, self.dual)\n",
      "  File \"C:\\Users\\admin\\anaconda3\\envs\\bankruptcy\\lib\\site-packages\\sklearn\\linear_model\\_logistic.py\", line 442, in _check_solver\n",
      "    raise ValueError(\"Solver %s supports only 'l2' or 'none' penalties, \"\n",
      "ValueError: Solver sag supports only 'l2' or 'none' penalties, got elasticnet penalty.\n",
      "\n",
      "  warnings.warn(\"Estimator fit failed. The score on this train-test\"\n",
      "C:\\Users\\admin\\anaconda3\\envs\\bankruptcy\\lib\\site-packages\\sklearn\\model_selection\\_validation.py:548: FitFailedWarning: Estimator fit failed. The score on this train-test partition for these parameters will be set to nan. Details: \n",
      "Traceback (most recent call last):\n",
      "  File \"C:\\Users\\admin\\anaconda3\\envs\\bankruptcy\\lib\\site-packages\\sklearn\\model_selection\\_validation.py\", line 531, in _fit_and_score\n",
      "    estimator.fit(X_train, y_train, **fit_params)\n",
      "  File \"C:\\Users\\admin\\anaconda3\\envs\\bankruptcy\\lib\\site-packages\\sklearn\\linear_model\\_logistic.py\", line 1312, in fit\n",
      "    raise ValueError(\"l1_ratio must be between 0 and 1;\"\n",
      "ValueError: l1_ratio must be between 0 and 1; got (l1_ratio=None)\n",
      "\n",
      "  warnings.warn(\"Estimator fit failed. The score on this train-test\"\n",
      "C:\\Users\\admin\\anaconda3\\envs\\bankruptcy\\lib\\site-packages\\sklearn\\model_selection\\_validation.py:548: FitFailedWarning: Estimator fit failed. The score on this train-test partition for these parameters will be set to nan. Details: \n",
      "Traceback (most recent call last):\n",
      "  File \"C:\\Users\\admin\\anaconda3\\envs\\bankruptcy\\lib\\site-packages\\sklearn\\model_selection\\_validation.py\", line 531, in _fit_and_score\n",
      "    estimator.fit(X_train, y_train, **fit_params)\n",
      "  File \"C:\\Users\\admin\\anaconda3\\envs\\bankruptcy\\lib\\site-packages\\sklearn\\linear_model\\_logistic.py\", line 1304, in fit\n",
      "    solver = _check_solver(self.solver, self.penalty, self.dual)\n",
      "  File \"C:\\Users\\admin\\anaconda3\\envs\\bankruptcy\\lib\\site-packages\\sklearn\\linear_model\\_logistic.py\", line 442, in _check_solver\n",
      "    raise ValueError(\"Solver %s supports only 'l2' or 'none' penalties, \"\n",
      "ValueError: Solver newton-cg supports only 'l2' or 'none' penalties, got l1 penalty.\n",
      "\n",
      "  warnings.warn(\"Estimator fit failed. The score on this train-test\"\n",
      "C:\\Users\\admin\\anaconda3\\envs\\bankruptcy\\lib\\site-packages\\sklearn\\model_selection\\_validation.py:548: FitFailedWarning: Estimator fit failed. The score on this train-test partition for these parameters will be set to nan. Details: \n",
      "Traceback (most recent call last):\n",
      "  File \"C:\\Users\\admin\\anaconda3\\envs\\bankruptcy\\lib\\site-packages\\sklearn\\model_selection\\_validation.py\", line 531, in _fit_and_score\n",
      "    estimator.fit(X_train, y_train, **fit_params)\n",
      "  File \"C:\\Users\\admin\\anaconda3\\envs\\bankruptcy\\lib\\site-packages\\sklearn\\linear_model\\_logistic.py\", line 1304, in fit\n",
      "    solver = _check_solver(self.solver, self.penalty, self.dual)\n",
      "  File \"C:\\Users\\admin\\anaconda3\\envs\\bankruptcy\\lib\\site-packages\\sklearn\\linear_model\\_logistic.py\", line 442, in _check_solver\n",
      "    raise ValueError(\"Solver %s supports only 'l2' or 'none' penalties, \"\n",
      "ValueError: Solver lbfgs supports only 'l2' or 'none' penalties, got l1 penalty.\n",
      "\n",
      "  warnings.warn(\"Estimator fit failed. The score on this train-test\"\n",
      "C:\\Users\\admin\\anaconda3\\envs\\bankruptcy\\lib\\site-packages\\sklearn\\model_selection\\_validation.py:548: FitFailedWarning: Estimator fit failed. The score on this train-test partition for these parameters will be set to nan. Details: \n",
      "Traceback (most recent call last):\n",
      "  File \"C:\\Users\\admin\\anaconda3\\envs\\bankruptcy\\lib\\site-packages\\sklearn\\model_selection\\_validation.py\", line 531, in _fit_and_score\n",
      "    estimator.fit(X_train, y_train, **fit_params)\n",
      "  File \"C:\\Users\\admin\\anaconda3\\envs\\bankruptcy\\lib\\site-packages\\sklearn\\linear_model\\_logistic.py\", line 1304, in fit\n",
      "    solver = _check_solver(self.solver, self.penalty, self.dual)\n",
      "  File \"C:\\Users\\admin\\anaconda3\\envs\\bankruptcy\\lib\\site-packages\\sklearn\\linear_model\\_logistic.py\", line 442, in _check_solver\n",
      "    raise ValueError(\"Solver %s supports only 'l2' or 'none' penalties, \"\n",
      "ValueError: Solver sag supports only 'l2' or 'none' penalties, got l1 penalty.\n",
      "\n",
      "  warnings.warn(\"Estimator fit failed. The score on this train-test\"\n"
     ]
    },
    {
     "name": "stderr",
     "output_type": "stream",
     "text": [
      "C:\\Users\\admin\\anaconda3\\envs\\bankruptcy\\lib\\site-packages\\sklearn\\model_selection\\_validation.py:548: FitFailedWarning: Estimator fit failed. The score on this train-test partition for these parameters will be set to nan. Details: \n",
      "Traceback (most recent call last):\n",
      "  File \"C:\\Users\\admin\\anaconda3\\envs\\bankruptcy\\lib\\site-packages\\sklearn\\model_selection\\_validation.py\", line 531, in _fit_and_score\n",
      "    estimator.fit(X_train, y_train, **fit_params)\n",
      "  File \"C:\\Users\\admin\\anaconda3\\envs\\bankruptcy\\lib\\site-packages\\sklearn\\linear_model\\_logistic.py\", line 1304, in fit\n",
      "    solver = _check_solver(self.solver, self.penalty, self.dual)\n",
      "  File \"C:\\Users\\admin\\anaconda3\\envs\\bankruptcy\\lib\\site-packages\\sklearn\\linear_model\\_logistic.py\", line 442, in _check_solver\n",
      "    raise ValueError(\"Solver %s supports only 'l2' or 'none' penalties, \"\n",
      "ValueError: Solver newton-cg supports only 'l2' or 'none' penalties, got elasticnet penalty.\n",
      "\n",
      "  warnings.warn(\"Estimator fit failed. The score on this train-test\"\n",
      "C:\\Users\\admin\\anaconda3\\envs\\bankruptcy\\lib\\site-packages\\sklearn\\model_selection\\_validation.py:548: FitFailedWarning: Estimator fit failed. The score on this train-test partition for these parameters will be set to nan. Details: \n",
      "Traceback (most recent call last):\n",
      "  File \"C:\\Users\\admin\\anaconda3\\envs\\bankruptcy\\lib\\site-packages\\sklearn\\model_selection\\_validation.py\", line 531, in _fit_and_score\n",
      "    estimator.fit(X_train, y_train, **fit_params)\n",
      "  File \"C:\\Users\\admin\\anaconda3\\envs\\bankruptcy\\lib\\site-packages\\sklearn\\linear_model\\_logistic.py\", line 1304, in fit\n",
      "    solver = _check_solver(self.solver, self.penalty, self.dual)\n",
      "  File \"C:\\Users\\admin\\anaconda3\\envs\\bankruptcy\\lib\\site-packages\\sklearn\\linear_model\\_logistic.py\", line 442, in _check_solver\n",
      "    raise ValueError(\"Solver %s supports only 'l2' or 'none' penalties, \"\n",
      "ValueError: Solver lbfgs supports only 'l2' or 'none' penalties, got elasticnet penalty.\n",
      "\n",
      "  warnings.warn(\"Estimator fit failed. The score on this train-test\"\n",
      "C:\\Users\\admin\\anaconda3\\envs\\bankruptcy\\lib\\site-packages\\sklearn\\model_selection\\_validation.py:548: FitFailedWarning: Estimator fit failed. The score on this train-test partition for these parameters will be set to nan. Details: \n",
      "Traceback (most recent call last):\n",
      "  File \"C:\\Users\\admin\\anaconda3\\envs\\bankruptcy\\lib\\site-packages\\sklearn\\model_selection\\_validation.py\", line 531, in _fit_and_score\n",
      "    estimator.fit(X_train, y_train, **fit_params)\n",
      "  File \"C:\\Users\\admin\\anaconda3\\envs\\bankruptcy\\lib\\site-packages\\sklearn\\linear_model\\_logistic.py\", line 1304, in fit\n",
      "    solver = _check_solver(self.solver, self.penalty, self.dual)\n",
      "  File \"C:\\Users\\admin\\anaconda3\\envs\\bankruptcy\\lib\\site-packages\\sklearn\\linear_model\\_logistic.py\", line 449, in _check_solver\n",
      "    raise ValueError(\"Only 'saga' solver supports elasticnet penalty,\"\n",
      "ValueError: Only 'saga' solver supports elasticnet penalty, got solver=liblinear.\n",
      "\n",
      "  warnings.warn(\"Estimator fit failed. The score on this train-test\"\n",
      "C:\\Users\\admin\\anaconda3\\envs\\bankruptcy\\lib\\site-packages\\sklearn\\model_selection\\_validation.py:548: FitFailedWarning: Estimator fit failed. The score on this train-test partition for these parameters will be set to nan. Details: \n",
      "Traceback (most recent call last):\n",
      "  File \"C:\\Users\\admin\\anaconda3\\envs\\bankruptcy\\lib\\site-packages\\sklearn\\model_selection\\_validation.py\", line 531, in _fit_and_score\n",
      "    estimator.fit(X_train, y_train, **fit_params)\n",
      "  File \"C:\\Users\\admin\\anaconda3\\envs\\bankruptcy\\lib\\site-packages\\sklearn\\linear_model\\_logistic.py\", line 1304, in fit\n",
      "    solver = _check_solver(self.solver, self.penalty, self.dual)\n",
      "  File \"C:\\Users\\admin\\anaconda3\\envs\\bankruptcy\\lib\\site-packages\\sklearn\\linear_model\\_logistic.py\", line 442, in _check_solver\n",
      "    raise ValueError(\"Solver %s supports only 'l2' or 'none' penalties, \"\n",
      "ValueError: Solver sag supports only 'l2' or 'none' penalties, got elasticnet penalty.\n",
      "\n",
      "  warnings.warn(\"Estimator fit failed. The score on this train-test\"\n",
      "C:\\Users\\admin\\anaconda3\\envs\\bankruptcy\\lib\\site-packages\\sklearn\\model_selection\\_validation.py:548: FitFailedWarning: Estimator fit failed. The score on this train-test partition for these parameters will be set to nan. Details: \n",
      "Traceback (most recent call last):\n",
      "  File \"C:\\Users\\admin\\anaconda3\\envs\\bankruptcy\\lib\\site-packages\\sklearn\\model_selection\\_validation.py\", line 531, in _fit_and_score\n",
      "    estimator.fit(X_train, y_train, **fit_params)\n",
      "  File \"C:\\Users\\admin\\anaconda3\\envs\\bankruptcy\\lib\\site-packages\\sklearn\\linear_model\\_logistic.py\", line 1312, in fit\n",
      "    raise ValueError(\"l1_ratio must be between 0 and 1;\"\n",
      "ValueError: l1_ratio must be between 0 and 1; got (l1_ratio=None)\n",
      "\n",
      "  warnings.warn(\"Estimator fit failed. The score on this train-test\"\n",
      "C:\\Users\\admin\\anaconda3\\envs\\bankruptcy\\lib\\site-packages\\sklearn\\model_selection\\_validation.py:548: FitFailedWarning: Estimator fit failed. The score on this train-test partition for these parameters will be set to nan. Details: \n",
      "Traceback (most recent call last):\n",
      "  File \"C:\\Users\\admin\\anaconda3\\envs\\bankruptcy\\lib\\site-packages\\sklearn\\model_selection\\_validation.py\", line 531, in _fit_and_score\n",
      "    estimator.fit(X_train, y_train, **fit_params)\n",
      "  File \"C:\\Users\\admin\\anaconda3\\envs\\bankruptcy\\lib\\site-packages\\sklearn\\linear_model\\_logistic.py\", line 1304, in fit\n",
      "    solver = _check_solver(self.solver, self.penalty, self.dual)\n",
      "  File \"C:\\Users\\admin\\anaconda3\\envs\\bankruptcy\\lib\\site-packages\\sklearn\\linear_model\\_logistic.py\", line 442, in _check_solver\n",
      "    raise ValueError(\"Solver %s supports only 'l2' or 'none' penalties, \"\n",
      "ValueError: Solver newton-cg supports only 'l2' or 'none' penalties, got l1 penalty.\n",
      "\n",
      "  warnings.warn(\"Estimator fit failed. The score on this train-test\"\n",
      "C:\\Users\\admin\\anaconda3\\envs\\bankruptcy\\lib\\site-packages\\sklearn\\model_selection\\_validation.py:548: FitFailedWarning: Estimator fit failed. The score on this train-test partition for these parameters will be set to nan. Details: \n",
      "Traceback (most recent call last):\n",
      "  File \"C:\\Users\\admin\\anaconda3\\envs\\bankruptcy\\lib\\site-packages\\sklearn\\model_selection\\_validation.py\", line 531, in _fit_and_score\n",
      "    estimator.fit(X_train, y_train, **fit_params)\n",
      "  File \"C:\\Users\\admin\\anaconda3\\envs\\bankruptcy\\lib\\site-packages\\sklearn\\linear_model\\_logistic.py\", line 1304, in fit\n",
      "    solver = _check_solver(self.solver, self.penalty, self.dual)\n",
      "  File \"C:\\Users\\admin\\anaconda3\\envs\\bankruptcy\\lib\\site-packages\\sklearn\\linear_model\\_logistic.py\", line 442, in _check_solver\n",
      "    raise ValueError(\"Solver %s supports only 'l2' or 'none' penalties, \"\n",
      "ValueError: Solver lbfgs supports only 'l2' or 'none' penalties, got l1 penalty.\n",
      "\n",
      "  warnings.warn(\"Estimator fit failed. The score on this train-test\"\n",
      "C:\\Users\\admin\\anaconda3\\envs\\bankruptcy\\lib\\site-packages\\sklearn\\model_selection\\_validation.py:548: FitFailedWarning: Estimator fit failed. The score on this train-test partition for these parameters will be set to nan. Details: \n",
      "Traceback (most recent call last):\n",
      "  File \"C:\\Users\\admin\\anaconda3\\envs\\bankruptcy\\lib\\site-packages\\sklearn\\model_selection\\_validation.py\", line 531, in _fit_and_score\n",
      "    estimator.fit(X_train, y_train, **fit_params)\n",
      "  File \"C:\\Users\\admin\\anaconda3\\envs\\bankruptcy\\lib\\site-packages\\sklearn\\linear_model\\_logistic.py\", line 1304, in fit\n",
      "    solver = _check_solver(self.solver, self.penalty, self.dual)\n",
      "  File \"C:\\Users\\admin\\anaconda3\\envs\\bankruptcy\\lib\\site-packages\\sklearn\\linear_model\\_logistic.py\", line 442, in _check_solver\n",
      "    raise ValueError(\"Solver %s supports only 'l2' or 'none' penalties, \"\n",
      "ValueError: Solver sag supports only 'l2' or 'none' penalties, got l1 penalty.\n",
      "\n",
      "  warnings.warn(\"Estimator fit failed. The score on this train-test\"\n",
      "C:\\Users\\admin\\anaconda3\\envs\\bankruptcy\\lib\\site-packages\\sklearn\\model_selection\\_validation.py:548: FitFailedWarning: Estimator fit failed. The score on this train-test partition for these parameters will be set to nan. Details: \n",
      "Traceback (most recent call last):\n",
      "  File \"C:\\Users\\admin\\anaconda3\\envs\\bankruptcy\\lib\\site-packages\\sklearn\\model_selection\\_validation.py\", line 531, in _fit_and_score\n",
      "    estimator.fit(X_train, y_train, **fit_params)\n",
      "  File \"C:\\Users\\admin\\anaconda3\\envs\\bankruptcy\\lib\\site-packages\\sklearn\\linear_model\\_logistic.py\", line 1304, in fit\n",
      "    solver = _check_solver(self.solver, self.penalty, self.dual)\n",
      "  File \"C:\\Users\\admin\\anaconda3\\envs\\bankruptcy\\lib\\site-packages\\sklearn\\linear_model\\_logistic.py\", line 442, in _check_solver\n",
      "    raise ValueError(\"Solver %s supports only 'l2' or 'none' penalties, \"\n",
      "ValueError: Solver newton-cg supports only 'l2' or 'none' penalties, got elasticnet penalty.\n",
      "\n",
      "  warnings.warn(\"Estimator fit failed. The score on this train-test\"\n",
      "C:\\Users\\admin\\anaconda3\\envs\\bankruptcy\\lib\\site-packages\\sklearn\\model_selection\\_validation.py:548: FitFailedWarning: Estimator fit failed. The score on this train-test partition for these parameters will be set to nan. Details: \n",
      "Traceback (most recent call last):\n",
      "  File \"C:\\Users\\admin\\anaconda3\\envs\\bankruptcy\\lib\\site-packages\\sklearn\\model_selection\\_validation.py\", line 531, in _fit_and_score\n",
      "    estimator.fit(X_train, y_train, **fit_params)\n",
      "  File \"C:\\Users\\admin\\anaconda3\\envs\\bankruptcy\\lib\\site-packages\\sklearn\\linear_model\\_logistic.py\", line 1304, in fit\n",
      "    solver = _check_solver(self.solver, self.penalty, self.dual)\n",
      "  File \"C:\\Users\\admin\\anaconda3\\envs\\bankruptcy\\lib\\site-packages\\sklearn\\linear_model\\_logistic.py\", line 442, in _check_solver\n",
      "    raise ValueError(\"Solver %s supports only 'l2' or 'none' penalties, \"\n",
      "ValueError: Solver lbfgs supports only 'l2' or 'none' penalties, got elasticnet penalty.\n",
      "\n",
      "  warnings.warn(\"Estimator fit failed. The score on this train-test\"\n",
      "C:\\Users\\admin\\anaconda3\\envs\\bankruptcy\\lib\\site-packages\\sklearn\\model_selection\\_validation.py:548: FitFailedWarning: Estimator fit failed. The score on this train-test partition for these parameters will be set to nan. Details: \n",
      "Traceback (most recent call last):\n",
      "  File \"C:\\Users\\admin\\anaconda3\\envs\\bankruptcy\\lib\\site-packages\\sklearn\\model_selection\\_validation.py\", line 531, in _fit_and_score\n",
      "    estimator.fit(X_train, y_train, **fit_params)\n",
      "  File \"C:\\Users\\admin\\anaconda3\\envs\\bankruptcy\\lib\\site-packages\\sklearn\\linear_model\\_logistic.py\", line 1304, in fit\n",
      "    solver = _check_solver(self.solver, self.penalty, self.dual)\n",
      "  File \"C:\\Users\\admin\\anaconda3\\envs\\bankruptcy\\lib\\site-packages\\sklearn\\linear_model\\_logistic.py\", line 449, in _check_solver\n",
      "    raise ValueError(\"Only 'saga' solver supports elasticnet penalty,\"\n",
      "ValueError: Only 'saga' solver supports elasticnet penalty, got solver=liblinear.\n",
      "\n",
      "  warnings.warn(\"Estimator fit failed. The score on this train-test\"\n",
      "C:\\Users\\admin\\anaconda3\\envs\\bankruptcy\\lib\\site-packages\\sklearn\\model_selection\\_validation.py:548: FitFailedWarning: Estimator fit failed. The score on this train-test partition for these parameters will be set to nan. Details: \n",
      "Traceback (most recent call last):\n",
      "  File \"C:\\Users\\admin\\anaconda3\\envs\\bankruptcy\\lib\\site-packages\\sklearn\\model_selection\\_validation.py\", line 531, in _fit_and_score\n",
      "    estimator.fit(X_train, y_train, **fit_params)\n",
      "  File \"C:\\Users\\admin\\anaconda3\\envs\\bankruptcy\\lib\\site-packages\\sklearn\\linear_model\\_logistic.py\", line 1304, in fit\n",
      "    solver = _check_solver(self.solver, self.penalty, self.dual)\n",
      "  File \"C:\\Users\\admin\\anaconda3\\envs\\bankruptcy\\lib\\site-packages\\sklearn\\linear_model\\_logistic.py\", line 442, in _check_solver\n",
      "    raise ValueError(\"Solver %s supports only 'l2' or 'none' penalties, \"\n",
      "ValueError: Solver sag supports only 'l2' or 'none' penalties, got elasticnet penalty.\n",
      "\n",
      "  warnings.warn(\"Estimator fit failed. The score on this train-test\"\n",
      "C:\\Users\\admin\\anaconda3\\envs\\bankruptcy\\lib\\site-packages\\sklearn\\model_selection\\_validation.py:548: FitFailedWarning: Estimator fit failed. The score on this train-test partition for these parameters will be set to nan. Details: \n",
      "Traceback (most recent call last):\n",
      "  File \"C:\\Users\\admin\\anaconda3\\envs\\bankruptcy\\lib\\site-packages\\sklearn\\model_selection\\_validation.py\", line 531, in _fit_and_score\n",
      "    estimator.fit(X_train, y_train, **fit_params)\n",
      "  File \"C:\\Users\\admin\\anaconda3\\envs\\bankruptcy\\lib\\site-packages\\sklearn\\linear_model\\_logistic.py\", line 1312, in fit\n",
      "    raise ValueError(\"l1_ratio must be between 0 and 1;\"\n",
      "ValueError: l1_ratio must be between 0 and 1; got (l1_ratio=None)\n",
      "\n",
      "  warnings.warn(\"Estimator fit failed. The score on this train-test\"\n"
     ]
    },
    {
     "data": {
      "text/plain": [
       "[{'model': 'svm',\n",
       "  'best_score': 0.9485714285714286,\n",
       "  'best_params': {'C': 1, 'kernel': 'linear'}},\n",
       " {'model': 'random_forest',\n",
       "  'best_score': 0.9442857142857143,\n",
       "  'best_params': {'max_depth': 10,\n",
       "   'min_samples_split': 6,\n",
       "   'n_estimators': 30}},\n",
       " {'model': 'logistic_regression',\n",
       "  'best_score': 0.9514285714285714,\n",
       "  'best_params': {'C': 1, 'penalty': 'l1', 'solver': 'liblinear'}},\n",
       " {'model': 'Decision_tree',\n",
       "  'best_score': 0.9142857142857144,\n",
       "  'best_params': {'criterion': 'entropy',\n",
       "   'max_depth': 8,\n",
       "   'min_samples_split': 10,\n",
       "   'splitter': 'random'}}]"
      ]
     },
     "execution_count": 143,
     "metadata": {},
     "output_type": "execute_result"
    }
   ],
   "source": [
    "from sklearn.model_selection import GridSearchCV\n",
    "\n",
    "scores = []\n",
    "for model_name, mp in model_params.items():\n",
    "  clf = GridSearchCV(mp['model'],mp['params'],cv=5)\n",
    "  clf.fit(X_train,y_train)\n",
    "  scores.append({\n",
    "      'model':model_name,\n",
    "      'best_score':clf.best_score_,\n",
    "      'best_params':clf.best_params_\n",
    "  })\n",
    "\n",
    "\n",
    "scores"
   ]
  },
  {
   "cell_type": "markdown",
   "metadata": {},
   "source": [
    "<h3>We get best accuracy for logistic_regression = 95.143%</h3>"
   ]
  },
  {
   "cell_type": "code",
   "execution_count": 146,
   "metadata": {},
   "outputs": [
    {
     "name": "stdout",
     "output_type": "stream",
     "text": [
      "Confusion matrix\n",
      "[[132   8]\n",
      " [ 13 147]]\n",
      "Classification report\n",
      "              precision    recall  f1-score   support\n",
      "\n",
      "           0       0.91      0.94      0.93       140\n",
      "           1       0.95      0.92      0.93       160\n",
      "\n",
      "    accuracy                           0.93       300\n",
      "   macro avg       0.93      0.93      0.93       300\n",
      "weighted avg       0.93      0.93      0.93       300\n",
      "\n"
     ]
    }
   ],
   "source": [
    "lg = LogisticRegression(C=1,solver='liblinear',multi_class='auto')\n",
    "lg.fit(X_train,y_train)\n",
    "from sklearn.metrics import confusion_matrix, classification_report\n",
    "y_pred = lg.predict(X_test)\n",
    "print(\"Confusion matrix\")\n",
    "print(confusion_matrix(y_test, y_pred))\n",
    "print(\"Classification report\")\n",
    "print(classification_report(y_test, y_pred))"
   ]
  },
  {
   "cell_type": "markdown",
   "metadata": {
    "id": "z4CBOAiOd9is"
   },
   "source": [
    "# 3). Decision Tree Classifier"
   ]
  },
  {
   "cell_type": "markdown",
   "metadata": {
    "id": "UXCHg4IQewph"
   },
   "source": [
    "<b>read the titanic_data.csv using pandas and show the dataframe</b>"
   ]
  },
  {
   "cell_type": "code",
   "execution_count": 147,
   "metadata": {
    "id": "8dGi9n5meB94"
   },
   "outputs": [
    {
     "data": {
      "text/html": [
       "<div>\n",
       "<style scoped>\n",
       "    .dataframe tbody tr th:only-of-type {\n",
       "        vertical-align: middle;\n",
       "    }\n",
       "\n",
       "    .dataframe tbody tr th {\n",
       "        vertical-align: top;\n",
       "    }\n",
       "\n",
       "    .dataframe thead th {\n",
       "        text-align: right;\n",
       "    }\n",
       "</style>\n",
       "<table border=\"1\" class=\"dataframe\">\n",
       "  <thead>\n",
       "    <tr style=\"text-align: right;\">\n",
       "      <th></th>\n",
       "      <th>PassengerId</th>\n",
       "      <th>Survived</th>\n",
       "      <th>Pclass</th>\n",
       "      <th>Name</th>\n",
       "      <th>Sex</th>\n",
       "      <th>Age</th>\n",
       "      <th>SibSp</th>\n",
       "      <th>Parch</th>\n",
       "      <th>Ticket</th>\n",
       "      <th>Fare</th>\n",
       "      <th>Cabin</th>\n",
       "      <th>Embarked</th>\n",
       "    </tr>\n",
       "  </thead>\n",
       "  <tbody>\n",
       "    <tr>\n",
       "      <th>0</th>\n",
       "      <td>1</td>\n",
       "      <td>0</td>\n",
       "      <td>3</td>\n",
       "      <td>Braund, Mr. Owen Harris</td>\n",
       "      <td>male</td>\n",
       "      <td>22.0</td>\n",
       "      <td>1</td>\n",
       "      <td>0</td>\n",
       "      <td>A/5 21171</td>\n",
       "      <td>7.2500</td>\n",
       "      <td>NaN</td>\n",
       "      <td>S</td>\n",
       "    </tr>\n",
       "    <tr>\n",
       "      <th>1</th>\n",
       "      <td>2</td>\n",
       "      <td>1</td>\n",
       "      <td>1</td>\n",
       "      <td>Cumings, Mrs. John Bradley (Florence Briggs Th...</td>\n",
       "      <td>female</td>\n",
       "      <td>38.0</td>\n",
       "      <td>1</td>\n",
       "      <td>0</td>\n",
       "      <td>PC 17599</td>\n",
       "      <td>71.2833</td>\n",
       "      <td>C85</td>\n",
       "      <td>C</td>\n",
       "    </tr>\n",
       "    <tr>\n",
       "      <th>2</th>\n",
       "      <td>3</td>\n",
       "      <td>1</td>\n",
       "      <td>3</td>\n",
       "      <td>Heikkinen, Miss. Laina</td>\n",
       "      <td>female</td>\n",
       "      <td>26.0</td>\n",
       "      <td>0</td>\n",
       "      <td>0</td>\n",
       "      <td>STON/O2. 3101282</td>\n",
       "      <td>7.9250</td>\n",
       "      <td>NaN</td>\n",
       "      <td>S</td>\n",
       "    </tr>\n",
       "    <tr>\n",
       "      <th>3</th>\n",
       "      <td>4</td>\n",
       "      <td>1</td>\n",
       "      <td>1</td>\n",
       "      <td>Futrelle, Mrs. Jacques Heath (Lily May Peel)</td>\n",
       "      <td>female</td>\n",
       "      <td>35.0</td>\n",
       "      <td>1</td>\n",
       "      <td>0</td>\n",
       "      <td>113803</td>\n",
       "      <td>53.1000</td>\n",
       "      <td>C123</td>\n",
       "      <td>S</td>\n",
       "    </tr>\n",
       "    <tr>\n",
       "      <th>4</th>\n",
       "      <td>5</td>\n",
       "      <td>0</td>\n",
       "      <td>3</td>\n",
       "      <td>Allen, Mr. William Henry</td>\n",
       "      <td>male</td>\n",
       "      <td>35.0</td>\n",
       "      <td>0</td>\n",
       "      <td>0</td>\n",
       "      <td>373450</td>\n",
       "      <td>8.0500</td>\n",
       "      <td>NaN</td>\n",
       "      <td>S</td>\n",
       "    </tr>\n",
       "  </tbody>\n",
       "</table>\n",
       "</div>"
      ],
      "text/plain": [
       "   PassengerId  Survived  Pclass  \\\n",
       "0            1         0       3   \n",
       "1            2         1       1   \n",
       "2            3         1       3   \n",
       "3            4         1       1   \n",
       "4            5         0       3   \n",
       "\n",
       "                                                Name     Sex   Age  SibSp  \\\n",
       "0                            Braund, Mr. Owen Harris    male  22.0      1   \n",
       "1  Cumings, Mrs. John Bradley (Florence Briggs Th...  female  38.0      1   \n",
       "2                             Heikkinen, Miss. Laina  female  26.0      0   \n",
       "3       Futrelle, Mrs. Jacques Heath (Lily May Peel)  female  35.0      1   \n",
       "4                           Allen, Mr. William Henry    male  35.0      0   \n",
       "\n",
       "   Parch            Ticket     Fare Cabin Embarked  \n",
       "0      0         A/5 21171   7.2500   NaN        S  \n",
       "1      0          PC 17599  71.2833   C85        C  \n",
       "2      0  STON/O2. 3101282   7.9250   NaN        S  \n",
       "3      0            113803  53.1000  C123        S  \n",
       "4      0            373450   8.0500   NaN        S  "
      ]
     },
     "execution_count": 147,
     "metadata": {},
     "output_type": "execute_result"
    }
   ],
   "source": [
    "#write code here\n",
    "data = pd.read_csv(\"titanic_data.csv\")\n",
    "data.head()"
   ]
  },
  {
   "cell_type": "markdown",
   "metadata": {
    "id": "ph135_ppe2I4"
   },
   "source": [
    "<b>Write a function which accepts a dataframe, preprocesses the data (use task 1 notebook) and returns a new dataframe. </b> <br>\n",
    "you may need a helper function for normalizing data so feel free to define that as well"
   ]
  },
  {
   "cell_type": "code",
   "execution_count": 148,
   "metadata": {
    "id": "nEgFQI3se0dn"
   },
   "outputs": [
    {
     "data": {
      "text/html": [
       "<div>\n",
       "<style scoped>\n",
       "    .dataframe tbody tr th:only-of-type {\n",
       "        vertical-align: middle;\n",
       "    }\n",
       "\n",
       "    .dataframe tbody tr th {\n",
       "        vertical-align: top;\n",
       "    }\n",
       "\n",
       "    .dataframe thead th {\n",
       "        text-align: right;\n",
       "    }\n",
       "</style>\n",
       "<table border=\"1\" class=\"dataframe\">\n",
       "  <thead>\n",
       "    <tr style=\"text-align: right;\">\n",
       "      <th></th>\n",
       "      <th>Survived</th>\n",
       "      <th>Age</th>\n",
       "      <th>Fare</th>\n",
       "      <th>Family_members</th>\n",
       "      <th>1</th>\n",
       "      <th>2</th>\n",
       "      <th>3</th>\n",
       "      <th>female</th>\n",
       "      <th>male</th>\n",
       "      <th>Capt</th>\n",
       "      <th>...</th>\n",
       "      <th>Mlle</th>\n",
       "      <th>Mme</th>\n",
       "      <th>Mr</th>\n",
       "      <th>Mrs</th>\n",
       "      <th>Ms</th>\n",
       "      <th>Rev</th>\n",
       "      <th>Sir</th>\n",
       "      <th>C</th>\n",
       "      <th>Q</th>\n",
       "      <th>S</th>\n",
       "    </tr>\n",
       "  </thead>\n",
       "  <tbody>\n",
       "    <tr>\n",
       "      <th>0</th>\n",
       "      <td>0</td>\n",
       "      <td>0.271174</td>\n",
       "      <td>0.014151</td>\n",
       "      <td>0.1</td>\n",
       "      <td>0</td>\n",
       "      <td>0</td>\n",
       "      <td>1</td>\n",
       "      <td>0</td>\n",
       "      <td>1</td>\n",
       "      <td>0</td>\n",
       "      <td>...</td>\n",
       "      <td>0</td>\n",
       "      <td>0</td>\n",
       "      <td>1</td>\n",
       "      <td>0</td>\n",
       "      <td>0</td>\n",
       "      <td>0</td>\n",
       "      <td>0</td>\n",
       "      <td>0</td>\n",
       "      <td>0</td>\n",
       "      <td>1</td>\n",
       "    </tr>\n",
       "    <tr>\n",
       "      <th>1</th>\n",
       "      <td>1</td>\n",
       "      <td>0.472229</td>\n",
       "      <td>0.139136</td>\n",
       "      <td>0.1</td>\n",
       "      <td>1</td>\n",
       "      <td>0</td>\n",
       "      <td>0</td>\n",
       "      <td>1</td>\n",
       "      <td>0</td>\n",
       "      <td>0</td>\n",
       "      <td>...</td>\n",
       "      <td>0</td>\n",
       "      <td>0</td>\n",
       "      <td>0</td>\n",
       "      <td>1</td>\n",
       "      <td>0</td>\n",
       "      <td>0</td>\n",
       "      <td>0</td>\n",
       "      <td>1</td>\n",
       "      <td>0</td>\n",
       "      <td>0</td>\n",
       "    </tr>\n",
       "    <tr>\n",
       "      <th>2</th>\n",
       "      <td>1</td>\n",
       "      <td>0.321438</td>\n",
       "      <td>0.015469</td>\n",
       "      <td>0.0</td>\n",
       "      <td>0</td>\n",
       "      <td>0</td>\n",
       "      <td>1</td>\n",
       "      <td>1</td>\n",
       "      <td>0</td>\n",
       "      <td>0</td>\n",
       "      <td>...</td>\n",
       "      <td>0</td>\n",
       "      <td>0</td>\n",
       "      <td>0</td>\n",
       "      <td>0</td>\n",
       "      <td>0</td>\n",
       "      <td>0</td>\n",
       "      <td>0</td>\n",
       "      <td>0</td>\n",
       "      <td>0</td>\n",
       "      <td>1</td>\n",
       "    </tr>\n",
       "    <tr>\n",
       "      <th>3</th>\n",
       "      <td>1</td>\n",
       "      <td>0.434531</td>\n",
       "      <td>0.103644</td>\n",
       "      <td>0.1</td>\n",
       "      <td>1</td>\n",
       "      <td>0</td>\n",
       "      <td>0</td>\n",
       "      <td>1</td>\n",
       "      <td>0</td>\n",
       "      <td>0</td>\n",
       "      <td>...</td>\n",
       "      <td>0</td>\n",
       "      <td>0</td>\n",
       "      <td>0</td>\n",
       "      <td>1</td>\n",
       "      <td>0</td>\n",
       "      <td>0</td>\n",
       "      <td>0</td>\n",
       "      <td>0</td>\n",
       "      <td>0</td>\n",
       "      <td>1</td>\n",
       "    </tr>\n",
       "    <tr>\n",
       "      <th>4</th>\n",
       "      <td>0</td>\n",
       "      <td>0.434531</td>\n",
       "      <td>0.015713</td>\n",
       "      <td>0.0</td>\n",
       "      <td>0</td>\n",
       "      <td>0</td>\n",
       "      <td>1</td>\n",
       "      <td>0</td>\n",
       "      <td>1</td>\n",
       "      <td>0</td>\n",
       "      <td>...</td>\n",
       "      <td>0</td>\n",
       "      <td>0</td>\n",
       "      <td>1</td>\n",
       "      <td>0</td>\n",
       "      <td>0</td>\n",
       "      <td>0</td>\n",
       "      <td>0</td>\n",
       "      <td>0</td>\n",
       "      <td>0</td>\n",
       "      <td>1</td>\n",
       "    </tr>\n",
       "  </tbody>\n",
       "</table>\n",
       "<p>5 rows × 29 columns</p>\n",
       "</div>"
      ],
      "text/plain": [
       "   Survived       Age      Fare  Family_members  1  2  3  female  male  Capt  \\\n",
       "0         0  0.271174  0.014151             0.1  0  0  1       0     1     0   \n",
       "1         1  0.472229  0.139136             0.1  1  0  0       1     0     0   \n",
       "2         1  0.321438  0.015469             0.0  0  0  1       1     0     0   \n",
       "3         1  0.434531  0.103644             0.1  1  0  0       1     0     0   \n",
       "4         0  0.434531  0.015713             0.0  0  0  1       0     1     0   \n",
       "\n",
       "   ...  Mlle  Mme  Mr  Mrs  Ms  Rev  Sir  C  Q  S  \n",
       "0  ...     0    0   1    0   0    0    0  0  0  1  \n",
       "1  ...     0    0   0    1   0    0    0  1  0  0  \n",
       "2  ...     0    0   0    0   0    0    0  0  0  1  \n",
       "3  ...     0    0   0    1   0    0    0  0  0  1  \n",
       "4  ...     0    0   1    0   0    0    0  0  0  1  \n",
       "\n",
       "[5 rows x 29 columns]"
      ]
     },
     "execution_count": 148,
     "metadata": {},
     "output_type": "execute_result"
    }
   ],
   "source": [
    "import re\n",
    "\n",
    "def normalize(df,col):\n",
    "#     name = col + \"_normalize\"\n",
    "    df[col] = (df[col] - df[col].min())/(df[col].max() - df[col].min())\n",
    "    \n",
    "def titanic_preprocessing_pipeline(df):\n",
    "  #enter preprocessing steps as done in task 1\n",
    "  #make sure the preprocessed dataframe looks like the output in task 1\n",
    "  #return the dataframe\n",
    "    df_copy = df.copy()\n",
    "#     df_copy = df_copy.reset_index()\n",
    "    title_col = []\n",
    "    for name in df_copy[\"Name\"]:\n",
    "        title_search = re.search('(\\w+)\\.', name) \n",
    "        if title_search:\n",
    "          title = title_search.group(1)\n",
    "          title_col.append(title)\n",
    "\n",
    "    df_copy[\"Title\"] = title_col\n",
    "    df_copy.drop([\"Name\",\"PassengerId\",\"Ticket\"],axis=1,inplace=True)\n",
    "    df_copy[\"Embarked\"].fillna(df_copy[\"Embarked\"].mode()[0],inplace=True)\n",
    "    df_copy[\"Age\"].fillna(df_copy[\"Age\"].mean(),inplace=True)\n",
    "    perc = 50.0\n",
    "    min_count =  int(((100-perc)/100)*df_copy.shape[0] + 1)\n",
    "    df_copy.dropna(axis=1, thresh=min_count,inplace=True)\n",
    "    df_copy[\"Family_members\"] = df_copy[\"SibSp\"] + df_copy[\"Parch\"]\n",
    "    df_copy.drop([\"SibSp\",\"Parch\"],axis=1,inplace=True)\n",
    "    array = [\"Age\",\"Fare\",\"Family_members\"]\n",
    "    for col in array:\n",
    "        normalize(df_copy,col)\n",
    "    array = [\"Pclass\",\"Sex\",\"Title\",\"Embarked\"]\n",
    "    for col in array:\n",
    "        dummy = pd.get_dummies(df_copy[col])\n",
    "        df_copy = pd.merge(\n",
    "            left=df_copy,\n",
    "            right=dummy,\n",
    "            left_index=True,\n",
    "            right_index=True,\n",
    "        )\n",
    "    df_copy.drop(array,axis=1,inplace=True)\n",
    "    \n",
    "    return df_copy\n",
    "\n",
    "new_df = titanic_preprocessing_pipeline(data)\n",
    "new_df.head()"
   ]
  },
  {
   "cell_type": "markdown",
   "metadata": {
    "id": "Rlnz6P-xh1SA"
   },
   "source": [
    "<b>extract the y label (survived) from the dataframe and store it in a new variable</b>"
   ]
  },
  {
   "cell_type": "code",
   "execution_count": 149,
   "metadata": {
    "id": "R0WuPt4DhpOx"
   },
   "outputs": [],
   "source": [
    "#write code here\n",
    "y_true = new_df[\"Survived\"]"
   ]
  },
  {
   "cell_type": "markdown",
   "metadata": {
    "id": "NzP6YHDTiC--"
   },
   "source": [
    "<b>remove the y_label (survived) from the dataframe</b>"
   ]
  },
  {
   "cell_type": "code",
   "execution_count": 150,
   "metadata": {
    "id": "DI0KwhYHiIBT"
   },
   "outputs": [],
   "source": [
    "#write code here\n",
    "new_df.drop([\"Survived\"],inplace=True,axis=1)"
   ]
  },
  {
   "cell_type": "markdown",
   "metadata": {
    "id": "7ut650pSiIw1"
   },
   "source": [
    "<b>Split the data into train and test. (do a split in the ratio 30:70)</b>"
   ]
  },
  {
   "cell_type": "code",
   "execution_count": 151,
   "metadata": {
    "id": "phcn_hG7iRIN"
   },
   "outputs": [],
   "source": [
    "#write code here\n",
    "X_train, X_test, y_train, y_test = train_test_split(new_df,y_true,test_size=0.3,random_state=0)"
   ]
  },
  {
   "cell_type": "markdown",
   "metadata": {
    "id": "sqZl02RsiSbJ"
   },
   "source": [
    "<b>Now that you have the entire preprocessed and split data, implement the decision tree algorithm from sklearn and fit it to this dataset</b> <br>\n",
    "\n",
    "Make sure that you play with the hyperparameters to get a good result. You can even use bagging and boosting methods like random forest or adaboost to improve your accuracy. Visualize results, try different hyperparameters by using a loop, GET CREATIVE!<br>\n",
    "\n",
    "Machine learning is an iteritive process. You will have to keep playing with hyperparameters and algorithms. No fixed algorithm will work on a fixed dataset.\n",
    "\n",
    "Take this up as a challenge. The person with the best accuracy wins the round!"
   ]
  },
  {
   "cell_type": "markdown",
   "metadata": {
    "id": "EVNqRQx2j6iO"
   },
   "source": [
    "<b>Note that the accuracy on the test set will be considered and brownie points for not overfitting the model in the process</b>"
   ]
  },
  {
   "cell_type": "code",
   "execution_count": null,
   "metadata": {},
   "outputs": [],
   "source": []
  },
  {
   "cell_type": "code",
   "execution_count": 152,
   "metadata": {
    "id": "ulNAgERBjytd"
   },
   "outputs": [],
   "source": [
    "#write code here\n",
    "from sklearn.tree import DecisionTreeClassifier\n",
    "clf = DecisionTreeClassifier(criterion=\"entropy\",\n",
    "                             splitter=\"random\",\n",
    "                             max_depth=6,\n",
    "                             min_samples_split=2,\n",
    "                             min_samples_leaf=1,\n",
    "                             random_state=0)\n",
    "# print(X_train.info())\n",
    "clf.fit(X_train, y_train)\n",
    "train_preds = clf.predict(X_train)\n",
    "test_preds = clf.predict(X_test)\n"
   ]
  },
  {
   "cell_type": "code",
   "execution_count": 153,
   "metadata": {},
   "outputs": [
    {
     "data": {
      "text/plain": [
       "Text(26.5, 0.5, 'True Label')"
      ]
     },
     "execution_count": 153,
     "metadata": {},
     "output_type": "execute_result"
    },
    {
     "data": {
      "image/png": "[encoded data removed]",
      "text/plain": [
       "<Figure size 432x288 with 2 Axes>"
      ]
     },
     "metadata": {
      "needs_background": "light"
     },
     "output_type": "display_data"
    },
    {
     "data": {
      "text/plain": [
       "<Figure size 720x504 with 0 Axes>"
      ]
     },
     "metadata": {},
     "output_type": "display_data"
    }
   ],
   "source": [
    "from sklearn import metrics\n",
    "\n",
    "confusion_matrix = metrics.confusion_matrix(y_test,  \n",
    "                                            test_preds)\n",
    "\n",
    "\n",
    "#turn this into a dataframe\n",
    "matrix_df = pd.DataFrame(confusion_matrix)\n",
    "#plot the result\n",
    "ax = plt.axes()\n",
    "sns.set(font_scale=1.3)\n",
    "plt.figure(figsize=(10,7))\n",
    "sns.heatmap(matrix_df, annot=True, fmt=\"g\", ax=ax, cmap=\"magma\")\n",
    "#set axis titles\n",
    "ax.set_title('Confusion Matrix - Decision Tree')\n",
    "ax.set_xlabel(\"Predicted label\", fontsize =15)\n",
    "ax.set_ylabel(\"True Label\", fontsize=15)\n"
   ]
  },
  {
   "cell_type": "markdown",
   "metadata": {
    "id": "qpSDT-ZlkhRS"
   },
   "source": [
    "<b>print the test accuracy and train accuracy here</b>"
   ]
  },
  {
   "cell_type": "code",
   "execution_count": 154,
   "metadata": {
    "id": "6zUFG8T7kkJz"
   },
   "outputs": [
    {
     "name": "stdout",
     "output_type": "stream",
     "text": [
      "train Accuracy: 0.85553772070626\n",
      "test Accuracy: 0.8097014925373134\n"
     ]
    }
   ],
   "source": [
    "#write code here\n",
    "\n",
    "print(\"train Accuracy:\",metrics.accuracy_score(y_train, train_preds))\n",
    "print(\"test Accuracy:\",metrics.accuracy_score(y_test, test_preds))"
   ]
  },
  {
   "cell_type": "code",
   "execution_count": 155,
   "metadata": {},
   "outputs": [],
   "source": [
    "# Catboost Classifier\n",
    "from catboost import CatBoostClassifier\n",
    "cat = CatBoostClassifier(loss_function = 'Logloss',\n",
    "                        eval_metric = 'BalancedAccuracy',\n",
    "                        verbose = 200,\n",
    "                        random_seed = 20)\n",
    "\n",
    "cat_mod = cat.fit(X_train,y_train,\n",
    "                   eval_set = (X_test,y_test),\n",
    "                   use_best_model=True,\n",
    "                   verbose = 0,\n",
    "                    plot=False)\n",
    "                  \n",
    "cat_preds = cat_mod.predict(X_test)\n"
   ]
  },
  {
   "cell_type": "code",
   "execution_count": 156,
   "metadata": {},
   "outputs": [
    {
     "name": "stdout",
     "output_type": "stream",
     "text": [
      "accuracy:  0.8395522388059702\n"
     ]
    }
   ],
   "source": [
    "report = classification_report(y_test, cat_preds,output_dict=True)\n",
    "acc = report[\"accuracy\"]\n",
    "print(f\"accuracy: \",acc)"
   ]
  },
  {
   "cell_type": "code",
   "execution_count": 157,
   "metadata": {},
   "outputs": [
    {
     "name": "stdout",
     "output_type": "stream",
     "text": [
      "n=50 lr=0.001 accuracy: 0.7761194029850746\n",
      "n=50 lr=0.01 accuracy: 0.7761194029850746\n",
      "n=50 lr=0.05 accuracy: 0.7910447761194029\n",
      "n=50 lr=0.1 accuracy: 0.7985074626865671\n",
      "n=50 lr=0.5 accuracy: 0.8283582089552238\n",
      "n=50 lr=0.75 accuracy: 0.8246268656716418\n",
      "n=50 lr=1.0 accuracy: 0.8134328358208955\n",
      "==================================================\n",
      "n=100 lr=0.001 accuracy: 0.7761194029850746\n",
      "n=100 lr=0.01 accuracy: 0.7686567164179104\n",
      "n=100 lr=0.05 accuracy: 0.7985074626865671\n",
      "n=100 lr=0.1 accuracy: 0.8246268656716418\n",
      "n=100 lr=0.5 accuracy: 0.8246268656716418\n",
      "n=100 lr=0.75 accuracy: 0.8208955223880597\n",
      "n=100 lr=1.0 accuracy: 0.8171641791044776\n",
      "==================================================\n",
      "n=150 lr=0.001 accuracy: 0.7761194029850746\n",
      "n=150 lr=0.01 accuracy: 0.7686567164179104\n",
      "n=150 lr=0.05 accuracy: 0.8246268656716418\n",
      "n=150 lr=0.1 accuracy: 0.8283582089552238\n",
      "n=150 lr=0.5 accuracy: 0.8208955223880597\n",
      "n=150 lr=0.75 accuracy: 0.8208955223880597\n",
      "n=150 lr=1.0 accuracy: 0.8208955223880597\n",
      "==================================================\n",
      "n=200 lr=0.001 accuracy: 0.7761194029850746\n",
      "n=200 lr=0.01 accuracy: 0.7686567164179104\n",
      "n=200 lr=0.05 accuracy: 0.8246268656716418\n",
      "n=200 lr=0.1 accuracy: 0.8283582089552238\n",
      "n=200 lr=0.5 accuracy: 0.8097014925373134\n",
      "n=200 lr=0.75 accuracy: 0.8208955223880597\n",
      "n=200 lr=1.0 accuracy: 0.8134328358208955\n",
      "==================================================\n",
      "n=250 lr=0.001 accuracy: 0.7761194029850746\n",
      "n=250 lr=0.01 accuracy: 0.7910447761194029\n",
      "n=250 lr=0.05 accuracy: 0.8246268656716418\n",
      "n=250 lr=0.1 accuracy: 0.832089552238806\n",
      "n=250 lr=0.5 accuracy: 0.8171641791044776\n",
      "n=250 lr=0.75 accuracy: 0.8171641791044776\n",
      "n=250 lr=1.0 accuracy: 0.8171641791044776\n",
      "==================================================\n",
      "n=300 lr=0.001 accuracy: 0.7761194029850746\n",
      "n=300 lr=0.01 accuracy: 0.7910447761194029\n",
      "n=300 lr=0.05 accuracy: 0.8246268656716418\n",
      "n=300 lr=0.1 accuracy: 0.832089552238806\n",
      "n=300 lr=0.5 accuracy: 0.8208955223880597\n",
      "n=300 lr=0.75 accuracy: 0.8171641791044776\n",
      "n=300 lr=1.0 accuracy: 0.8097014925373134\n",
      "==================================================\n",
      "n=350 lr=0.001 accuracy: 0.7761194029850746\n",
      "n=350 lr=0.01 accuracy: 0.7910447761194029\n",
      "n=350 lr=0.05 accuracy: 0.8283582089552238\n",
      "n=350 lr=0.1 accuracy: 0.832089552238806\n",
      "n=350 lr=0.5 accuracy: 0.8171641791044776\n",
      "n=350 lr=0.75 accuracy: 0.8208955223880597\n",
      "n=350 lr=1.0 accuracy: 0.8059701492537313\n",
      "==================================================\n",
      "n=400 lr=0.001 accuracy: 0.7761194029850746\n",
      "n=400 lr=0.01 accuracy: 0.7910447761194029\n",
      "n=400 lr=0.05 accuracy: 0.832089552238806\n",
      "n=400 lr=0.1 accuracy: 0.832089552238806\n",
      "n=400 lr=0.5 accuracy: 0.8208955223880597\n",
      "n=400 lr=0.75 accuracy: 0.8171641791044776\n",
      "n=400 lr=1.0 accuracy: 0.7985074626865671\n",
      "==================================================\n",
      "n=450 lr=0.001 accuracy: 0.7761194029850746\n",
      "n=450 lr=0.01 accuracy: 0.7910447761194029\n",
      "n=450 lr=0.05 accuracy: 0.832089552238806\n",
      "n=450 lr=0.1 accuracy: 0.8283582089552238\n",
      "n=450 lr=0.5 accuracy: 0.8134328358208955\n",
      "n=450 lr=0.75 accuracy: 0.8097014925373134\n",
      "n=450 lr=1.0 accuracy: 0.8022388059701493\n",
      "==================================================\n",
      "n=500 lr=0.001 accuracy: 0.7761194029850746\n",
      "n=500 lr=0.01 accuracy: 0.7947761194029851\n",
      "n=500 lr=0.05 accuracy: 0.832089552238806\n",
      "n=500 lr=0.1 accuracy: 0.8246268656716418\n",
      "n=500 lr=0.5 accuracy: 0.8134328358208955\n",
      "n=500 lr=0.75 accuracy: 0.8097014925373134\n",
      "n=500 lr=1.0 accuracy: 0.8022388059701493\n",
      "==================================================\n"
     ]
    }
   ],
   "source": [
    "from sklearn.ensemble import AdaBoostClassifier\n",
    "n_estimators=[50,100,150,200,250,300,350,400,450,500]\n",
    "learning_rate=[0.001,0.01,0.05,0.1,0.5,0.75,1.0]\n",
    "for i in n_estimators:\n",
    "    for j in learning_rate:\n",
    "        ada = AdaBoostClassifier(n_estimators=i,learning_rate=j)\n",
    "        ada.fit(X_train,y_train)\n",
    "        ada_preds = ada.predict(X_test)\n",
    "        report = classification_report(y_test, ada_preds,output_dict=True)\n",
    "        acc = report[\"accuracy\"]\n",
    "        print(f\"n={i} lr={j} accuracy: {acc}\")\n",
    "    print(\"=\"*50)\n"
   ]
  },
  {
   "cell_type": "code",
   "execution_count": 158,
   "metadata": {},
   "outputs": [],
   "source": [
    "model_params = {\n",
    "    'svm':{\n",
    "      'model':svm.SVC(gamma='auto'),\n",
    "      'params':{\n",
    "          'C':[1,10,20],\n",
    "          'kernel':['rbf','linear']\n",
    "        }\n",
    "    },\n",
    "    'random_forest':{\n",
    "        'model':RandomForestClassifier(),\n",
    "        'params':{\n",
    "            'n_estimators':[10,20,30,40,50,60,70,80,90,100],\n",
    "            'max_depth': [2,4,6,8,10],\n",
    "            'min_samples_split': [2,4,6,8,10]\n",
    "        }\n",
    "    },\n",
    "    'logistic_regression':{\n",
    "        'model':LogisticRegression(multi_class='auto'),\n",
    "        'params':{\n",
    "            'solver':['liblinear'],\n",
    "            'C':[1,5,10],\n",
    "            'penalty':['l1', 'l2'],\n",
    "        }\n",
    "    },\n",
    "    'Decision_tree':{\n",
    "        'model':DecisionTreeClassifier(random_state=10),\n",
    "        'params':{\n",
    "            'criterion':[\"gini\",\"entropy\"],\n",
    "            'max_depth':[2,4,6,8,10],\n",
    "            'splitter':[\"best\", \"random\"],\n",
    "            'min_samples_split': [2,4,6,8,10]\n",
    "        }\n",
    "    },\n",
    "    \"Adaboost Classifier\":{\n",
    "        'model': AdaBoostClassifier(),\n",
    "        'params':{\n",
    "            'n_estimators':[50,100,150,200,250,300,350,400,450,500],\n",
    "            'learning_rate':[0.001,0.01,0.05,0.1,0.5,0.75,1.0]\n",
    "        }\n",
    "\n",
    "    },\n",
    "    \"Catboost Classifier\":{\n",
    "        \"model\": CatBoostClassifier(random_seed=0),\n",
    "        \"params\":{\n",
    "            'loss_function':['Logloss'],\n",
    "            'eval_metric':['BalancedAccuracy'],\n",
    "            'verbose': [50,100,200,300,400,500],\n",
    "    \n",
    "        }\n",
    "    }\n",
    "    \n",
    "}"
   ]
  },
  {
   "cell_type": "code",
   "execution_count": 159,
   "metadata": {},
   "outputs": [
    {
     "name": "stdout",
     "output_type": "stream",
     "text": [
      "Learning rate set to 0.00765\n",
      "0:\tlearn: 0.8031513\ttotal: 9.1ms\tremaining: 9.09s\n",
      "50:\tlearn: 0.8222373\ttotal: 145ms\tremaining: 2.69s\n",
      "100:\tlearn: 0.8257793\ttotal: 267ms\tremaining: 2.38s\n",
      "150:\tlearn: 0.8290580\ttotal: 385ms\tremaining: 2.16s\n",
      "200:\tlearn: 0.8290580\ttotal: 503ms\tremaining: 2s\n",
      "250:\tlearn: 0.8306974\ttotal: 615ms\tremaining: 1.84s\n",
      "300:\tlearn: 0.8372547\ttotal: 733ms\tremaining: 1.7s\n",
      "350:\tlearn: 0.8398454\ttotal: 840ms\tremaining: 1.55s\n",
      "400:\tlearn: 0.8424361\ttotal: 1.02s\tremaining: 1.53s\n",
      "450:\tlearn: 0.8424361\ttotal: 1.14s\tremaining: 1.39s\n",
      "500:\tlearn: 0.8450268\ttotal: 1.26s\tremaining: 1.26s\n",
      "550:\tlearn: 0.8483054\ttotal: 1.39s\tremaining: 1.14s\n",
      "600:\tlearn: 0.8483054\ttotal: 1.51s\tremaining: 1s\n",
      "650:\tlearn: 0.8499448\ttotal: 1.62s\tremaining: 869ms\n",
      "700:\tlearn: 0.8525355\ttotal: 1.74s\tremaining: 741ms\n",
      "750:\tlearn: 0.8607322\ttotal: 1.85s\tremaining: 613ms\n",
      "800:\tlearn: 0.8769642\ttotal: 1.97s\tremaining: 489ms\n",
      "850:\tlearn: 0.8795549\ttotal: 2.08s\tremaining: 364ms\n",
      "900:\tlearn: 0.8880149\ttotal: 2.19s\tremaining: 241ms\n",
      "950:\tlearn: 0.8880149\ttotal: 2.31s\tremaining: 119ms\n",
      "999:\tlearn: 0.8896543\ttotal: 2.43s\tremaining: 0us\n",
      "Learning rate set to 0.00765\n",
      "0:\tlearn: 0.8174807\ttotal: 10.2ms\tremaining: 10.1s\n",
      "50:\tlearn: 0.8212860\ttotal: 153ms\tremaining: 2.85s\n",
      "100:\tlearn: 0.8229253\ttotal: 262ms\tremaining: 2.33s\n",
      "150:\tlearn: 0.8229253\ttotal: 368ms\tremaining: 2.07s\n",
      "200:\tlearn: 0.8262040\ttotal: 481ms\tremaining: 1.91s\n",
      "250:\tlearn: 0.8294827\ttotal: 597ms\tremaining: 1.78s\n",
      "300:\tlearn: 0.8294827\ttotal: 714ms\tremaining: 1.66s\n",
      "350:\tlearn: 0.8294827\ttotal: 823ms\tremaining: 1.52s\n",
      "400:\tlearn: 0.8294827\ttotal: 937ms\tremaining: 1.4s\n",
      "450:\tlearn: 0.8337127\ttotal: 1.07s\tremaining: 1.3s\n",
      "500:\tlearn: 0.8379428\ttotal: 1.18s\tremaining: 1.18s\n",
      "550:\tlearn: 0.8379428\ttotal: 1.29s\tremaining: 1.05s\n",
      "600:\tlearn: 0.8395821\ttotal: 1.41s\tremaining: 936ms\n",
      "650:\tlearn: 0.8525355\ttotal: 1.53s\tremaining: 819ms\n",
      "700:\tlearn: 0.8584048\ttotal: 1.64s\tremaining: 700ms\n",
      "750:\tlearn: 0.8626348\ttotal: 1.75s\tremaining: 580ms\n",
      "800:\tlearn: 0.8626348\ttotal: 1.86s\tremaining: 463ms\n",
      "850:\tlearn: 0.8642742\ttotal: 1.97s\tremaining: 345ms\n",
      "900:\tlearn: 0.8704069\ttotal: 2.08s\tremaining: 229ms\n",
      "950:\tlearn: 0.8720462\ttotal: 2.19s\tremaining: 113ms\n",
      "999:\tlearn: 0.8746369\ttotal: 2.32s\tremaining: 0us\n",
      "Learning rate set to 0.00765\n",
      "0:\tlearn: 0.8081932\ttotal: 3.23ms\tremaining: 3.23s\n",
      "50:\tlearn: 0.8208593\ttotal: 133ms\tremaining: 2.47s\n",
      "100:\tlearn: 0.8225041\ttotal: 245ms\tremaining: 2.18s\n",
      "150:\tlearn: 0.8225041\ttotal: 353ms\tremaining: 1.98s\n",
      "200:\tlearn: 0.8257935\ttotal: 473ms\tremaining: 1.88s\n",
      "250:\tlearn: 0.8274383\ttotal: 580ms\tremaining: 1.73s\n",
      "300:\tlearn: 0.8290830\ttotal: 695ms\tremaining: 1.61s\n",
      "350:\tlearn: 0.8349498\ttotal: 807ms\tremaining: 1.49s\n",
      "400:\tlearn: 0.8391719\ttotal: 933ms\tremaining: 1.39s\n",
      "450:\tlearn: 0.8485486\ttotal: 1.04s\tremaining: 1.27s\n",
      "500:\tlearn: 0.8527706\ttotal: 1.17s\tremaining: 1.17s\n",
      "550:\tlearn: 0.8577048\ttotal: 1.33s\tremaining: 1.08s\n",
      "600:\tlearn: 0.8626390\ttotal: 1.45s\tremaining: 964ms\n",
      "650:\tlearn: 0.8600617\ttotal: 1.56s\tremaining: 836ms\n",
      "700:\tlearn: 0.8677937\ttotal: 1.68s\tremaining: 714ms\n",
      "750:\tlearn: 0.8771704\ttotal: 1.78s\tremaining: 592ms\n",
      "800:\tlearn: 0.8771704\ttotal: 1.91s\tremaining: 474ms\n",
      "850:\tlearn: 0.8788151\ttotal: 2.02s\tremaining: 353ms\n",
      "900:\tlearn: 0.8830372\ttotal: 2.13s\tremaining: 234ms\n",
      "950:\tlearn: 0.8856145\ttotal: 2.24s\tremaining: 115ms\n",
      "999:\tlearn: 0.8881918\ttotal: 2.35s\tremaining: 0us\n",
      "Learning rate set to 0.007656\n",
      "0:\tlearn: 0.8203143\ttotal: 6.33ms\tremaining: 6.32s\n",
      "50:\tlearn: 0.8299223\ttotal: 148ms\tremaining: 2.75s\n",
      "100:\tlearn: 0.8332009\ttotal: 272ms\tremaining: 2.42s\n",
      "150:\tlearn: 0.8348403\ttotal: 380ms\tremaining: 2.14s\n",
      "200:\tlearn: 0.8348403\ttotal: 494ms\tremaining: 1.96s\n",
      "250:\tlearn: 0.8381190\ttotal: 604ms\tremaining: 1.8s\n",
      "300:\tlearn: 0.8463157\ttotal: 722ms\tremaining: 1.68s\n",
      "350:\tlearn: 0.8495944\ttotal: 836ms\tremaining: 1.55s\n",
      "400:\tlearn: 0.8570897\ttotal: 947ms\tremaining: 1.41s\n",
      "450:\tlearn: 0.8587291\ttotal: 1.06s\tremaining: 1.28s\n",
      "500:\tlearn: 0.8587291\ttotal: 1.18s\tremaining: 1.18s\n",
      "550:\tlearn: 0.8587291\ttotal: 1.29s\tremaining: 1.05s\n",
      "600:\tlearn: 0.8629457\ttotal: 1.41s\tremaining: 939ms\n",
      "650:\tlearn: 0.8645851\ttotal: 1.57s\tremaining: 841ms\n",
      "700:\tlearn: 0.8755957\ttotal: 1.69s\tremaining: 721ms\n",
      "750:\tlearn: 0.8823897\ttotal: 1.8s\tremaining: 597ms\n",
      "800:\tlearn: 0.8849670\ttotal: 1.92s\tremaining: 476ms\n",
      "850:\tlearn: 0.8917610\ttotal: 2.03s\tremaining: 355ms\n",
      "900:\tlearn: 0.8934004\ttotal: 2.15s\tremaining: 236ms\n",
      "950:\tlearn: 0.8959777\ttotal: 2.26s\tremaining: 116ms\n",
      "999:\tlearn: 0.8959777\ttotal: 2.39s\tremaining: 0us\n",
      "Learning rate set to 0.007656\n",
      "0:\tlearn: 0.7964171\ttotal: 8.33ms\tremaining: 8.32s\n",
      "50:\tlearn: 0.8090671\ttotal: 141ms\tremaining: 2.63s\n",
      "100:\tlearn: 0.8090671\ttotal: 258ms\tremaining: 2.3s\n",
      "150:\tlearn: 0.8123458\ttotal: 368ms\tremaining: 2.07s\n",
      "200:\tlearn: 0.8123458\ttotal: 488ms\tremaining: 1.94s\n",
      "250:\tlearn: 0.8156245\ttotal: 610ms\tremaining: 1.82s\n",
      "300:\tlearn: 0.8198411\ttotal: 729ms\tremaining: 1.69s\n",
      "350:\tlearn: 0.8263985\ttotal: 839ms\tremaining: 1.55s\n",
      "400:\tlearn: 0.8355332\ttotal: 956ms\tremaining: 1.43s\n",
      "450:\tlearn: 0.8345952\ttotal: 1.07s\tremaining: 1.3s\n",
      "500:\tlearn: 0.8362346\ttotal: 1.19s\tremaining: 1.18s\n",
      "550:\tlearn: 0.8413892\ttotal: 1.29s\tremaining: 1.05s\n",
      "600:\tlearn: 0.8516985\ttotal: 1.41s\tremaining: 936ms\n",
      "650:\tlearn: 0.8549772\ttotal: 1.53s\tremaining: 819ms\n",
      "700:\tlearn: 0.8566165\ttotal: 1.65s\tremaining: 704ms\n",
      "750:\tlearn: 0.8617712\ttotal: 1.81s\tremaining: 599ms\n",
      "800:\tlearn: 0.8666892\ttotal: 1.92s\tremaining: 478ms\n",
      "850:\tlearn: 0.8760605\ttotal: 2.03s\tremaining: 356ms\n",
      "900:\tlearn: 0.8786378\ttotal: 2.15s\tremaining: 236ms\n",
      "950:\tlearn: 0.8786378\ttotal: 2.27s\tremaining: 117ms\n",
      "999:\tlearn: 0.8873078\ttotal: 2.41s\tremaining: 0us\n",
      "Learning rate set to 0.00765\n",
      "0:\tlearn: 0.8031513\ttotal: 3.87ms\tremaining: 3.86s\n",
      "100:\tlearn: 0.8257793\ttotal: 241ms\tremaining: 2.15s\n",
      "200:\tlearn: 0.8290580\ttotal: 484ms\tremaining: 1.92s\n",
      "300:\tlearn: 0.8372547\ttotal: 709ms\tremaining: 1.65s\n",
      "400:\tlearn: 0.8424361\ttotal: 1.01s\tremaining: 1.5s\n",
      "500:\tlearn: 0.8450268\ttotal: 1.24s\tremaining: 1.24s\n",
      "600:\tlearn: 0.8483054\ttotal: 1.47s\tremaining: 979ms\n",
      "700:\tlearn: 0.8525355\ttotal: 1.7s\tremaining: 727ms\n",
      "800:\tlearn: 0.8769642\ttotal: 1.99s\tremaining: 494ms\n",
      "900:\tlearn: 0.8880149\ttotal: 2.21s\tremaining: 243ms\n",
      "999:\tlearn: 0.8896543\ttotal: 2.46s\tremaining: 0us\n",
      "Learning rate set to 0.00765\n",
      "0:\tlearn: 0.8174807\ttotal: 3.29ms\tremaining: 3.29s\n",
      "100:\tlearn: 0.8229253\ttotal: 246ms\tremaining: 2.19s\n",
      "200:\tlearn: 0.8262040\ttotal: 468ms\tremaining: 1.86s\n",
      "300:\tlearn: 0.8294827\ttotal: 690ms\tremaining: 1.6s\n",
      "400:\tlearn: 0.8294827\ttotal: 919ms\tremaining: 1.37s\n",
      "500:\tlearn: 0.8379428\ttotal: 1.14s\tremaining: 1.13s\n",
      "600:\tlearn: 0.8395821\ttotal: 1.36s\tremaining: 905ms\n",
      "700:\tlearn: 0.8584048\ttotal: 1.59s\tremaining: 679ms\n",
      "800:\tlearn: 0.8626348\ttotal: 1.81s\tremaining: 450ms\n",
      "900:\tlearn: 0.8704069\ttotal: 2.05s\tremaining: 225ms\n",
      "999:\tlearn: 0.8746369\ttotal: 2.31s\tremaining: 0us\n",
      "Learning rate set to 0.00765\n",
      "0:\tlearn: 0.8081932\ttotal: 3.29ms\tremaining: 3.28s\n",
      "100:\tlearn: 0.8225041\ttotal: 245ms\tremaining: 2.18s\n",
      "200:\tlearn: 0.8257935\ttotal: 467ms\tremaining: 1.86s\n",
      "300:\tlearn: 0.8290830\ttotal: 716ms\tremaining: 1.66s\n",
      "400:\tlearn: 0.8391719\ttotal: 951ms\tremaining: 1.42s\n",
      "500:\tlearn: 0.8527706\ttotal: 1.18s\tremaining: 1.17s\n",
      "600:\tlearn: 0.8626390\ttotal: 1.41s\tremaining: 933ms\n",
      "700:\tlearn: 0.8677937\ttotal: 1.63s\tremaining: 695ms\n",
      "800:\tlearn: 0.8771704\ttotal: 1.86s\tremaining: 462ms\n",
      "900:\tlearn: 0.8830372\ttotal: 2.08s\tremaining: 228ms\n",
      "999:\tlearn: 0.8881918\ttotal: 2.32s\tremaining: 0us\n",
      "Learning rate set to 0.007656\n",
      "0:\tlearn: 0.8203143\ttotal: 5.15ms\tremaining: 5.14s\n",
      "100:\tlearn: 0.8332009\ttotal: 263ms\tremaining: 2.34s\n",
      "200:\tlearn: 0.8348403\ttotal: 486ms\tremaining: 1.93s\n",
      "300:\tlearn: 0.8463157\ttotal: 723ms\tremaining: 1.68s\n",
      "400:\tlearn: 0.8570897\ttotal: 982ms\tremaining: 1.47s\n",
      "500:\tlearn: 0.8587291\ttotal: 1.24s\tremaining: 1.24s\n",
      "600:\tlearn: 0.8629457\ttotal: 1.47s\tremaining: 979ms\n",
      "700:\tlearn: 0.8755957\ttotal: 1.71s\tremaining: 729ms\n",
      "800:\tlearn: 0.8849670\ttotal: 1.93s\tremaining: 481ms\n",
      "900:\tlearn: 0.8934004\ttotal: 2.16s\tremaining: 238ms\n",
      "999:\tlearn: 0.8959777\ttotal: 2.41s\tremaining: 0us\n",
      "Learning rate set to 0.007656\n",
      "0:\tlearn: 0.7964171\ttotal: 3.22ms\tremaining: 3.21s\n",
      "100:\tlearn: 0.8090671\ttotal: 282ms\tremaining: 2.51s\n",
      "200:\tlearn: 0.8123458\ttotal: 520ms\tremaining: 2.07s\n",
      "300:\tlearn: 0.8198411\ttotal: 805ms\tremaining: 1.87s\n"
     ]
    },
    {
     "name": "stdout",
     "output_type": "stream",
     "text": [
      "400:\tlearn: 0.8355332\ttotal: 1.03s\tremaining: 1.54s\n",
      "500:\tlearn: 0.8362346\ttotal: 1.26s\tremaining: 1.25s\n",
      "600:\tlearn: 0.8516985\ttotal: 1.48s\tremaining: 981ms\n",
      "700:\tlearn: 0.8566165\ttotal: 1.71s\tremaining: 728ms\n",
      "800:\tlearn: 0.8666892\ttotal: 1.99s\tremaining: 495ms\n",
      "900:\tlearn: 0.8786378\ttotal: 2.31s\tremaining: 254ms\n",
      "999:\tlearn: 0.8873078\ttotal: 2.63s\tremaining: 0us\n",
      "Learning rate set to 0.00765\n",
      "0:\tlearn: 0.8031513\ttotal: 3.08ms\tremaining: 3.08s\n",
      "200:\tlearn: 0.8290580\ttotal: 590ms\tremaining: 2.35s\n",
      "400:\tlearn: 0.8424361\ttotal: 1.04s\tremaining: 1.56s\n",
      "600:\tlearn: 0.8483054\ttotal: 1.5s\tremaining: 996ms\n",
      "800:\tlearn: 0.8769642\ttotal: 1.95s\tremaining: 486ms\n",
      "999:\tlearn: 0.8896543\ttotal: 2.43s\tremaining: 0us\n",
      "Learning rate set to 0.00765\n",
      "0:\tlearn: 0.8174807\ttotal: 4.12ms\tremaining: 4.12s\n",
      "200:\tlearn: 0.8262040\ttotal: 896ms\tremaining: 3.56s\n",
      "400:\tlearn: 0.8294827\ttotal: 1.35s\tremaining: 2.01s\n",
      "600:\tlearn: 0.8395821\ttotal: 1.78s\tremaining: 1.18s\n",
      "800:\tlearn: 0.8626348\ttotal: 2.22s\tremaining: 551ms\n",
      "999:\tlearn: 0.8746369\ttotal: 2.69s\tremaining: 0us\n",
      "Learning rate set to 0.00765\n",
      "0:\tlearn: 0.8081932\ttotal: 3.98ms\tremaining: 3.98s\n",
      "200:\tlearn: 0.8257935\ttotal: 520ms\tremaining: 2.06s\n",
      "400:\tlearn: 0.8391719\ttotal: 980ms\tremaining: 1.46s\n",
      "600:\tlearn: 0.8626390\ttotal: 1.42s\tremaining: 941ms\n",
      "800:\tlearn: 0.8771704\ttotal: 1.86s\tremaining: 463ms\n",
      "999:\tlearn: 0.8881918\ttotal: 2.34s\tremaining: 0us\n",
      "Learning rate set to 0.007656\n",
      "0:\tlearn: 0.8203143\ttotal: 5.22ms\tremaining: 5.22s\n",
      "200:\tlearn: 0.8348403\ttotal: 475ms\tremaining: 1.89s\n",
      "400:\tlearn: 0.8570897\ttotal: 974ms\tremaining: 1.46s\n",
      "600:\tlearn: 0.8629457\ttotal: 1.42s\tremaining: 945ms\n",
      "800:\tlearn: 0.8849670\ttotal: 1.87s\tremaining: 465ms\n",
      "999:\tlearn: 0.8959777\ttotal: 2.36s\tremaining: 0us\n",
      "Learning rate set to 0.007656\n",
      "0:\tlearn: 0.7964171\ttotal: 2.97ms\tremaining: 2.97s\n",
      "200:\tlearn: 0.8123458\ttotal: 483ms\tremaining: 1.92s\n",
      "400:\tlearn: 0.8355332\ttotal: 931ms\tremaining: 1.39s\n",
      "600:\tlearn: 0.8516985\ttotal: 1.38s\tremaining: 917ms\n",
      "800:\tlearn: 0.8666892\ttotal: 1.83s\tremaining: 456ms\n",
      "999:\tlearn: 0.8873078\ttotal: 2.29s\tremaining: 0us\n",
      "Learning rate set to 0.00765\n",
      "0:\tlearn: 0.8031513\ttotal: 4.04ms\tremaining: 4.04s\n",
      "300:\tlearn: 0.8372547\ttotal: 691ms\tremaining: 1.6s\n",
      "600:\tlearn: 0.8483054\ttotal: 1.44s\tremaining: 956ms\n",
      "900:\tlearn: 0.8880149\ttotal: 2.11s\tremaining: 232ms\n",
      "999:\tlearn: 0.8896543\ttotal: 2.34s\tremaining: 0us\n",
      "Learning rate set to 0.00765\n",
      "0:\tlearn: 0.8174807\ttotal: 3.78ms\tremaining: 3.77s\n",
      "300:\tlearn: 0.8294827\ttotal: 705ms\tremaining: 1.64s\n",
      "600:\tlearn: 0.8395821\ttotal: 1.42s\tremaining: 940ms\n",
      "900:\tlearn: 0.8704069\ttotal: 2.07s\tremaining: 228ms\n",
      "999:\tlearn: 0.8746369\ttotal: 2.33s\tremaining: 0us\n",
      "Learning rate set to 0.00765\n",
      "0:\tlearn: 0.8081932\ttotal: 2.84ms\tremaining: 2.83s\n",
      "300:\tlearn: 0.8290830\ttotal: 675ms\tremaining: 1.57s\n",
      "600:\tlearn: 0.8626390\ttotal: 1.34s\tremaining: 888ms\n",
      "900:\tlearn: 0.8830372\ttotal: 2.06s\tremaining: 226ms\n",
      "999:\tlearn: 0.8881918\ttotal: 2.28s\tremaining: 0us\n",
      "Learning rate set to 0.007656\n",
      "0:\tlearn: 0.8203143\ttotal: 3.02ms\tremaining: 3.02s\n",
      "300:\tlearn: 0.8463157\ttotal: 684ms\tremaining: 1.59s\n",
      "600:\tlearn: 0.8629457\ttotal: 1.35s\tremaining: 898ms\n",
      "900:\tlearn: 0.8934004\ttotal: 2.08s\tremaining: 229ms\n",
      "999:\tlearn: 0.8959777\ttotal: 2.3s\tremaining: 0us\n",
      "Learning rate set to 0.007656\n",
      "0:\tlearn: 0.7964171\ttotal: 3.51ms\tremaining: 3.51s\n",
      "300:\tlearn: 0.8198411\ttotal: 688ms\tremaining: 1.6s\n",
      "600:\tlearn: 0.8516985\ttotal: 1.35s\tremaining: 899ms\n",
      "900:\tlearn: 0.8786378\ttotal: 2.03s\tremaining: 223ms\n",
      "999:\tlearn: 0.8873078\ttotal: 2.32s\tremaining: 0us\n",
      "Learning rate set to 0.00765\n",
      "0:\tlearn: 0.8031513\ttotal: 2.77ms\tremaining: 2.77s\n",
      "400:\tlearn: 0.8424361\ttotal: 909ms\tremaining: 1.36s\n",
      "800:\tlearn: 0.8769642\ttotal: 1.8s\tremaining: 447ms\n",
      "999:\tlearn: 0.8896543\ttotal: 2.24s\tremaining: 0us\n",
      "Learning rate set to 0.00765\n",
      "0:\tlearn: 0.8174807\ttotal: 4.06ms\tremaining: 4.05s\n",
      "400:\tlearn: 0.8294827\ttotal: 909ms\tremaining: 1.36s\n",
      "800:\tlearn: 0.8626348\ttotal: 1.78s\tremaining: 442ms\n",
      "999:\tlearn: 0.8746369\ttotal: 2.26s\tremaining: 0us\n",
      "Learning rate set to 0.00765\n",
      "0:\tlearn: 0.8081932\ttotal: 3.78ms\tremaining: 3.77s\n",
      "400:\tlearn: 0.8391719\ttotal: 1.29s\tremaining: 1.93s\n",
      "800:\tlearn: 0.8771704\ttotal: 2.16s\tremaining: 538ms\n",
      "999:\tlearn: 0.8881918\ttotal: 2.67s\tremaining: 0us\n",
      "Learning rate set to 0.007656\n",
      "0:\tlearn: 0.8203143\ttotal: 2.45ms\tremaining: 2.45s\n",
      "400:\tlearn: 0.8570897\ttotal: 971ms\tremaining: 1.45s\n",
      "800:\tlearn: 0.8849670\ttotal: 1.86s\tremaining: 462ms\n",
      "999:\tlearn: 0.8959777\ttotal: 2.31s\tremaining: 0us\n",
      "Learning rate set to 0.007656\n",
      "0:\tlearn: 0.7964171\ttotal: 5.33ms\tremaining: 5.33s\n",
      "400:\tlearn: 0.8355332\ttotal: 950ms\tremaining: 1.42s\n",
      "800:\tlearn: 0.8666892\ttotal: 1.83s\tremaining: 455ms\n",
      "999:\tlearn: 0.8873078\ttotal: 2.27s\tremaining: 0us\n",
      "Learning rate set to 0.00765\n",
      "0:\tlearn: 0.8031513\ttotal: 4.09ms\tremaining: 4.09s\n",
      "500:\tlearn: 0.8450268\ttotal: 1.23s\tremaining: 1.23s\n",
      "999:\tlearn: 0.8896543\ttotal: 2.4s\tremaining: 0us\n",
      "Learning rate set to 0.00765\n",
      "0:\tlearn: 0.8174807\ttotal: 3.67ms\tremaining: 3.67s\n",
      "500:\tlearn: 0.8379428\ttotal: 1.15s\tremaining: 1.15s\n",
      "999:\tlearn: 0.8746369\ttotal: 2.33s\tremaining: 0us\n",
      "Learning rate set to 0.00765\n",
      "0:\tlearn: 0.8081932\ttotal: 2.91ms\tremaining: 2.9s\n",
      "500:\tlearn: 0.8527706\ttotal: 1.14s\tremaining: 1.14s\n",
      "999:\tlearn: 0.8881918\ttotal: 2.29s\tremaining: 0us\n",
      "Learning rate set to 0.007656\n",
      "0:\tlearn: 0.8203143\ttotal: 3.51ms\tremaining: 3.51s\n",
      "500:\tlearn: 0.8587291\ttotal: 1.14s\tremaining: 1.13s\n",
      "999:\tlearn: 0.8959777\ttotal: 2.32s\tremaining: 0us\n",
      "Learning rate set to 0.007656\n",
      "0:\tlearn: 0.7964171\ttotal: 3.13ms\tremaining: 3.13s\n",
      "500:\tlearn: 0.8362346\ttotal: 1.13s\tremaining: 1.12s\n",
      "999:\tlearn: 0.8873078\ttotal: 2.29s\tremaining: 0us\n",
      "Learning rate set to 0.008417\n",
      "0:\tlearn: 0.8081278\ttotal: 2.98ms\tremaining: 2.98s\n",
      "50:\tlearn: 0.8220321\ttotal: 139ms\tremaining: 2.59s\n",
      "100:\tlearn: 0.8220321\ttotal: 254ms\tremaining: 2.27s\n",
      "150:\tlearn: 0.8246567\ttotal: 366ms\tremaining: 2.06s\n",
      "200:\tlearn: 0.8272814\ttotal: 485ms\tremaining: 1.93s\n",
      "250:\tlearn: 0.8272814\ttotal: 603ms\tremaining: 1.8s\n",
      "300:\tlearn: 0.8285937\ttotal: 724ms\tremaining: 1.68s\n",
      "350:\tlearn: 0.8319722\ttotal: 841ms\tremaining: 1.55s\n",
      "400:\tlearn: 0.8353506\ttotal: 966ms\tremaining: 1.44s\n",
      "450:\tlearn: 0.8353506\ttotal: 1.08s\tremaining: 1.31s\n",
      "500:\tlearn: 0.8366630\ttotal: 1.19s\tremaining: 1.19s\n",
      "550:\tlearn: 0.8421075\ttotal: 1.31s\tremaining: 1.07s\n",
      "600:\tlearn: 0.8475521\ttotal: 1.43s\tremaining: 947ms\n",
      "650:\tlearn: 0.8535552\ttotal: 1.54s\tremaining: 826ms\n",
      "700:\tlearn: 0.8556214\ttotal: 1.66s\tremaining: 707ms\n",
      "750:\tlearn: 0.8689399\ttotal: 1.77s\tremaining: 588ms\n",
      "800:\tlearn: 0.8715646\ttotal: 1.89s\tremaining: 471ms\n",
      "850:\tlearn: 0.8715646\ttotal: 2.01s\tremaining: 352ms\n",
      "900:\tlearn: 0.8777630\ttotal: 2.13s\tremaining: 234ms\n",
      "950:\tlearn: 0.8798291\ttotal: 2.24s\tremaining: 116ms\n",
      "999:\tlearn: 0.8852736\ttotal: 2.35s\tremaining: 0us\n"
     ]
    },
    {
     "data": {
      "text/plain": [
       "[{'model': 'svm',\n",
       "  'best_score': 0.8266451612903225,\n",
       "  'best_params': {'C': 10, 'kernel': 'rbf'}},\n",
       " {'model': 'random_forest',\n",
       "  'best_score': 0.8347096774193548,\n",
       "  'best_params': {'max_depth': 6, 'min_samples_split': 6, 'n_estimators': 90}},\n",
       " {'model': 'logistic_regression',\n",
       "  'best_score': 0.8331225806451613,\n",
       "  'best_params': {'C': 1, 'penalty': 'l1', 'solver': 'liblinear'}},\n",
       " {'model': 'Decision_tree',\n",
       "  'best_score': 0.828258064516129,\n",
       "  'best_params': {'criterion': 'entropy',\n",
       "   'max_depth': 4,\n",
       "   'min_samples_split': 2,\n",
       "   'splitter': 'best'}},\n",
       " {'model': 'Adaboost Classifier',\n",
       "  'best_score': 0.8234580645161289,\n",
       "  'best_params': {'learning_rate': 0.05, 'n_estimators': 300}},\n",
       " {'model': 'Catboost Classifier',\n",
       "  'best_score': 0.8266838709677421,\n",
       "  'best_params': {'eval_metric': 'BalancedAccuracy',\n",
       "   'loss_function': 'Logloss',\n",
       "   'verbose': 50}}]"
      ]
     },
     "execution_count": 159,
     "metadata": {},
     "output_type": "execute_result"
    }
   ],
   "source": [
    "from sklearn.model_selection import GridSearchCV\n",
    "\n",
    "scores = []\n",
    "for model_name, mp in model_params.items():\n",
    "    clf = GridSearchCV(mp['model'],mp['params'],cv=5)\n",
    "    clf.fit(X_train,y_train)\n",
    "    scores.append({\n",
    "      'model':model_name,\n",
    "      'best_score':clf.best_score_,\n",
    "      'best_params':clf.best_params_\n",
    "    })\n",
    "\n",
    "scores"
   ]
  },
  {
   "cell_type": "markdown",
   "metadata": {},
   "source": [
    "<h5>Random Forest Classifier gives us the best accuracy of 83.63%</h5>"
   ]
  },
  {
   "cell_type": "code",
   "execution_count": 160,
   "metadata": {},
   "outputs": [],
   "source": [
    "def cal_accuracy(confusion_matrix):\n",
    "    tn, fp, fn, tp  = confusion_matrix.ravel()\n",
    "    accuracy = (tp+tn)/(tp+tn+fp+fn)\n",
    "    return round(accuracy,3)"
   ]
  },
  {
   "cell_type": "code",
   "execution_count": 161,
   "metadata": {},
   "outputs": [],
   "source": [
    "def cal_precision(confusion_matrix):\n",
    "    tn, fp, fn, tp  = confusion_matrix.ravel()\n",
    "    precision = tp/(tp+fp)\n",
    "    return round(precision,3)"
   ]
  },
  {
   "cell_type": "code",
   "execution_count": 162,
   "metadata": {},
   "outputs": [],
   "source": [
    "def cal_recall(confusion_matrix):\n",
    "    tn, fp, fn, tp  = confusion_matrix.ravel()\n",
    "    return round(tp/(tp+fn),3)"
   ]
  },
  {
   "cell_type": "code",
   "execution_count": 163,
   "metadata": {},
   "outputs": [],
   "source": [
    "def cal_f1_score(precision,recall):\n",
    "    f1 = (2*precision*recall)/(precision+recall)\n",
    "    return f1"
   ]
  },
  {
   "cell_type": "code",
   "execution_count": 164,
   "metadata": {},
   "outputs": [],
   "source": [
    "rf_classifier = RandomForestClassifier(max_depth= 4, min_samples_split= 8, n_estimators= 80,random_state=0)\n",
    "rf_classifier.fit(X_train,y_train)\n",
    "pred = rf_classifier.predict(X_test)\n",
    "train_pred = rf_classifier.predict(X_train)"
   ]
  },
  {
   "cell_type": "code",
   "execution_count": 165,
   "metadata": {},
   "outputs": [
    {
     "name": "stdout",
     "output_type": "stream",
     "text": [
      "[[346  35]\n",
      " [ 64 178]]\n",
      "train accuracy:  0.841\n",
      "precision:  0.836\n",
      "recall:  0.736\n",
      "f1 score:  0.7828193384223918\n",
      "==================================================\n",
      "[[147  21]\n",
      " [ 27  73]]\n",
      "test accuracy:  0.821\n",
      "precision:  0.777\n",
      "recall:  0.73\n",
      "f1 score:  0.7527670869276708\n"
     ]
    }
   ],
   "source": [
    "from sklearn.metrics import confusion_matrix\n",
    "cm = confusion_matrix(y_train,train_pred)\n",
    "print(cm)\n",
    "print(\"train accuracy: \",cal_accuracy(cm))\n",
    "print(\"precision: \",cal_precision(cm))\n",
    "print(\"recall: \",cal_recall(cm))\n",
    "print(\"f1 score: \",cal_f1_score(cal_precision(cm),cal_recall(cm)))\n",
    "\n",
    "print(\"=\"*50)\n",
    "cm = confusion_matrix(y_test,pred)\n",
    "print(cm)\n",
    "print(\"test accuracy: \",cal_accuracy(cm))\n",
    "print(\"precision: \",cal_precision(cm))\n",
    "print(\"recall: \",cal_recall(cm))\n",
    "print(\"f1 score: \",cal_f1_score(cal_precision(cm),cal_recall(cm)))"
   ]
  },
  {
   "cell_type": "code",
   "execution_count": 166,
   "metadata": {},
   "outputs": [
    {
     "name": "stdout",
     "output_type": "stream",
     "text": [
      "The accuracy is =  0.8208955223880597\n",
      "The precision score is =  0.776595744680851\n",
      "The recall score is =  0.73\n",
      "The f1-score is =  0.7525773195876287\n"
     ]
    }
   ],
   "source": [
    "from sklearn.metrics import precision_score, recall_score, f1_score, accuracy_score\n",
    "print(\"The accuracy is = \",accuracy_score(y_test,pred))\n",
    "print(\"The precision score is = \",precision_score(y_test,pred))\n",
    "print(\"The recall score is = \",recall_score(y_test,pred))\n",
    "print(\"The f1-score is = \",f1_score(y_test,pred))"
   ]
  },
  {
   "cell_type": "code",
   "execution_count": null,
   "metadata": {},
   "outputs": [],
   "source": []
  }
 ],
 "metadata": {
  "colab": {
   "collapsed_sections": [
    "niwpNf_EYNC9",
    "TvhXRmGyYNC_",
    "ZBLwVsQIYNDA",
    "a7pxLfloYNDM",
    "QPOM6rXpYNDW",
    "LDYWYnvwYNDY",
    "OIFaYgUWYNDa",
    "vWiXgySxYNDd",
    "N6tS1j4iYNDe"
   ],
   "name": "Task2.ipynb",
   "provenance": []
  },
  "kernelspec": {
   "display_name": "Python 3",
   "language": "python",
   "name": "python3"
  },
  "language_info": {
   "codemirror_mode": {
    "name": "ipython",
    "version": 3
   },
   "file_extension": ".py",
   "mimetype": "text/x-python",
   "name": "python",
   "nbconvert_exporter": "python",
   "pygments_lexer": "ipython3",
   "version": "3.8.5"
  }
 },
 "nbformat": 4,
 "nbformat_minor": 1
}
