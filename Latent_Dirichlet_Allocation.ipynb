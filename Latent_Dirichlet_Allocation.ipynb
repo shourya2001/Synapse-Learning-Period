{
 "cells": [
  {
   "cell_type": "markdown",
   "metadata": {},
   "source": [
    "## Latent Dirichlet Allocation ##\n",
    "**Watch these videos:**\n",
    "- https://www.youtube.com/watch?v=azXCzI57Yfc\n",
    "- https://www.youtube.com/watch?v=T05t-SqKArY\n",
    "- https://www.youtube.com/watch?v=BaM1uiCpj_E\n",
    "\n",
    "LDA is used to classify text in a document to a particular topic. It builds a topic per document model and words per topic model, modeled as Dirichlet distributions. \n",
    "\n",
    "* Each document is modeled as a multinomial distribution of topics and each topic is modeled as a multinomial distribution of words.\n",
    "* LDA assumes that the every chunk of text we feed into it will contain words that are somehow related. Therefore choosing the right corpus of data is crucial. \n",
    "* It also assumes documents are produced from a mixture of topics. Those topics then generate words based on their probability distribution. "
   ]
  },
  {
   "cell_type": "markdown",
   "metadata": {},
   "source": [
    "## Step 1: Load the dataset\n",
    "\n",
    "The dataset we'll use is a list of over one million news headlines published over a period of 15 years. We'll start by loading it from the `abcnews-date-text.csv` file."
   ]
  },
  {
   "cell_type": "code",
   "execution_count": 46,
   "metadata": {},
   "outputs": [
    {
     "name": "stdout",
     "output_type": "stream",
     "text": [
      "RangeIndex(start=0, stop=1103665, step=1)\n"
     ]
    }
   ],
   "source": [
    "'''\n",
    "Load the dataset from the CSV and save it to 'data_text'. We only need the'headline_text' column,\n",
    "so drop the rest of the columns. Call the final dataframe \"documents\" \n",
    "Then, add an 'index' column to the dataframe. Be sure to name it index.\n",
    "Hint: dataframe.index\n",
    "'''\n",
    "import sys\n",
    "import numpy as np\n",
    "import pandas as pd\n",
    "import sklearn\n",
    "\n",
    "# Libraries and packages for text (pre-)processing \n",
    "import string\n",
    "import re\n",
    "import nltk\n",
    "\n",
    "data_text = pd.read_csv(\"abcnews-date-text.csv\")\n",
    "data_text.head()\n",
    "data_text[\"index\"] = data_text.index\n",
    "data_text.head()\n",
    "documents = data_text.drop([\"publish_date\"],axis=1)\n",
    "documents.head()\n",
    "# documents[\"index\"] = documents.index\n",
    "documents.set_index(\"index\")\n",
    "documents.head()\n",
    "print(documents.index)"
   ]
  },
  {
   "cell_type": "markdown",
   "metadata": {},
   "source": [
    "Let's glance at the dataset:"
   ]
  },
  {
   "cell_type": "code",
   "execution_count": 47,
   "metadata": {},
   "outputs": [
    {
     "data": {
      "text/plain": [
       "(1103665, 2)"
      ]
     },
     "execution_count": 47,
     "metadata": {},
     "output_type": "execute_result"
    }
   ],
   "source": [
    "'''\n",
    "print the total number of documents\n",
    "'''\n",
    "documents.shape"
   ]
  },
  {
   "cell_type": "code",
   "execution_count": 48,
   "metadata": {},
   "outputs": [
    {
     "data": {
      "text/html": [
       "<div>\n",
       "<style scoped>\n",
       "    .dataframe tbody tr th:only-of-type {\n",
       "        vertical-align: middle;\n",
       "    }\n",
       "\n",
       "    .dataframe tbody tr th {\n",
       "        vertical-align: top;\n",
       "    }\n",
       "\n",
       "    .dataframe thead th {\n",
       "        text-align: right;\n",
       "    }\n",
       "</style>\n",
       "<table border=\"1\" class=\"dataframe\">\n",
       "  <thead>\n",
       "    <tr style=\"text-align: right;\">\n",
       "      <th></th>\n",
       "      <th>headline_text</th>\n",
       "      <th>index</th>\n",
       "    </tr>\n",
       "  </thead>\n",
       "  <tbody>\n",
       "    <tr>\n",
       "      <th>0</th>\n",
       "      <td>aba decides against community broadcasting lic...</td>\n",
       "      <td>0</td>\n",
       "    </tr>\n",
       "    <tr>\n",
       "      <th>1</th>\n",
       "      <td>act fire witnesses must be aware of defamation</td>\n",
       "      <td>1</td>\n",
       "    </tr>\n",
       "    <tr>\n",
       "      <th>2</th>\n",
       "      <td>a g calls for infrastructure protection summit</td>\n",
       "      <td>2</td>\n",
       "    </tr>\n",
       "    <tr>\n",
       "      <th>3</th>\n",
       "      <td>air nz staff in aust strike for pay rise</td>\n",
       "      <td>3</td>\n",
       "    </tr>\n",
       "    <tr>\n",
       "      <th>4</th>\n",
       "      <td>air nz strike to affect australian travellers</td>\n",
       "      <td>4</td>\n",
       "    </tr>\n",
       "  </tbody>\n",
       "</table>\n",
       "</div>"
      ],
      "text/plain": [
       "                                       headline_text  index\n",
       "0  aba decides against community broadcasting lic...      0\n",
       "1     act fire witnesses must be aware of defamation      1\n",
       "2     a g calls for infrastructure protection summit      2\n",
       "3           air nz staff in aust strike for pay rise      3\n",
       "4      air nz strike to affect australian travellers      4"
      ]
     },
     "execution_count": 48,
     "metadata": {},
     "output_type": "execute_result"
    }
   ],
   "source": [
    "documents[:5]"
   ]
  },
  {
   "cell_type": "markdown",
   "metadata": {},
   "source": [
    "## Step 2: Data Preprocessing ##\n",
    "\n",
    "We will perform the following steps:\n",
    "\n",
    "* **Tokenization**: Split the text into sentences and the sentences into words. Lowercase the words and remove punctuation.\n",
    "* Words that have fewer than 3 characters are removed.\n",
    "* All **stopwords** are removed.\n",
    "* Words are **lemmatized** - words in third person are changed to first person and verbs in past and future tenses are changed into present.\n",
    "* Words are **stemmed** - words are reduced to their root form.\n",
    "\n",
    "This time, we'll make use of the gensim library and show you how  to preprocess text easily. "
   ]
  },
  {
   "cell_type": "code",
   "execution_count": 49,
   "metadata": {},
   "outputs": [],
   "source": [
    "'''\n",
    "Loading Gensim and nltk libraries\n",
    "'''\n",
    "# pip install gensim\n",
    "import gensim\n",
    "from gensim.utils import simple_preprocess\n",
    "from gensim.parsing.preprocessing import STOPWORDS\n",
    "from nltk.stem import WordNetLemmatizer, SnowballStemmer\n",
    "from nltk.stem.porter import *\n",
    "import numpy as np\n",
    "np.random.seed(400)"
   ]
  },
  {
   "cell_type": "code",
   "execution_count": 50,
   "metadata": {},
   "outputs": [
    {
     "name": "stderr",
     "output_type": "stream",
     "text": [
      "[nltk_data] Downloading package wordnet to\n",
      "[nltk_data]     C:\\Users\\admin\\AppData\\Roaming\\nltk_data...\n",
      "[nltk_data]   Package wordnet is already up-to-date!\n"
     ]
    },
    {
     "data": {
      "text/plain": [
       "True"
      ]
     },
     "execution_count": 50,
     "metadata": {},
     "output_type": "execute_result"
    }
   ],
   "source": [
    "import nltk\n",
    "nltk.download('wordnet')"
   ]
  },
  {
   "cell_type": "markdown",
   "metadata": {},
   "source": [
    "### Lemmatizer Example\n",
    "Before preprocessing our dataset, let's first look at an lemmatizing example. What would be the output if we lemmatized the word 'went':"
   ]
  },
  {
   "cell_type": "code",
   "execution_count": 51,
   "metadata": {},
   "outputs": [
    {
     "name": "stdout",
     "output_type": "stream",
     "text": [
      "go\n"
     ]
    }
   ],
   "source": [
    "print(WordNetLemmatizer().lemmatize('went', pos = 'v')) # past tense to present tense"
   ]
  },
  {
   "cell_type": "markdown",
   "metadata": {},
   "source": [
    "### Stemmer Example\n",
    "Let's also look at a stemming example. Let's throw a number of words at the stemmer and see how it deals with each one:"
   ]
  },
  {
   "cell_type": "code",
   "execution_count": 52,
   "metadata": {},
   "outputs": [
    {
     "data": {
      "text/html": [
       "<div>\n",
       "<style scoped>\n",
       "    .dataframe tbody tr th:only-of-type {\n",
       "        vertical-align: middle;\n",
       "    }\n",
       "\n",
       "    .dataframe tbody tr th {\n",
       "        vertical-align: top;\n",
       "    }\n",
       "\n",
       "    .dataframe thead th {\n",
       "        text-align: right;\n",
       "    }\n",
       "</style>\n",
       "<table border=\"1\" class=\"dataframe\">\n",
       "  <thead>\n",
       "    <tr style=\"text-align: right;\">\n",
       "      <th></th>\n",
       "      <th>original word</th>\n",
       "      <th>stemmed</th>\n",
       "    </tr>\n",
       "  </thead>\n",
       "  <tbody>\n",
       "    <tr>\n",
       "      <th>0</th>\n",
       "      <td>caresses</td>\n",
       "      <td>caress</td>\n",
       "    </tr>\n",
       "    <tr>\n",
       "      <th>1</th>\n",
       "      <td>flies</td>\n",
       "      <td>fli</td>\n",
       "    </tr>\n",
       "    <tr>\n",
       "      <th>2</th>\n",
       "      <td>dies</td>\n",
       "      <td>die</td>\n",
       "    </tr>\n",
       "    <tr>\n",
       "      <th>3</th>\n",
       "      <td>mules</td>\n",
       "      <td>mule</td>\n",
       "    </tr>\n",
       "    <tr>\n",
       "      <th>4</th>\n",
       "      <td>denied</td>\n",
       "      <td>deni</td>\n",
       "    </tr>\n",
       "    <tr>\n",
       "      <th>5</th>\n",
       "      <td>died</td>\n",
       "      <td>die</td>\n",
       "    </tr>\n",
       "    <tr>\n",
       "      <th>6</th>\n",
       "      <td>agreed</td>\n",
       "      <td>agre</td>\n",
       "    </tr>\n",
       "    <tr>\n",
       "      <th>7</th>\n",
       "      <td>owned</td>\n",
       "      <td>own</td>\n",
       "    </tr>\n",
       "    <tr>\n",
       "      <th>8</th>\n",
       "      <td>humbled</td>\n",
       "      <td>humbl</td>\n",
       "    </tr>\n",
       "    <tr>\n",
       "      <th>9</th>\n",
       "      <td>sized</td>\n",
       "      <td>size</td>\n",
       "    </tr>\n",
       "    <tr>\n",
       "      <th>10</th>\n",
       "      <td>meeting</td>\n",
       "      <td>meet</td>\n",
       "    </tr>\n",
       "    <tr>\n",
       "      <th>11</th>\n",
       "      <td>stating</td>\n",
       "      <td>state</td>\n",
       "    </tr>\n",
       "    <tr>\n",
       "      <th>12</th>\n",
       "      <td>siezing</td>\n",
       "      <td>siez</td>\n",
       "    </tr>\n",
       "    <tr>\n",
       "      <th>13</th>\n",
       "      <td>itemization</td>\n",
       "      <td>item</td>\n",
       "    </tr>\n",
       "    <tr>\n",
       "      <th>14</th>\n",
       "      <td>sensational</td>\n",
       "      <td>sensat</td>\n",
       "    </tr>\n",
       "    <tr>\n",
       "      <th>15</th>\n",
       "      <td>traditional</td>\n",
       "      <td>tradit</td>\n",
       "    </tr>\n",
       "    <tr>\n",
       "      <th>16</th>\n",
       "      <td>reference</td>\n",
       "      <td>refer</td>\n",
       "    </tr>\n",
       "    <tr>\n",
       "      <th>17</th>\n",
       "      <td>colonizer</td>\n",
       "      <td>colon</td>\n",
       "    </tr>\n",
       "    <tr>\n",
       "      <th>18</th>\n",
       "      <td>plotted</td>\n",
       "      <td>plot</td>\n",
       "    </tr>\n",
       "  </tbody>\n",
       "</table>\n",
       "</div>"
      ],
      "text/plain": [
       "   original word stemmed\n",
       "0       caresses  caress\n",
       "1          flies     fli\n",
       "2           dies     die\n",
       "3          mules    mule\n",
       "4         denied    deni\n",
       "5           died     die\n",
       "6         agreed    agre\n",
       "7          owned     own\n",
       "8        humbled   humbl\n",
       "9          sized    size\n",
       "10       meeting    meet\n",
       "11       stating   state\n",
       "12       siezing    siez\n",
       "13   itemization    item\n",
       "14   sensational  sensat\n",
       "15   traditional  tradit\n",
       "16     reference   refer\n",
       "17     colonizer   colon\n",
       "18       plotted    plot"
      ]
     },
     "execution_count": 52,
     "metadata": {},
     "output_type": "execute_result"
    }
   ],
   "source": [
    "stemmer = SnowballStemmer(\"english\")\n",
    "original_words = ['caresses', 'flies', 'dies', 'mules', 'denied','died', 'agreed', 'owned', \n",
    "           'humbled', 'sized','meeting', 'stating', 'siezing', 'itemization','sensational', \n",
    "           'traditional', 'reference', 'colonizer','plotted']\n",
    "singles = [stemmer.stem(plural) for plural in original_words]\n",
    "\n",
    "pd.DataFrame(data={'original word':original_words, 'stemmed':singles })"
   ]
  },
  {
   "cell_type": "code",
   "execution_count": 53,
   "metadata": {},
   "outputs": [],
   "source": [
    "'''\n",
    "Write a function to perform the pre processing steps on the entire dataset\n",
    "'''\n",
    "\n",
    "\n",
    "def lemmatize_stemming(text):\n",
    "    '''\n",
    "        1) Lemmatize the text\n",
    "        2) Then, stem the text\n",
    "        3) return final text\n",
    "    '''\n",
    "    lemm = WordNetLemmatizer().lemmatize(text, pos='v')\n",
    "    return stemmer.stem(lemm)\n",
    "\n",
    "\n",
    "\n",
    "# Tokenize and lemmatize. Look up how preprocessing is being done\n",
    "def preprocess(text):\n",
    "    result=[]\n",
    "    for token in gensim.utils.simple_preprocess(text) :\n",
    "        if token not in gensim.parsing.preprocessing.STOPWORDS and len(token) > 3:\n",
    "            \n",
    "            # TODO: Apply lemmatize_stemming on the token, then add to the results list\n",
    "            result.append(lemmatize_stemming(token))\n",
    "        \n",
    "        \n",
    "    return result"
   ]
  },
  {
   "cell_type": "code",
   "execution_count": 54,
   "metadata": {},
   "outputs": [
    {
     "name": "stdout",
     "output_type": "stream",
     "text": [
      "Original document: \n",
      "['rain', 'helps', 'dampen', 'bushfires']\n",
      "\n",
      "\n",
      "Tokenized and lemmatized document: \n",
      "['rain', 'help', 'dampen', 'bushfir']\n"
     ]
    }
   ],
   "source": [
    "'''\n",
    "Preview a document after preprocessing\n",
    "'''\n",
    "document_num = 4310\n",
    "doc_sample = documents[documents['index'] == document_num].values[0][0]\n",
    "\n",
    "print(\"Original document: \")\n",
    "words = []\n",
    "for word in doc_sample.split(' '):\n",
    "    words.append(word)\n",
    "print(words)\n",
    "print(\"\\n\\nTokenized and lemmatized document: \")\n",
    "print(preprocess(doc_sample))"
   ]
  },
  {
   "cell_type": "markdown",
   "metadata": {},
   "source": [
    "Let's now preprocess all the news headlines we have. To do that, let's use the [map](https://pandas.pydata.org/pandas-docs/stable/generated/pandas.Series.map.html) function from pandas to apply `preprocess()` to the `headline_text` column\n",
    "\n",
    "**Note**: This may take a few minutes"
   ]
  },
  {
   "cell_type": "code",
   "execution_count": 55,
   "metadata": {},
   "outputs": [],
   "source": [
    "# TODO: preprocess all the headlines, saving the list of results as 'processed_docs'\n",
    "documents\n",
    "processed_docs = documents['headline_text'].map(preprocess)"
   ]
  },
  {
   "cell_type": "code",
   "execution_count": 56,
   "metadata": {},
   "outputs": [
    {
     "data": {
      "text/plain": [
       "0            [decid, communiti, broadcast, licenc]\n",
       "1                               [wit, awar, defam]\n",
       "2           [call, infrastructur, protect, summit]\n",
       "3                      [staff, aust, strike, rise]\n",
       "4             [strike, affect, australian, travel]\n",
       "5               [ambiti, olsson, win, tripl, jump]\n",
       "6           [antic, delight, record, break, barca]\n",
       "7    [aussi, qualifi, stosur, wast, memphi, match]\n",
       "8            [aust, address, secur, council, iraq]\n",
       "9                         [australia, lock, timet]\n",
       "Name: headline_text, dtype: object"
      ]
     },
     "execution_count": 56,
     "metadata": {},
     "output_type": "execute_result"
    }
   ],
   "source": [
    "'''\n",
    "Preview 'processed_docs'\n",
    "'''\n",
    "processed_docs[:10]"
   ]
  },
  {
   "cell_type": "markdown",
   "metadata": {},
   "source": [
    "## Step 3.1: Bag of words on the dataset\n",
    "\n",
    "Now let's create a dictionary from 'processed_docs' containing the number of times a word appears in the training set. To do that, let's pass `processed_docs` to [`gensim.corpora.Dictionary()`](https://radimrehurek.com/gensim/corpora/dictionary.html) and call it '`dictionary`'."
   ]
  },
  {
   "cell_type": "code",
   "execution_count": 57,
   "metadata": {},
   "outputs": [],
   "source": [
    "'''\n",
    "Create a dictionary from 'processed_docs' containing the number of times a word appears \n",
    "in the training set using gensim.corpora.Dictionary and call it 'dictionary'\n",
    "'''\n",
    "#  Todo\n",
    "dictionary = gensim.corpora.Dictionary(processed_docs)"
   ]
  },
  {
   "cell_type": "code",
   "execution_count": 58,
   "metadata": {},
   "outputs": [
    {
     "name": "stdout",
     "output_type": "stream",
     "text": [
      "0 broadcast\n",
      "1 communiti\n",
      "2 decid\n",
      "3 licenc\n",
      "4 awar\n",
      "5 defam\n",
      "6 wit\n",
      "7 call\n",
      "8 infrastructur\n",
      "9 protect\n",
      "10 summit\n"
     ]
    }
   ],
   "source": [
    "'''\n",
    "Checking dictionary created\n",
    "'''\n",
    "count = 0\n",
    "for k, v in dictionary.iteritems():\n",
    "    print(k, v)\n",
    "    count += 1\n",
    "    if count > 10:\n",
    "        break"
   ]
  },
  {
   "cell_type": "markdown",
   "metadata": {},
   "source": [
    "** Gensim filter_extremes **\n",
    "\n",
    "[`filter_extremes(no_below=5, no_above=0.5, keep_n=100000)`](https://radimrehurek.com/gensim/corpora/dictionary.html#gensim.corpora.dictionary.Dictionary.filter_extremes)\n",
    "\n",
    "Filter out tokens that appear in\n",
    "\n",
    "* less than no_below documents (absolute number) or\n",
    "* more than no_above documents (fraction of total corpus size, not absolute number).\n",
    "* after (1) and (2), keep only the first keep_n most frequent tokens (or keep all if None)."
   ]
  },
  {
   "cell_type": "code",
   "execution_count": 59,
   "metadata": {},
   "outputs": [],
   "source": [
    "'''\n",
    "Remove very rare and very common words:\n",
    "\n",
    "- words appearing less than 15 times\n",
    "- words appearing in more than 10% of all documents\n",
    "- keep 100000 most frequent tokens\n",
    "'''\n",
    "# TODO: apply dictionary.filter_extremes() with the parameters mentioned above\n",
    "dictionary.filter_extremes(no_below=15,no_above=0.1,keep_n = 100000)"
   ]
  },
  {
   "cell_type": "markdown",
   "metadata": {},
   "source": [
    "** Gensim doc2bow **\n",
    "\n",
    "[`doc2bow(document)`](https://radimrehurek.com/gensim/corpora/dictionary.html#gensim.corpora.dictionary.Dictionary.doc2bow)\n",
    "\n",
    "* Convert document (a list of words) into the bag-of-words format = list of (token_id, token_count) 2-tuples. Each word is assumed to be a tokenized and normalized string (either unicode or utf8-encoded). No further preprocessing is done on the words in document; apply tokenization, stemming etc. before calling this method."
   ]
  },
  {
   "cell_type": "code",
   "execution_count": 60,
   "metadata": {},
   "outputs": [],
   "source": [
    "'''\n",
    "Create the Bag-of-words model for each document i.e for each document we create a dictionary reporting how many\n",
    "words and how many times those words appear. Save this to 'bow_corpus'.\n",
    "Hint: Since we want a BoW model for each document, you can use list comprehension instead of for loops. List\n",
    "comprehension is the more pythonic way.\n",
    "'''\n",
    "#  Todo:\n",
    "bow_corpus = [dictionary.doc2bow(words) for words in processed_docs]"
   ]
  },
  {
   "cell_type": "code",
   "execution_count": 61,
   "metadata": {},
   "outputs": [
    {
     "data": {
      "text/plain": [
       "[(76, 1), (112, 1), (483, 1), (4014, 1)]"
      ]
     },
     "execution_count": 61,
     "metadata": {},
     "output_type": "execute_result"
    }
   ],
   "source": [
    "'''\n",
    "Checking Bag of Words corpus for our sample document --> (token_id, token_count)\n",
    "'''\n",
    "bow_corpus[document_num]"
   ]
  },
  {
   "cell_type": "code",
   "execution_count": 62,
   "metadata": {},
   "outputs": [
    {
     "name": "stdout",
     "output_type": "stream",
     "text": [
      "Word 76 (\"bushfir\") appears 1 time.\n",
      "Word 112 (\"help\") appears 1 time.\n",
      "Word 483 (\"rain\") appears 1 time.\n",
      "Word 4014 (\"dampen\") appears 1 time.\n"
     ]
    }
   ],
   "source": [
    "'''\n",
    "Preview BOW for our sample preprocessed document\n",
    "'''\n",
    "# Here document_num is document number 4310 which we have checked in Step 2\n",
    "bow_doc_4310 = bow_corpus[document_num]\n",
    "\n",
    "for i in range(len(bow_doc_4310)):\n",
    "    print(\"Word {} (\\\"{}\\\") appears {} time.\".format(bow_doc_4310[i][0], \n",
    "                                                     dictionary[bow_doc_4310[i][0]], \n",
    "                                                     bow_doc_4310[i][1]))"
   ]
  },
  {
   "cell_type": "markdown",
   "metadata": {},
   "source": [
    "## Step 3.2: TF-IDF on our document set ##\n",
    "\n",
    "While performing TF-IDF on the corpus is not necessary for LDA implemention using the gensim model, it is recemmended. TF-IDF expects a bag-of-words (integer values) training corpus during initialization. During transformation, it will take a vector and return another vector of the same dimensionality.\n",
    "\n",
    "*Please note: The author of Gensim dictates the standard procedure for LDA to be using the Bag of Words model.*"
   ]
  },
  {
   "cell_type": "markdown",
   "metadata": {},
   "source": [
    "** TF-IDF stands for \"Term Frequency, Inverse Document Frequency\".**\n",
    "\n",
    "* It is a way to score the importance of words (or \"terms\") in a document based on how frequently they appear across multiple documents.\n",
    "* If a word appears frequently in a document, it's important. Give the word a high score. But if a word appears in many documents, it's not a unique identifier. Give the word a low score.\n",
    "* Therefore, common words like \"the\" and \"for\", which appear in many documents, will be scaled down. Words that appear frequently in a single document will be scaled up.\n",
    "\n",
    "In other words:\n",
    "\n",
    "* TF(w) = `(Number of times term w appears in a document) / (Total number of terms in the document)`.\n",
    "* IDF(w) = `log_e(Total number of documents / Number of documents with term w in it)`.\n",
    "\n",
    "** For example **\n",
    "\n",
    "* Consider a document containing `100` words wherein the word 'tiger' appears 3 times. \n",
    "* The term frequency (i.e., tf) for 'tiger' is then: \n",
    "    - `TF = (3 / 100) = 0.03`. \n",
    "\n",
    "* Now, assume we have `10 million` documents and the word 'tiger' appears in `1000` of these. Then, the inverse document frequency (i.e., idf) is calculated as:\n",
    "    - `IDF = log(10,000,000 / 1,000) = 4`. \n",
    "\n",
    "* Thus, the Tf-idf weight is the product of these quantities: \n",
    "    - `TF-IDF = 0.03 * 4 = 0.12`."
   ]
  },
  {
   "cell_type": "code",
   "execution_count": 63,
   "metadata": {},
   "outputs": [],
   "source": [
    "'''\n",
    "Create tf-idf model object using models.TfidfModel on 'bow_corpus' and save it to 'tfidf'\n",
    "'''\n",
    "from gensim import corpora, models\n",
    "# TODO\n",
    "tfidf = models.TfidfModel(bow_corpus)"
   ]
  },
  {
   "cell_type": "code",
   "execution_count": 64,
   "metadata": {},
   "outputs": [],
   "source": [
    "'''\n",
    "Apply transformation to the entire corpus and call it 'corpus_tfidf'\n",
    "'''\n",
    "# TODO\n",
    "corpus_tfidf = tfidf[bow_corpus]"
   ]
  },
  {
   "cell_type": "code",
   "execution_count": 65,
   "metadata": {},
   "outputs": [
    {
     "name": "stdout",
     "output_type": "stream",
     "text": [
      "[(0, 0.5892908644709983),\n",
      " (1, 0.38929657403503015),\n",
      " (2, 0.4964985198530063),\n",
      " (3, 0.5046520328695662)]\n"
     ]
    }
   ],
   "source": [
    "'''\n",
    "Preview TF-IDF scores for our first document --> --> (token_id, tfidf score)\n",
    "'''\n",
    "from pprint import pprint\n",
    "for doc in corpus_tfidf:\n",
    "    pprint(doc)\n",
    "    break"
   ]
  },
  {
   "cell_type": "markdown",
   "metadata": {},
   "source": [
    "## Step 4.1: Running LDA using Bag of Words ##\n",
    "\n",
    "We are going for 10 topics in the document corpus.\n",
    "\n",
    "** We will be running LDA using all CPU cores to parallelize and speed up model training.**\n",
    "\n",
    "Some of the parameters we will be tweaking are:\n",
    "\n",
    "* **num_topics** is the number of requested latent topics to be extracted from the training corpus.\n",
    "* **id2word** is a mapping from word ids (integers) to words (strings). It is used to determine the vocabulary size, as well as for debugging and topic printing.\n",
    "* **workers** is the number of extra processes to use for parallelization. Uses all available cores by default.\n",
    "* **alpha** and **eta** are hyperparameters that affect sparsity of the document-topic (theta) and topic-word (lambda) distributions. We will let these be the default values for now(default value is `1/num_topics`)\n",
    "    - Alpha is the per document topic distribution.\n",
    "        * High alpha: Every document has a mixture of all topics(documents appear similar to each other).\n",
    "        * Low alpha: Every document has a mixture of very few topics\n",
    "\n",
    "    - Eta is the per topic word distribution.\n",
    "        * High eta: Each topic has a mixture of most words(topics appear similar to each other).\n",
    "        * Low eta: Each topic has a mixture of few words.\n",
    "\n",
    "* ** passes ** is the number of training passes through the corpus. For  example, if the training corpus has 50,000 documents, chunksize is  10,000, passes is 2, then online training is done in 10 updates: \n",
    "    * `#1 documents 0-9,999 `\n",
    "    * `#2 documents 10,000-19,999 `\n",
    "    * `#3 documents 20,000-29,999 `\n",
    "    * `#4 documents 30,000-39,999 `\n",
    "    * `#5 documents 40,000-49,999 `\n",
    "    * `#6 documents 0-9,999 `\n",
    "    * `#7 documents 10,000-19,999 `\n",
    "    * `#8 documents 20,000-29,999 `\n",
    "    * `#9 documents 30,000-39,999 `\n",
    "    * `#10 documents 40,000-49,999` "
   ]
  },
  {
   "cell_type": "code",
   "execution_count": 66,
   "metadata": {},
   "outputs": [],
   "source": [
    "# LDA multicore \n",
    "'''\n",
    "Train your lda model using gensim.models.LdaMulticore and save it to 'lda_model'\n",
    "\n",
    "If Multicore is throwing errors on you laptop, use LDA mono-core, gensim.models.LdaModel\n",
    "'''\n",
    "# TODO\n",
    "lda_model = gensim.models.LdaMulticore(bow_corpus,\n",
    "                                       num_topics=10,\n",
    "                                       id2word=dictionary,\n",
    "                                       workers=2,\n",
    "                                       passes=2\n",
    "                                      )"
   ]
  },
  {
   "cell_type": "code",
   "execution_count": 67,
   "metadata": {},
   "outputs": [
    {
     "name": "stdout",
     "output_type": "stream",
     "text": [
      "Topic: 0 \n",
      "Words: 0.041*\"polic\" + 0.029*\"charg\" + 0.023*\"melbourn\" + 0.021*\"murder\" + 0.016*\"alleg\" + 0.015*\"famili\" + 0.015*\"jail\" + 0.014*\"accus\" + 0.013*\"tasmania\" + 0.013*\"drug\"\n",
      "\n",
      "\n",
      "Topic: 1 \n",
      "Words: 0.035*\"queensland\" + 0.025*\"coast\" + 0.021*\"miss\" + 0.016*\"gold\" + 0.015*\"abus\" + 0.013*\"search\" + 0.013*\"hold\" + 0.012*\"prison\" + 0.012*\"polic\" + 0.011*\"bodi\"\n",
      "\n",
      "\n",
      "Topic: 2 \n",
      "Words: 0.040*\"year\" + 0.017*\"warn\" + 0.015*\"work\" + 0.014*\"take\" + 0.013*\"worker\" + 0.012*\"lead\" + 0.012*\"week\" + 0.012*\"vote\" + 0.011*\"port\" + 0.010*\"australia\"\n",
      "\n",
      "\n",
      "Topic: 3 \n",
      "Words: 0.034*\"govern\" + 0.022*\"hous\" + 0.019*\"death\" + 0.018*\"interview\" + 0.016*\"tasmanian\" + 0.015*\"rise\" + 0.014*\"time\" + 0.014*\"price\" + 0.012*\"protest\" + 0.012*\"park\"\n",
      "\n",
      "\n",
      "Topic: 4 \n",
      "Words: 0.024*\"south\" + 0.024*\"report\" + 0.020*\"test\" + 0.018*\"say\" + 0.017*\"north\" + 0.015*\"west\" + 0.015*\"australia\" + 0.011*\"guilti\" + 0.011*\"call\" + 0.011*\"polit\"\n",
      "\n",
      "\n",
      "Topic: 5 \n",
      "Words: 0.026*\"kill\" + 0.024*\"crash\" + 0.021*\"die\" + 0.018*\"donald\" + 0.017*\"dead\" + 0.016*\"attack\" + 0.012*\"farm\" + 0.012*\"beat\" + 0.011*\"violenc\" + 0.010*\"star\"\n",
      "\n",
      "\n",
      "Topic: 6 \n",
      "Words: 0.025*\"australian\" + 0.025*\"adelaid\" + 0.022*\"open\" + 0.016*\"home\" + 0.015*\"market\" + 0.015*\"leav\" + 0.014*\"share\" + 0.014*\"break\" + 0.013*\"road\" + 0.013*\"fall\"\n",
      "\n",
      "\n",
      "Topic: 7 \n",
      "Words: 0.019*\"elect\" + 0.018*\"state\" + 0.017*\"health\" + 0.016*\"help\" + 0.016*\"rural\" + 0.015*\"nation\" + 0.015*\"hour\" + 0.013*\"peopl\" + 0.012*\"farmer\" + 0.012*\"train\"\n",
      "\n",
      "\n",
      "Topic: 8 \n",
      "Words: 0.030*\"court\" + 0.019*\"face\" + 0.018*\"council\" + 0.014*\"indigen\" + 0.012*\"fund\" + 0.012*\"plan\" + 0.012*\"communiti\" + 0.010*\"feder\" + 0.010*\"group\" + 0.009*\"review\"\n",
      "\n",
      "\n",
      "Topic: 9 \n",
      "Words: 0.032*\"trump\" + 0.024*\"world\" + 0.022*\"australia\" + 0.018*\"canberra\" + 0.017*\"countri\" + 0.016*\"live\" + 0.015*\"china\" + 0.015*\"hospit\" + 0.013*\"turnbul\" + 0.011*\"leagu\"\n",
      "\n",
      "\n"
     ]
    }
   ],
   "source": [
    "'''\n",
    "For each topic, we will explore the words occuring in that topic and its relative weight\n",
    "'''\n",
    "for idx, topic in lda_model.print_topics(-1):\n",
    "    print(\"Topic: {} \\nWords: {}\".format(idx, topic))\n",
    "    print(\"\\n\")"
   ]
  },
  {
   "cell_type": "markdown",
   "metadata": {},
   "source": [
    "### Classification of the topics ###\n",
    "\n",
    "Using the words in each topic and their corresponding weights, what categories were you able to infer?\n",
    "\n",
    "* 0: \n",
    "* 1: \n",
    "* 2: \n",
    "* 3: \n",
    "* 4: \n",
    "* 5: \n",
    "* 6: \n",
    "* 7:  \n",
    "* 8: \n",
    "* 9: "
   ]
  },
  {
   "cell_type": "markdown",
   "metadata": {},
   "source": [
    "## Step 4.2 Running LDA using TF-IDF ##"
   ]
  },
  {
   "cell_type": "code",
   "execution_count": 68,
   "metadata": {},
   "outputs": [],
   "source": [
    "'''\n",
    "Define lda model using corpus_tfidf\n",
    "'''\n",
    "# TODO\n",
    "lda_model_tfidf = gensim.models.LdaMulticore(corpus_tfidf, \n",
    "                                             num_topics=10, \n",
    "                                             id2word = dictionary, \n",
    "                                             passes = 2, \n",
    "                                             workers=2)"
   ]
  },
  {
   "cell_type": "code",
   "execution_count": 69,
   "metadata": {},
   "outputs": [
    {
     "name": "stdout",
     "output_type": "stream",
     "text": [
      "Topic: 0 Word: 0.015*\"countri\" + 0.013*\"hour\" + 0.008*\"health\" + 0.008*\"elect\" + 0.007*\"marriag\" + 0.007*\"say\" + 0.006*\"labor\" + 0.006*\"liber\" + 0.005*\"program\" + 0.005*\"indigen\"\n",
      "\n",
      "\n",
      "Topic: 1 Word: 0.019*\"charg\" + 0.015*\"murder\" + 0.014*\"court\" + 0.013*\"alleg\" + 0.011*\"polic\" + 0.009*\"jail\" + 0.009*\"assault\" + 0.009*\"guilti\" + 0.008*\"drug\" + 0.008*\"child\"\n",
      "\n",
      "\n",
      "Topic: 2 Word: 0.017*\"donald\" + 0.011*\"christma\" + 0.009*\"children\" + 0.008*\"sexual\" + 0.008*\"speak\" + 0.007*\"islam\" + 0.006*\"island\" + 0.006*\"march\" + 0.006*\"white\" + 0.006*\"state\"\n",
      "\n",
      "\n",
      "Topic: 3 Word: 0.017*\"govern\" + 0.013*\"gold\" + 0.010*\"sentenc\" + 0.010*\"coast\" + 0.008*\"quiz\" + 0.008*\"know\" + 0.006*\"father\" + 0.006*\"patient\" + 0.006*\"go\" + 0.006*\"grant\"\n",
      "\n",
      "\n",
      "Topic: 4 Word: 0.025*\"queensland\" + 0.019*\"rural\" + 0.018*\"north\" + 0.015*\"turnbul\" + 0.013*\"news\" + 0.012*\"south\" + 0.010*\"west\" + 0.010*\"korea\" + 0.009*\"malcolm\" + 0.008*\"weather\"\n",
      "\n",
      "\n",
      "Topic: 5 Word: 0.016*\"tasmania\" + 0.010*\"australia\" + 0.010*\"world\" + 0.010*\"john\" + 0.009*\"podcast\" + 0.009*\"leagu\" + 0.008*\"ash\" + 0.008*\"michael\" + 0.008*\"david\" + 0.007*\"domest\"\n",
      "\n",
      "\n",
      "Topic: 6 Word: 0.035*\"trump\" + 0.013*\"drum\" + 0.010*\"hobart\" + 0.008*\"final\" + 0.008*\"shark\" + 0.007*\"beach\" + 0.007*\"game\" + 0.006*\"super\" + 0.006*\"tuesday\" + 0.006*\"univers\"\n",
      "\n",
      "\n",
      "Topic: 7 Word: 0.016*\"crash\" + 0.013*\"kill\" + 0.012*\"polic\" + 0.012*\"interview\" + 0.011*\"dead\" + 0.010*\"die\" + 0.010*\"shoot\" + 0.010*\"death\" + 0.009*\"woman\" + 0.008*\"attack\"\n",
      "\n",
      "\n",
      "Topic: 8 Word: 0.016*\"live\" + 0.015*\"market\" + 0.011*\"share\" + 0.010*\"royal\" + 0.009*\"street\" + 0.009*\"australian\" + 0.008*\"commiss\" + 0.008*\"dollar\" + 0.008*\"energi\" + 0.007*\"budget\"\n",
      "\n",
      "\n",
      "Topic: 9 Word: 0.009*\"hill\" + 0.009*\"price\" + 0.008*\"octob\" + 0.008*\"rise\" + 0.007*\"septemb\" + 0.007*\"victoria\" + 0.007*\"northern\" + 0.007*\"social\" + 0.007*\"search\" + 0.006*\"august\"\n",
      "\n",
      "\n"
     ]
    }
   ],
   "source": [
    "'''\n",
    "For each topic, we will explore the words occuring in that topic and its relative weight\n",
    "'''\n",
    "for idx, topic in lda_model_tfidf.print_topics(-1):\n",
    "    print(\"Topic: {} Word: {}\".format(idx, topic))\n",
    "    print(\"\\n\")"
   ]
  },
  {
   "cell_type": "markdown",
   "metadata": {},
   "source": [
    "### Classification of the topics ###\n",
    "\n",
    "As we can see, when using tf-idf, heavier weights are given to words that are not as frequent which results in nouns being factored in. That makes it harder to figure out the categories as nouns can be hard to categorize. This goes to show that the models we apply depend on the type of corpus of text we are dealing with. \n",
    "\n",
    "Using the words in each topic and their corresponding weights, what categories could you find?\n",
    "\n",
    "* 0: \n",
    "* 1:  \n",
    "* 2: \n",
    "* 3: \n",
    "* 4:  \n",
    "* 5: \n",
    "* 6: \n",
    "* 7: \n",
    "* 8: \n",
    "* 9: "
   ]
  },
  {
   "cell_type": "markdown",
   "metadata": {},
   "source": [
    "## Step 5.1: Performance evaluation by classifying sample document using LDA Bag of Words model\n",
    "\n",
    "We will check to see where our test document would be classified. "
   ]
  },
  {
   "cell_type": "code",
   "execution_count": 70,
   "metadata": {},
   "outputs": [
    {
     "data": {
      "text/plain": [
       "['rain', 'help', 'dampen', 'bushfir']"
      ]
     },
     "execution_count": 70,
     "metadata": {},
     "output_type": "execute_result"
    }
   ],
   "source": [
    "'''\n",
    "Text of sample document 4310\n",
    "'''\n",
    "processed_docs[4310]"
   ]
  },
  {
   "cell_type": "code",
   "execution_count": 71,
   "metadata": {},
   "outputs": [
    {
     "name": "stdout",
     "output_type": "stream",
     "text": [
      "\n",
      "Score: 0.5440014004707336\t \n",
      "Topic: 0.019*\"elect\" + 0.018*\"state\" + 0.017*\"health\" + 0.016*\"help\" + 0.016*\"rural\" + 0.015*\"nation\" + 0.015*\"hour\" + 0.013*\"peopl\" + 0.012*\"farmer\" + 0.012*\"train\"\n",
      "\n",
      "Score: 0.2959081530570984\t \n",
      "Topic: 0.040*\"year\" + 0.017*\"warn\" + 0.015*\"work\" + 0.014*\"take\" + 0.013*\"worker\" + 0.012*\"lead\" + 0.012*\"week\" + 0.012*\"vote\" + 0.011*\"port\" + 0.010*\"australia\"\n",
      "\n",
      "Score: 0.02001362293958664\t \n",
      "Topic: 0.032*\"trump\" + 0.024*\"world\" + 0.022*\"australia\" + 0.018*\"canberra\" + 0.017*\"countri\" + 0.016*\"live\" + 0.015*\"china\" + 0.015*\"hospit\" + 0.013*\"turnbul\" + 0.011*\"leagu\"\n",
      "\n",
      "Score: 0.020011261105537415\t \n",
      "Topic: 0.025*\"australian\" + 0.025*\"adelaid\" + 0.022*\"open\" + 0.016*\"home\" + 0.015*\"market\" + 0.015*\"leav\" + 0.014*\"share\" + 0.014*\"break\" + 0.013*\"road\" + 0.013*\"fall\"\n",
      "\n",
      "Score: 0.020011238753795624\t \n",
      "Topic: 0.035*\"queensland\" + 0.025*\"coast\" + 0.021*\"miss\" + 0.016*\"gold\" + 0.015*\"abus\" + 0.013*\"search\" + 0.013*\"hold\" + 0.012*\"prison\" + 0.012*\"polic\" + 0.011*\"bodi\"\n",
      "\n",
      "Score: 0.020011134445667267\t \n",
      "Topic: 0.041*\"polic\" + 0.029*\"charg\" + 0.023*\"melbourn\" + 0.021*\"murder\" + 0.016*\"alleg\" + 0.015*\"famili\" + 0.015*\"jail\" + 0.014*\"accus\" + 0.013*\"tasmania\" + 0.013*\"drug\"\n",
      "\n",
      "Score: 0.020010799169540405\t \n",
      "Topic: 0.034*\"govern\" + 0.022*\"hous\" + 0.019*\"death\" + 0.018*\"interview\" + 0.016*\"tasmanian\" + 0.015*\"rise\" + 0.014*\"time\" + 0.014*\"price\" + 0.012*\"protest\" + 0.012*\"park\"\n",
      "\n",
      "Score: 0.020010799169540405\t \n",
      "Topic: 0.024*\"south\" + 0.024*\"report\" + 0.020*\"test\" + 0.018*\"say\" + 0.017*\"north\" + 0.015*\"west\" + 0.015*\"australia\" + 0.011*\"guilti\" + 0.011*\"call\" + 0.011*\"polit\"\n",
      "\n",
      "Score: 0.020010799169540405\t \n",
      "Topic: 0.026*\"kill\" + 0.024*\"crash\" + 0.021*\"die\" + 0.018*\"donald\" + 0.017*\"dead\" + 0.016*\"attack\" + 0.012*\"farm\" + 0.012*\"beat\" + 0.011*\"violenc\" + 0.010*\"star\"\n",
      "\n",
      "Score: 0.020010799169540405\t \n",
      "Topic: 0.030*\"court\" + 0.019*\"face\" + 0.018*\"council\" + 0.014*\"indigen\" + 0.012*\"fund\" + 0.012*\"plan\" + 0.012*\"communiti\" + 0.010*\"feder\" + 0.010*\"group\" + 0.009*\"review\"\n"
     ]
    }
   ],
   "source": [
    "'''\n",
    "Check which topic our test document belongs to using the LDA Bag of Words model.\n",
    "'''\n",
    "\n",
    "# Our test document is document number 4310\n",
    "for index, score in sorted(lda_model[bow_corpus[document_num]], key=lambda tup: -1*tup[1]):\n",
    "    print(\"\\nScore: {}\\t \\nTopic: {}\".format(score, lda_model.print_topic(index, 10)))"
   ]
  },
  {
   "cell_type": "markdown",
   "metadata": {},
   "source": [
    "## Step 5.2: Performance evaluation by classifying sample document using LDA TF-IDF model"
   ]
  },
  {
   "cell_type": "code",
   "execution_count": 72,
   "metadata": {},
   "outputs": [
    {
     "data": {
      "text/plain": [
       "'\\nCheck which topic our test document belongs to using the LDA TF-IDF model.\\nCode would be similar to above\\n'"
      ]
     },
     "execution_count": 72,
     "metadata": {},
     "output_type": "execute_result"
    }
   ],
   "source": [
    "'''\n",
    "Check which topic our test document belongs to using the LDA TF-IDF model.\n",
    "Code would be similar to above\n",
    "'''\n",
    "# Todo"
   ]
  },
  {
   "cell_type": "markdown",
   "metadata": {},
   "source": [
    "## Step 6: Testing model on unseen document ##"
   ]
  },
  {
   "cell_type": "code",
   "execution_count": 73,
   "metadata": {},
   "outputs": [
    {
     "name": "stdout",
     "output_type": "stream",
     "text": [
      "Score: 0.42006760835647583\t Topic: 0.041*\"polic\" + 0.029*\"charg\" + 0.023*\"melbourn\" + 0.021*\"murder\" + 0.016*\"alleg\"\n",
      "Score: 0.21997933089733124\t Topic: 0.032*\"trump\" + 0.024*\"world\" + 0.022*\"australia\" + 0.018*\"canberra\" + 0.017*\"countri\"\n",
      "Score: 0.21991963684558868\t Topic: 0.025*\"australian\" + 0.025*\"adelaid\" + 0.022*\"open\" + 0.016*\"home\" + 0.015*\"market\"\n",
      "Score: 0.020004769787192345\t Topic: 0.035*\"queensland\" + 0.025*\"coast\" + 0.021*\"miss\" + 0.016*\"gold\" + 0.015*\"abus\"\n",
      "Score: 0.020004769787192345\t Topic: 0.040*\"year\" + 0.017*\"warn\" + 0.015*\"work\" + 0.014*\"take\" + 0.013*\"worker\"\n",
      "Score: 0.020004769787192345\t Topic: 0.034*\"govern\" + 0.022*\"hous\" + 0.019*\"death\" + 0.018*\"interview\" + 0.016*\"tasmanian\"\n",
      "Score: 0.020004769787192345\t Topic: 0.024*\"south\" + 0.024*\"report\" + 0.020*\"test\" + 0.018*\"say\" + 0.017*\"north\"\n",
      "Score: 0.020004769787192345\t Topic: 0.026*\"kill\" + 0.024*\"crash\" + 0.021*\"die\" + 0.018*\"donald\" + 0.017*\"dead\"\n",
      "Score: 0.020004769787192345\t Topic: 0.019*\"elect\" + 0.018*\"state\" + 0.017*\"health\" + 0.016*\"help\" + 0.016*\"rural\"\n",
      "Score: 0.020004769787192345\t Topic: 0.030*\"court\" + 0.019*\"face\" + 0.018*\"council\" + 0.014*\"indigen\" + 0.012*\"fund\"\n"
     ]
    }
   ],
   "source": [
    "unseen_document = \"My favorite sports activities are running and swimming.\"\n",
    "\n",
    "# Data preprocessing step for the unseen document\n",
    "bow_vector = dictionary.doc2bow(preprocess(unseen_document))\n",
    "\n",
    "for index, score in sorted(lda_model[bow_vector], key=lambda tup: -1*tup[1]):\n",
    "    print(\"Score: {}\\t Topic: {}\".format(score, lda_model.print_topic(index, 5)))"
   ]
  },
  {
   "cell_type": "markdown",
   "metadata": {},
   "source": [
    "### Now, look up different ways we can transform our words or use different techniques or improvements that we can make to make our Topic Classifier more accurate. Write them down below:"
   ]
  },
  {
   "cell_type": "markdown",
   "metadata": {},
   "source": [
    "**We can:**\n",
    "- Append points here\n",
    "- "
   ]
  }
 ],
 "metadata": {
  "kernelspec": {
   "display_name": "Python 3",
   "language": "python",
   "name": "python3"
  },
  "language_info": {
   "codemirror_mode": {
    "name": "ipython",
    "version": 3
   },
   "file_extension": ".py",
   "mimetype": "text/x-python",
   "name": "python",
   "nbconvert_exporter": "python",
   "pygments_lexer": "ipython3",
   "version": "3.7.6"
  }
 },
 "nbformat": 4,
 "nbformat_minor": 1
}
