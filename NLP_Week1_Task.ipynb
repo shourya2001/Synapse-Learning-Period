{
 "cells": [
  {
   "cell_type": "markdown",
   "metadata": {
    "id": "DXG8z6NmkRDz"
   },
   "source": [
    "# Natural Language Processing:\n",
    "Natural language processing (NLP) is the ability of a computer program to understand human language as it is spoken and written -- referred to as natural language. It is a component of artificial intelligence (AI).\n",
    "\n",
    "NLP has existed for more than 50 years and has roots in the field of linguistics. It has a variety of real-world applications in a number of fields, including medical research, search engines and business intelligence.\n",
    "\n",
    "Natural language processing (NLP) is a form of AI that extracts meaning from human language to make decisions based on the information. This technology is still evolving, but there are already many incredible ways natural language processing is used today. Here are some of the everyday uses of natural language processing are highlighted and five amazing examples of how natural language processing is transforming businesses:\n",
    "\n",
    "**Examples of Natural Language Processing:**\n",
    "\n",
    "\n",
    "*   NLP helps the Livox app be a communication device for people with disabilities. The creation of Carlos Pereira, a father who developed the app to help his non-verbal daughter, who has cerebral palsy communicate, the customizable app is now available in 25 languages. \n",
    "*   Another tool enabled by natural language processing is SignAll that converts sign language into text. This can help individuals who are deaf communicate with those who don’t know sign language.\n",
    "*   Machine translation is a huge application for NLP that allows us to overcome barriers to communicating with individuals from around the world as well as understand tech manuals and catalogs written in a foreign language. Google Translate is used by 500 million people every day to understand more than 100 world languages.\n",
    "*    NLP technology is even being applied for aircraft maintenance. Not only could it help mechanics synthesize information from enormous aircraft manuals it can also find meaning in the descriptions of problems reported verbally or handwritten from pilots and other humans.\n",
    "*    While the issue is complex, there’s even work being done to have NLP assist with predictive police work to specifically identify the motive in crimes.\n",
    "* Chatbots: Another great example of language processing is chatbots. They are very much like virtual assistants but with more specific goals. They are most commonly used on websites where customers visit. They help you to get the information you need without talking to any real person. First, they try to understand your need and then bring the results in front of you.\n",
    "* Web Scraping: Web scraping is another field where language processing is commonly used. It is used to extract information from a web page without even spending time to copy each paragraph one by one. Web scraping is a great way to collect valuable data and train your machine learning model. Web scraping is also a very helpful tool when working with search engine optimization.\n",
    "\n",
    "As industry leaders continue to experiment and develop enhancements to natural language processing such as Amazon’s Alexa division using a neural network to transfer learning, we can expect that NLP will become even better and more influential for business in the very near future.\n",
    "\n",
    "\n",
    "\n",
    "There are two main phases to natural language processing: data preprocessing and algorithm development.\n",
    "\n",
    "Data preprocessing involves preparing and \"cleaning\" text data for machines to be able to analyze it. preprocessing puts data in workable form and highlights features in the text that an algorithm can work with. There are several ways this can be done, including:\n",
    "\n",
    "* **Tokenization**. This is when text is broken down into smaller units to work with.\n",
    "* **Stop word removal**. This is when common words are removed from text so unique words that offer the most information about the text remain.\n",
    "* **Lemmatization and stemming**. This is when words are reduced to their root forms to process.\n",
    "* **Part-of-speech tagging**. This is when words are marked based on the part-of speech they are -- such as nouns, verbs and adjectives\n",
    "\n",
    "Once the data has been preprocessed, an algorithm is developed to process it. There are many different natural language processing algorithms, but two main types are commonly used:\n",
    "\n",
    "* **Rules-based system.** This system uses carefully designed linguistic rules. This approach was used early on in the development of natural language processing, and is still used.\n",
    "* **Machine learning-based system**. Machine learning algorithms use statistical methods. They learn to perform tasks based on training data they are fed, and adjust their methods as more data is processed. Using a combination of machine learning, deep learning and neural networks, natural language processing algorithms hone their own rules through repeated processing and learning.\n",
    "\n",
    "\n",
    "# NLTK (Natural Language Toolkit):\n",
    "NLTK is a leading platform for building Python programs to work with human language data. It provides easy-to-use interfaces to over 50 corpora and lexical resources such as WordNet, along with a suite of text processing libraries for classification, tokenization, stemming, tagging, parsing, and semantic reasoning, wrappers for industrial-strength NLP libraries.\n",
    "\n",
    "Reference: http://www.nltk.org\n",
    "\n",
    "We have to install NLTK module so that we can use it in our project."
   ]
  },
  {
   "cell_type": "markdown",
   "metadata": {
    "id": "P-OUZIF9kREJ"
   },
   "source": [
    "To prepare the text data for the model building we perform text preprocessing. It is the very first step of NLP projects. Some of the preprocessing steps are:\n",
    "\n",
    "* Removing punctuations like . , ! $( ) * % @\n",
    "* Removing URLs\n",
    "* Removing Stop words\n",
    "* Lower casing\n",
    "* Tokenization\n",
    "* Stemming\n",
    "* Lemmatization"
   ]
  },
  {
   "cell_type": "markdown",
   "metadata": {
    "id": "SGo1nmqykREJ"
   },
   "source": [
    "### Follow this tutorial to install and setup nltk: https://www.youtube.com/watch?v=68aHmFcO-W4"
   ]
  },
  {
   "cell_type": "markdown",
   "metadata": {
    "id": "hKXpBEhmkREK"
   },
   "source": [
    "### Go through this blog:<br> https://www.analyticsvidhya.com/blog/2021/06/text-preprocessing-in-nlp-with-python-codes/\n",
    "\n",
    "### Understand how the pre-processing steps are applied and solve the given tasks below. Print the text after every step."
   ]
  },
  {
   "cell_type": "code",
   "execution_count": 1,
   "metadata": {
    "colab": {
     "base_uri": "https://localhost:8080/"
    },
    "id": "P6AWPQHWkREL",
    "outputId": "1d754a78-0e27-4b04-c705-5dd83292404d"
   },
   "outputs": [
    {
     "name": "stderr",
     "output_type": "stream",
     "text": [
      "[nltk_data] Downloading package punkt to\n",
      "[nltk_data]     C:\\Users\\admin\\AppData\\Roaming\\nltk_data...\n",
      "[nltk_data]   Package punkt is already up-to-date!\n",
      "[nltk_data] Downloading package stopwords to\n",
      "[nltk_data]     C:\\Users\\admin\\AppData\\Roaming\\nltk_data...\n",
      "[nltk_data]   Package stopwords is already up-to-date!\n",
      "[nltk_data] Downloading package wordnet to\n",
      "[nltk_data]     C:\\Users\\admin\\AppData\\Roaming\\nltk_data...\n",
      "[nltk_data]   Package wordnet is already up-to-date!\n"
     ]
    }
   ],
   "source": [
    "#Given below is a string paragraph on which we will perform the various pre processing steps\n",
    "import re\n",
    "import nltk\n",
    "from IPython.core.display import HTML\n",
    "nltk.download('punkt')\n",
    "nltk.download('stopwords')\n",
    "nltk.download('wordnet')\n",
    "text= \"A small sample of texts from Project Gutenberg appears in the NLTK corpus collection. However, you may be interested in analyzing other texts from Project Gutenberg. You can browse the catalog of 25,000 free online books at http://www.gutenberg.org/catalog/, and obtain a URL to an ASCII text file. Although 90% of the texts in Project Gutenberg are in English, it includes material in over 50 other languages, including Catalan, Chinese, Dutch, Finnish, French, German, Italian, Portuguese and Spanish (with more than 100 texts each). Text number 2554 is an English translation of Crime and Punishment, and we can access it as follows.\""
   ]
  },
  {
   "cell_type": "markdown",
   "metadata": {
    "id": "cLIwR9HNkREN"
   },
   "source": [
    "## Removing punctuations:\n",
    "### Different ways to remove punctuations: https://www.pythonpool.com/remove-punctuation-python/\n"
   ]
  },
  {
   "cell_type": "code",
   "execution_count": 2,
   "metadata": {
    "colab": {
     "base_uri": "https://localhost:8080/",
     "height": 105
    },
    "id": "l9ULzbl0kREN",
    "outputId": "b8e95578-3602-4b39-e449-371996db0fff"
   },
   "outputs": [
    {
     "name": "stdout",
     "output_type": "stream",
     "text": [
      "A small sample of texts from Project Gutenberg appears in the NLTK corpus collection However you may be interested in analyzing other texts from Project Gutenberg You can browse the catalog of 25000 free online books at httpwwwgutenbergorgcatalog and obtain a URL to an ASCII text file Although 90 of the texts in Project Gutenberg are in English it includes material in over 50 other languages including Catalan Chinese Dutch Finnish French German Italian Portuguese and Spanish with more than 100 texts each Text number 2554 is an English translation of Crime and Punishment and we can access it as follows\n"
     ]
    }
   ],
   "source": [
    "#Remove punctuations from text using any of the methods provided in the links above\n",
    "import string\n",
    " \n",
    "op_string = text.translate(str.maketrans('', '', string.punctuation))\n",
    "\n",
    "print(op_string)"
   ]
  },
  {
   "cell_type": "markdown",
   "metadata": {
    "id": "qJslFSGONFYX"
   },
   "source": [
    "## Removing URLs:\n",
    "\n",
    "Search up how to remove URLs from text and apply it below"
   ]
  },
  {
   "cell_type": "code",
   "execution_count": 3,
   "metadata": {
    "colab": {
     "base_uri": "https://localhost:8080/",
     "height": 87
    },
    "id": "KaZvmvQ8NP3I",
    "outputId": "650684a3-1ccd-4785-8669-8a6c40d35782"
   },
   "outputs": [
    {
     "data": {
      "text/plain": [
       "'A small sample of texts from Project Gutenberg appears in the NLTK corpus collection. However, you may be interested in analyzing other texts from Project Gutenberg. You can browse the catalog of 25,000 free online books at  and obtain a URL to an ASCII text file. Although 90% of the texts in Project Gutenberg are in English, it includes material in over 50 other languages, including Catalan, Chinese, Dutch, Finnish, French, German, Italian, Portuguese and Spanish (with more than 100 texts each). Text number 2554 is an English translation of Crime and Punishment, and we can access it as follows.'"
      ]
     },
     "execution_count": 3,
     "metadata": {},
     "output_type": "execute_result"
    }
   ],
   "source": [
    "#Write your code below to remove URL from text\n",
    "text_without_url = re.sub(r'\\w+:\\/{2}[\\d\\w-]+(\\.[\\d\\w-]+)*(?:(?:\\/[^\\s/]*))*', '', text)\n",
    "text_without_url"
   ]
  },
  {
   "cell_type": "markdown",
   "metadata": {
    "id": "JyfbfkstNvZ7"
   },
   "source": [
    "## Removing numbers\n",
    "\n",
    "Search how to remove numbers from text and apply it below"
   ]
  },
  {
   "cell_type": "code",
   "execution_count": 4,
   "metadata": {
    "colab": {
     "base_uri": "https://localhost:8080/",
     "height": 87
    },
    "id": "j5gsU6lLN2BA",
    "outputId": "153f67a0-7f05-4921-aeb8-ff88089f0606"
   },
   "outputs": [
    {
     "data": {
      "text/plain": [
       "'A small sample of texts from Project Gutenberg appears in the NLTK corpus collection. However, you may be interested in analyzing other texts from Project Gutenberg. You can browse the catalog of , free online books at http://www.gutenberg.org/catalog/, and obtain a URL to an ASCII text file. Although % of the texts in Project Gutenberg are in English, it includes material in over  other languages, including Catalan, Chinese, Dutch, Finnish, French, German, Italian, Portuguese and Spanish (with more than  texts each). Text number  is an English translation of Crime and Punishment, and we can access it as follows.'"
      ]
     },
     "execution_count": 4,
     "metadata": {},
     "output_type": "execute_result"
    }
   ],
   "source": [
    "#Write your code below to remove numbers from text\n",
    "text_without_number = re.sub(r'\\d', '', text)\n",
    "text_without_number"
   ]
  },
  {
   "cell_type": "markdown",
   "metadata": {
    "id": "WAu7P6ngkREO"
   },
   "source": [
    "## Lowering the text:\n",
    "Refer to the link mentioned above and lower the case of the text "
   ]
  },
  {
   "cell_type": "code",
   "execution_count": 5,
   "metadata": {
    "colab": {
     "base_uri": "https://localhost:8080/",
     "height": 87
    },
    "id": "2fLB5btPkREP",
    "outputId": "89889933-09c2-4341-ac43-54a9a157b6e6"
   },
   "outputs": [
    {
     "data": {
      "text/plain": [
       "'a small sample of texts from project gutenberg appears in the nltk corpus collection. however, you may be interested in analyzing other texts from project gutenberg. you can browse the catalog of 25,000 free online books at http://www.gutenberg.org/catalog/, and obtain a url to an ascii text file. although 90% of the texts in project gutenberg are in english, it includes material in over 50 other languages, including catalan, chinese, dutch, finnish, french, german, italian, portuguese and spanish (with more than 100 texts each). text number 2554 is an english translation of crime and punishment, and we can access it as follows.'"
      ]
     },
     "execution_count": 5,
     "metadata": {},
     "output_type": "execute_result"
    }
   ],
   "source": [
    "#Write your code below to convert text to lowercase:\n",
    "lower = text.lower()\n",
    "lower"
   ]
  },
  {
   "cell_type": "markdown",
   "metadata": {
    "id": "qWZEkPHhkREQ"
   },
   "source": [
    "## Tokenisation:\n",
    "\n",
    " In this step, the text is split into smaller units. We can use either sentence tokenization or word tokenization based on our problem statement.\n",
    "\n",
    "Learn more about tokenization here: https://www.analyticsvidhya.com/blog/2019/07/how-get-started-nlp-6-unique-ways-perform-tokenization/"
   ]
  },
  {
   "cell_type": "code",
   "execution_count": 6,
   "metadata": {
    "colab": {
     "base_uri": "https://localhost:8080/"
    },
    "id": "2zmmLqjlkREQ",
    "outputId": "df514da6-a7b2-4144-8f38-4b66c7da80e2"
   },
   "outputs": [
    {
     "data": {
      "text/plain": [
       "['A',\n",
       " 'small',\n",
       " 'sample',\n",
       " 'of',\n",
       " 'texts',\n",
       " 'from',\n",
       " 'Project',\n",
       " 'Gutenberg',\n",
       " 'appears',\n",
       " 'in',\n",
       " 'the',\n",
       " 'NLTK',\n",
       " 'corpus',\n",
       " 'collection',\n",
       " '.',\n",
       " 'However',\n",
       " ',',\n",
       " 'you',\n",
       " 'may',\n",
       " 'be',\n",
       " 'interested',\n",
       " 'in',\n",
       " 'analyzing',\n",
       " 'other',\n",
       " 'texts',\n",
       " 'from',\n",
       " 'Project',\n",
       " 'Gutenberg',\n",
       " '.',\n",
       " 'You',\n",
       " 'can',\n",
       " 'browse',\n",
       " 'the',\n",
       " 'catalog',\n",
       " 'of',\n",
       " '25,000',\n",
       " 'free',\n",
       " 'online',\n",
       " 'books',\n",
       " 'at',\n",
       " 'http',\n",
       " ':',\n",
       " '//www.gutenberg.org/catalog/',\n",
       " ',',\n",
       " 'and',\n",
       " 'obtain',\n",
       " 'a',\n",
       " 'URL',\n",
       " 'to',\n",
       " 'an',\n",
       " 'ASCII',\n",
       " 'text',\n",
       " 'file',\n",
       " '.',\n",
       " 'Although',\n",
       " '90',\n",
       " '%',\n",
       " 'of',\n",
       " 'the',\n",
       " 'texts',\n",
       " 'in',\n",
       " 'Project',\n",
       " 'Gutenberg',\n",
       " 'are',\n",
       " 'in',\n",
       " 'English',\n",
       " ',',\n",
       " 'it',\n",
       " 'includes',\n",
       " 'material',\n",
       " 'in',\n",
       " 'over',\n",
       " '50',\n",
       " 'other',\n",
       " 'languages',\n",
       " ',',\n",
       " 'including',\n",
       " 'Catalan',\n",
       " ',',\n",
       " 'Chinese',\n",
       " ',',\n",
       " 'Dutch',\n",
       " ',',\n",
       " 'Finnish',\n",
       " ',',\n",
       " 'French',\n",
       " ',',\n",
       " 'German',\n",
       " ',',\n",
       " 'Italian',\n",
       " ',',\n",
       " 'Portuguese',\n",
       " 'and',\n",
       " 'Spanish',\n",
       " '(',\n",
       " 'with',\n",
       " 'more',\n",
       " 'than',\n",
       " '100',\n",
       " 'texts',\n",
       " 'each',\n",
       " ')',\n",
       " '.',\n",
       " 'Text',\n",
       " 'number',\n",
       " '2554',\n",
       " 'is',\n",
       " 'an',\n",
       " 'English',\n",
       " 'translation',\n",
       " 'of',\n",
       " 'Crime',\n",
       " 'and',\n",
       " 'Punishment',\n",
       " ',',\n",
       " 'and',\n",
       " 'we',\n",
       " 'can',\n",
       " 'access',\n",
       " 'it',\n",
       " 'as',\n",
       " 'follows',\n",
       " '.']"
      ]
     },
     "execution_count": 6,
     "metadata": {},
     "output_type": "execute_result"
    }
   ],
   "source": [
    "#Perform tokenization on our text using nltk\n",
    "from nltk.tokenize import word_tokenize \n",
    "word_tokenize(text)"
   ]
  },
  {
   "cell_type": "markdown",
   "metadata": {
    "id": "l5nEQUpLkREQ"
   },
   "source": [
    "## Stop word removal\n",
    "\n",
    "Stopwords are the commonly used words and are removed from the text as they do not add any value to the analysis. These words carry less or no meaning.\n",
    "\n",
    " NLTK library consists of a list of words that are considered stopwords for the English language. Some of them are : [i, me, my, myself, we, our, ours, ourselves, you, you’re, you’ve, you’ll, you’d, your, yours, yourself, yourselves, he, most, other, some, such, no, nor, not, only, own, same, so, then, too, very, s, t, can, will, just, don, don’t, should, should’ve, now, d, ll, m, o, re, ve, y, ain, aren’t, could, couldn’t, didn’t, didn’t]\n",
    "\n",
    "But it is not necessary to use the provided list as stopwords as they should be chosen wisely based on the project. For example, ‘How’ can be a stop word for a model but can be important for some other problem where we are working on the queries of the customers. We can create a customized list of stop words for different problems."
   ]
  },
  {
   "cell_type": "code",
   "execution_count": 7,
   "metadata": {
    "colab": {
     "base_uri": "https://localhost:8080/"
    },
    "id": "mW4oea2fkRER",
    "outputId": "14e58a9a-73d3-44ff-b250-f43322352fb0"
   },
   "outputs": [
    {
     "name": "stdout",
     "output_type": "stream",
     "text": [
      "['a', 'small', 'sample', 'of', 'texts', 'from', 'project', 'gutenberg', 'appears', 'in', 'the', 'nltk', 'corpus', 'collection', 'however', 'you', 'may', 'be', 'interested', 'in', 'analyzing', 'other', 'texts', 'from', 'project', 'gutenberg', 'you', 'can', 'browse', 'the', 'catalog', 'of', 'free', 'online', 'books', 'at', 'and', 'obtain', 'a', 'url', 'to', 'an', 'ascii', 'text', 'file', 'although', 'of', 'the', 'texts', 'in', 'project', 'gutenberg', 'are', 'in', 'english', 'it', 'includes', 'material', 'in', 'over', 'other', 'languages', 'including', 'catalan', 'chinese', 'dutch', 'finnish', 'french', 'german', 'italian', 'portuguese', 'and', 'spanish', 'with', 'more', 'than', 'texts', 'each', 'text', 'number', 'is', 'an', 'english', 'translation', 'of', 'crime', 'and', 'punishment', 'and', 'we', 'can', 'access', 'it', 'as', 'follows']\n",
      "['small', 'sample', 'texts', 'project', 'gutenberg', 'appears', 'nltk', 'corpus', 'collection', 'however', 'may', 'interested', 'analyzing', 'texts', 'project', 'gutenberg', 'browse', 'catalog', 'free', 'online', 'books', 'obtain', 'url', 'ascii', 'text', 'file', 'although', 'texts', 'project', 'gutenberg', 'english', 'includes', 'material', 'languages', 'including', 'catalan', 'chinese', 'dutch', 'finnish', 'french', 'german', 'italian', 'portuguese', 'spanish', 'texts', 'text', 'number', 'english', 'translation', 'crime', 'punishment', 'access', 'follows']\n"
     ]
    }
   ],
   "source": [
    "#Remove stop words from text using NLTK\n",
    "from nltk.corpus import stopwords\n",
    "text = re.sub(r'\\w+:\\/{2}[\\d\\w-]+(\\.[\\d\\w-]+)*(?:(?:\\/[^\\s/]*))*', '', text)\n",
    "text = text.translate(str.maketrans('', '', string.punctuation))\n",
    "text = re.sub(r'\\d', '', text)\n",
    "text = text.lower()\n",
    "word_tokens = word_tokenize(text)\n",
    "stop_words = set(stopwords.words('english'))\n",
    " \n",
    "filtered_sentence = [w for w in word_tokens if not w.lower() in stop_words]\n",
    " \n",
    "filtered_sentence = []\n",
    " \n",
    "for w in word_tokens:\n",
    "    if w not in stop_words:\n",
    "        filtered_sentence.append(w)\n",
    "\n",
    "print(word_tokens)\n",
    "print(filtered_sentence)"
   ]
  },
  {
   "cell_type": "markdown",
   "metadata": {
    "id": "77ZcUcXOkRER"
   },
   "source": [
    "## Stemming:<br>\n",
    "Stemming and lemmatization are really important. Read about them here: <br>https://nlp.stanford.edu/IR-book/html/htmledition/stemming-and-lemmatization-1.html\n",
    "<br> Watch some videos on YouTube if you want a deeper understanding!"
   ]
  },
  {
   "cell_type": "code",
   "execution_count": 8,
   "metadata": {
    "colab": {
     "base_uri": "https://localhost:8080/"
    },
    "id": "F5hIqgVnkRES",
    "outputId": "a80315d3-217b-4764-f482-416aaa72490c"
   },
   "outputs": [
    {
     "name": "stdout",
     "output_type": "stream",
     "text": [
      "['small', 'sampl', 'text', 'project', 'gutenberg', 'appear', 'nltk', 'corpu', 'collect', 'howev', 'may', 'interest', 'analyz', 'text', 'project', 'gutenberg', 'brows', 'catalog', 'free', 'onlin', 'book', 'obtain', 'url', 'ascii', 'text', 'file', 'although', 'text', 'project', 'gutenberg', 'english', 'includ', 'materi', 'languag', 'includ', 'catalan', 'chines', 'dutch', 'finnish', 'french', 'german', 'italian', 'portugues', 'spanish', 'text', 'text', 'number', 'english', 'translat', 'crime', 'punish', 'access', 'follow']\n"
     ]
    },
    {
     "data": {
      "text/html": [
       "<div class=\"alert alert-block alert-success\">Your list look good!</div>"
      ],
      "text/plain": [
       "<IPython.core.display.HTML object>"
      ]
     },
     "execution_count": 8,
     "metadata": {},
     "output_type": "execute_result"
    }
   ],
   "source": [
    "#Apply stemming(PorterStemmer) to the text we got after stopword removal and store the resulting list in a\n",
    "# variable called \"stemmed_text\"\n",
    "# Write code here\n",
    "\n",
    "from nltk.stem import PorterStemmer\n",
    " \n",
    "ps = PorterStemmer()\n",
    "stemmed_text = list()\n",
    "for w in filtered_sentence:\n",
    "#     print(w, \" : \", ps.stem(w))\n",
    "    stemmed_text.append(ps.stem(w))\n",
    "print(stemmed_text)\n",
    "\n",
    "# DO NOT CHANGE\n",
    "assert stemmed_text == ['small','sampl','text','project','gutenberg','appear','nltk','corpu','collect','howev','may','interest','analyz','text','project','gutenberg','brows','catalog','free','onlin','book','obtain','url','ascii','text','file','although','text','project','gutenberg','english','includ','materi','languag','includ','catalan','chines','dutch','finnish','french','german','italian','portugues','spanish','text','text','number','english','translat','crime','punish','access','follow'], \\\n",
    "       \"Hmmm...your list doesn't seem to match with ours.\"\n",
    "HTML('<div class=\"alert alert-block alert-success\">Your list look good!</div>')"
   ]
  },
  {
   "cell_type": "markdown",
   "metadata": {
    "id": "iYJxJRxJkRES"
   },
   "source": [
    "## Lemmatization:"
   ]
  },
  {
   "cell_type": "code",
   "execution_count": 9,
   "metadata": {
    "colab": {
     "base_uri": "https://localhost:8080/"
    },
    "id": "0__C4BLOkRES",
    "outputId": "e493185c-53ed-4014-a350-b0cdd73f30a7"
   },
   "outputs": [
    {
     "name": "stdout",
     "output_type": "stream",
     "text": [
      "['small', 'sample', 'text', 'project', 'gutenberg', 'appears', 'nltk', 'corpus', 'collection', 'however', 'may', 'interested', 'analyzing', 'text', 'project', 'gutenberg', 'browse', 'catalog', 'free', 'online', 'book', 'obtain', 'url', 'ascii', 'text', 'file', 'although', 'text', 'project', 'gutenberg', 'english', 'includes', 'material', 'language', 'including', 'catalan', 'chinese', 'dutch', 'finnish', 'french', 'german', 'italian', 'portuguese', 'spanish', 'text', 'text', 'number', 'english', 'translation', 'crime', 'punishment', 'access', 'follows']\n"
     ]
    },
    {
     "data": {
      "text/html": [
       "<div class=\"alert alert-block alert-success\">Your list look good!</div>"
      ],
      "text/plain": [
       "<IPython.core.display.HTML object>"
      ]
     },
     "execution_count": 9,
     "metadata": {},
     "output_type": "execute_result"
    }
   ],
   "source": [
    "#Apply lemmatization (WordNetLemmatizer) to the text we got after stopword removal, and store the resulting list in a\n",
    "# variable called \"lemmatized_text\":\n",
    "# Write code here\n",
    "from nltk.stem import WordNetLemmatizer\n",
    "\n",
    "\n",
    "lem = WordNetLemmatizer()\n",
    "lemmatized_text = list()\n",
    "for w in filtered_sentence:\n",
    "#     print(w, \" : \", ps.stem(w))\n",
    "    lemmatized_text.append(lem.lemmatize(w))\n",
    "print(lemmatized_text)\n",
    "\n",
    "# DO NOT CHANGE\n",
    "assert lemmatized_text == ['small', 'sample', 'text', 'project', 'gutenberg', 'appears', 'nltk', 'corpus', 'collection', 'however', 'may', 'interested', 'analyzing', 'text', 'project', 'gutenberg', 'browse', 'catalog', 'free', 'online', 'book', 'obtain', 'url', 'ascii', 'text', 'file', 'although', 'text', 'project', 'gutenberg', 'english', 'includes', 'material', 'language', 'including', 'catalan', 'chinese', 'dutch', 'finnish', 'french', 'german', 'italian', 'portuguese', 'spanish', 'text', 'text', 'number', 'english', 'translation', 'crime', 'punishment', 'access', 'follows'], \\\n",
    "       \"Hmmm...your list doesn't seem to match with ours.\"\n",
    "HTML('<div class=\"alert alert-block alert-success\">Your list look good!</div>')"
   ]
  },
  {
   "cell_type": "markdown",
   "metadata": {},
   "source": [
    "### Now that the text is cleaned, the next step is to transform it into a form that can be fed into a machine learning model. We'll dive deeper into this next week, but let's go through one technique and see what word embeddings are!"
   ]
  },
  {
   "cell_type": "markdown",
   "metadata": {},
   "source": [
    "# An Introduction to Word Embeddings"
   ]
  },
  {
   "cell_type": "markdown",
   "metadata": {},
   "source": [
    "Many people would say the breakthrough of deep learning in Natural Language Processing started with the introduction of word embeddings. Rather than using the words themselves as features, neural network methods typically take as input dense, relatively low-dimensional vectors that model the meaning and usage of a word. Word embeddings were first popularized through the [Word2Vec](https://arxiv.org/abs/1301.3781) model, developed by Thomas Mikolov and colleagues at Google. Since then, scores of alternative approaches have been developed, such as [GloVe](https://nlp.stanford.edu/projects/glove/) and [FastText](https://fasttext.cc/) embeddings. In this notebook, we'll explore word embeddings with the original Word2Vec approach, as implemented in the [Gensim](https://radimrehurek.com/gensim/) library. "
   ]
  },
  {
   "cell_type": "markdown",
   "metadata": {},
   "source": [
    "## Training word embeddings"
   ]
  },
  {
   "cell_type": "markdown",
   "metadata": {},
   "source": [
    "Training word embeddings with Gensim couldn't be easier. The only thing we need is a corpus of sentences in the language under investigation. For our experiments, we're going to use the abstracts of all ArXiv papers in the category cs.CL (computation and language) that were published before mid-April 2021 — a total of around 25,000 documents. We tokenize these abstracts with spaCy. "
   ]
  },
  {
   "cell_type": "code",
   "execution_count": 10,
   "metadata": {},
   "outputs": [
    {
     "name": "stderr",
     "output_type": "stream",
     "text": [
      "C:\\Users\\admin\\anaconda3\\lib\\site-packages\\tensorflow\\python\\framework\\dtypes.py:516: FutureWarning: Passing (type, 1) or '1type' as a synonym of type is deprecated; in a future version of numpy, it will be understood as (type, (1,)) / '(1,)type'.\n",
      "  _np_qint8 = np.dtype([(\"qint8\", np.int8, 1)])\n",
      "C:\\Users\\admin\\anaconda3\\lib\\site-packages\\tensorflow\\python\\framework\\dtypes.py:517: FutureWarning: Passing (type, 1) or '1type' as a synonym of type is deprecated; in a future version of numpy, it will be understood as (type, (1,)) / '(1,)type'.\n",
      "  _np_quint8 = np.dtype([(\"quint8\", np.uint8, 1)])\n",
      "C:\\Users\\admin\\anaconda3\\lib\\site-packages\\tensorflow\\python\\framework\\dtypes.py:518: FutureWarning: Passing (type, 1) or '1type' as a synonym of type is deprecated; in a future version of numpy, it will be understood as (type, (1,)) / '(1,)type'.\n",
      "  _np_qint16 = np.dtype([(\"qint16\", np.int16, 1)])\n",
      "C:\\Users\\admin\\anaconda3\\lib\\site-packages\\tensorflow\\python\\framework\\dtypes.py:519: FutureWarning: Passing (type, 1) or '1type' as a synonym of type is deprecated; in a future version of numpy, it will be understood as (type, (1,)) / '(1,)type'.\n",
      "  _np_quint16 = np.dtype([(\"quint16\", np.uint16, 1)])\n",
      "C:\\Users\\admin\\anaconda3\\lib\\site-packages\\tensorflow\\python\\framework\\dtypes.py:520: FutureWarning: Passing (type, 1) or '1type' as a synonym of type is deprecated; in a future version of numpy, it will be understood as (type, (1,)) / '(1,)type'.\n",
      "  _np_qint32 = np.dtype([(\"qint32\", np.int32, 1)])\n",
      "C:\\Users\\admin\\anaconda3\\lib\\site-packages\\tensorflow\\python\\framework\\dtypes.py:525: FutureWarning: Passing (type, 1) or '1type' as a synonym of type is deprecated; in a future version of numpy, it will be understood as (type, (1,)) / '(1,)type'.\n",
      "  np_resource = np.dtype([(\"resource\", np.ubyte, 1)])\n",
      "C:\\Users\\admin\\anaconda3\\lib\\site-packages\\tensorboard\\compat\\tensorflow_stub\\dtypes.py:541: FutureWarning: Passing (type, 1) or '1type' as a synonym of type is deprecated; in a future version of numpy, it will be understood as (type, (1,)) / '(1,)type'.\n",
      "  _np_qint8 = np.dtype([(\"qint8\", np.int8, 1)])\n",
      "C:\\Users\\admin\\anaconda3\\lib\\site-packages\\tensorboard\\compat\\tensorflow_stub\\dtypes.py:542: FutureWarning: Passing (type, 1) or '1type' as a synonym of type is deprecated; in a future version of numpy, it will be understood as (type, (1,)) / '(1,)type'.\n",
      "  _np_quint8 = np.dtype([(\"quint8\", np.uint8, 1)])\n",
      "C:\\Users\\admin\\anaconda3\\lib\\site-packages\\tensorboard\\compat\\tensorflow_stub\\dtypes.py:543: FutureWarning: Passing (type, 1) or '1type' as a synonym of type is deprecated; in a future version of numpy, it will be understood as (type, (1,)) / '(1,)type'.\n",
      "  _np_qint16 = np.dtype([(\"qint16\", np.int16, 1)])\n",
      "C:\\Users\\admin\\anaconda3\\lib\\site-packages\\tensorboard\\compat\\tensorflow_stub\\dtypes.py:544: FutureWarning: Passing (type, 1) or '1type' as a synonym of type is deprecated; in a future version of numpy, it will be understood as (type, (1,)) / '(1,)type'.\n",
      "  _np_quint16 = np.dtype([(\"quint16\", np.uint16, 1)])\n",
      "C:\\Users\\admin\\anaconda3\\lib\\site-packages\\tensorboard\\compat\\tensorflow_stub\\dtypes.py:545: FutureWarning: Passing (type, 1) or '1type' as a synonym of type is deprecated; in a future version of numpy, it will be understood as (type, (1,)) / '(1,)type'.\n",
      "  _np_qint32 = np.dtype([(\"qint32\", np.int32, 1)])\n",
      "C:\\Users\\admin\\anaconda3\\lib\\site-packages\\tensorboard\\compat\\tensorflow_stub\\dtypes.py:550: FutureWarning: Passing (type, 1) or '1type' as a synonym of type is deprecated; in a future version of numpy, it will be understood as (type, (1,)) / '(1,)type'.\n",
      "  np_resource = np.dtype([(\"resource\", np.ubyte, 1)])\n"
     ]
    }
   ],
   "source": [
    "import os\n",
    "import csv\n",
    "import spacy\n",
    "\n",
    "class Corpus(object):\n",
    "\n",
    "    def __init__(self, filename):\n",
    "        self.filename = filename\n",
    "        self.nlp = spacy.blank(\"en\")\n",
    "        \n",
    "    def __iter__(self):\n",
    "        with open(self.filename, encoding=\"utf8\") as i:\n",
    "            reader = csv.reader(i, delimiter=\",\")\n",
    "            for _, abstract in reader:\n",
    "                tokens = [t.text.lower() for t in self.nlp(abstract)]\n",
    "                yield tokens\n",
    "                            \n",
    "                    \n",
    "documents = Corpus(\"./arxiv.csv\")\n"
   ]
  },
  {
   "cell_type": "markdown",
   "metadata": {},
   "source": [
    "When we train our word embeddings, gensim allows us to set a number of parameters. The most important of these are `min_count`, `window`, `vector_size` and `sg`:\n",
    "\n",
    "- `min_count` is the minimum frequency of the words in our corpus. For infrequent words, we just don't have enough information to train reliable word embeddings. It therefore makes sense to set this minimum frequency to at least 10. In these experiments, we'll set it to 100 to limit the size of our model even more.\n",
    "- `window` is the number of words to the left and to the right that make up the context that word2vec will take into account.\n",
    "- `vector_size` is the dimensionality of the word vectors. This is generally between 100 and 1000. This dimensionality often forces us to make a trade-off: embeddings with a higher dimensionality are able to model more information, but also need more data to train.\n",
    "- `sg`: there are two algorithms to train word2vec: skip-gram and CBOW. Skip-gram tries to predict the context on the basis of the target word; CBOW tries to find the target on the basis of the context. By default, Gensim uses CBOW (`sg=0`).\n",
    "\n",
    "We'll investigate the impact of some of these parameters later."
   ]
  },
  {
   "cell_type": "code",
   "execution_count": 11,
   "metadata": {},
   "outputs": [
    {
     "name": "stdout",
     "output_type": "stream",
     "text": [
      "<__main__.Corpus object at 0x00000214B89AC848>\n"
     ]
    }
   ],
   "source": [
    "print(documents)"
   ]
  },
  {
   "cell_type": "code",
   "execution_count": 12,
   "metadata": {},
   "outputs": [],
   "source": [
    "import gensim\n",
    "# will take some time to run\n",
    "model = gensim.models.Word2Vec(documents, min_count=100, window=5, vector_size=100)"
   ]
  },
  {
   "cell_type": "markdown",
   "metadata": {},
   "source": [
    "## Using word embeddings"
   ]
  },
  {
   "cell_type": "markdown",
   "metadata": {},
   "source": [
    "Let's take a look at the trained model. The word embeddings are on its `wv` attribute, and we can access them by the using the token as key. For example, here is the embedding for *nlp*, with the requested 100 dimensions."
   ]
  },
  {
   "cell_type": "code",
   "execution_count": 13,
   "metadata": {},
   "outputs": [
    {
     "data": {
      "text/plain": [
       "array([ 1.3408496e+00, -1.8300557e+00,  9.5472622e-01, -9.1932374e-01,\n",
       "        1.0089560e+00, -3.6932055e-02,  8.6070120e-01,  1.5194696e+00,\n",
       "        1.6895583e-01,  2.3576088e+00,  8.8306737e-01, -2.0803635e+00,\n",
       "        7.5544053e-01, -5.0258778e-02, -1.0499587e+00, -3.5174987e-01,\n",
       "       -9.8966950e-01,  1.3668946e+00,  2.4173363e-01,  2.3570769e+00,\n",
       "        1.0122817e+00, -2.3340518e-02,  6.1077571e-01, -4.4172600e-02,\n",
       "       -3.3278615e+00, -1.6650063e+00,  1.4706978e+00,  8.2862806e-01,\n",
       "        1.3815405e+00, -1.2571605e+00,  8.0601907e-01, -1.2574629e-01,\n",
       "        1.2044944e+00,  8.8976657e-01,  7.5898737e-01, -7.4237633e-01,\n",
       "       -1.4250209e+00, -4.0192451e+00, -3.1028152e-01,  2.0334351e+00,\n",
       "       -1.1265992e+00, -9.0639389e-01,  2.7341082e+00,  5.4583448e-01,\n",
       "       -2.4798131e+00,  4.2805952e-01,  3.0663857e-01,  1.7388595e+00,\n",
       "        4.7043687e-01, -3.1380086e+00,  1.5208093e+00,  1.6112043e-01,\n",
       "        1.0333266e+00,  4.6712267e-01,  1.3965701e-01,  3.9662501e-01,\n",
       "       -1.6856031e-01,  1.7157106e+00,  3.9376101e+00,  2.8848484e-01,\n",
       "       -3.4646189e-01,  2.1152585e+00, -2.5344672e+00,  1.9921386e-01,\n",
       "        2.1689138e-01,  2.1077834e-01, -7.8791690e-01, -2.7822819e+00,\n",
       "        1.5235929e+00, -7.0564085e-01, -1.2934682e+00, -2.9004831e+00,\n",
       "        1.0293285e+00,  2.0830133e+00,  4.4415781e-01,  7.0887232e-01,\n",
       "        2.3441327e+00,  7.8484529e-01, -4.6115664e-01,  1.6962467e+00,\n",
       "        2.1001651e+00,  2.9546719e+00, -1.1152525e+00,  1.6867351e-02,\n",
       "       -4.1463783e-01,  2.3373020e+00, -7.0245384e-04, -2.4344464e-01,\n",
       "       -7.8192687e-01,  5.0943738e-01,  5.8989203e-01,  8.4363216e-01,\n",
       "        8.1030035e-01,  2.7901977e-01, -1.2783209e+00, -1.5883130e-01,\n",
       "        6.2914664e-01, -5.6232676e-02,  1.7422245e-01, -1.5769306e+00],\n",
       "      dtype=float32)"
      ]
     },
     "execution_count": 13,
     "metadata": {},
     "output_type": "execute_result"
    }
   ],
   "source": [
    "model.wv[\"nlp\"]"
   ]
  },
  {
   "cell_type": "markdown",
   "metadata": {},
   "source": [
    "We can also easily find the similarity between two words. Similarity is measured as the cosine between the two word embeddings, and therefore ranges between -1 and +1. The higher the cosine, the more similar two words are. As expected, the figures below show that *nmt* (neural machine translation) is closer to *smt* (statistical machine translation) than to *ner* (named entity recognition)."
   ]
  },
  {
   "cell_type": "code",
   "execution_count": 14,
   "metadata": {},
   "outputs": [
    {
     "name": "stdout",
     "output_type": "stream",
     "text": [
      "0.66928\n",
      "0.40562814\n"
     ]
    }
   ],
   "source": [
    "print(model.wv.similarity(\"nmt\", \"smt\"))\n",
    "print(model.wv.similarity(\"nmt\", \"ner\"))"
   ]
  },
  {
   "cell_type": "markdown",
   "metadata": {},
   "source": [
    "In a similar vein, we can find the words that are most similar to a target word. The words with the most similar embedding to *bert* are all semantically related to it: other types of pretrained models such as *roberta*, *mbert*, *xlm*, as well as the more general model type BERT represents (*transformer* and *transformers*), and more generally related words (*pretrained*)."
   ]
  },
  {
   "cell_type": "code",
   "execution_count": 15,
   "metadata": {},
   "outputs": [
    {
     "data": {
      "text/plain": [
       "[('roberta', 0.791675329208374),\n",
       " ('transformer', 0.7442683577537537),\n",
       " ('transformers', 0.7399057149887085),\n",
       " ('elmo', 0.7373062372207642),\n",
       " ('pretrained', 0.6991168260574341),\n",
       " ('gpt-2', 0.6486104726791382),\n",
       " ('mbert', 0.6460475921630859),\n",
       " ('xlm', 0.636052131652832),\n",
       " ('xlnet', 0.6243324279785156),\n",
       " ('lstm', 0.6207095980644226)]"
      ]
     },
     "execution_count": 15,
     "metadata": {},
     "output_type": "execute_result"
    }
   ],
   "source": [
    "model.wv.similar_by_word(\"bert\", topn=10)"
   ]
  },
  {
   "cell_type": "markdown",
   "metadata": {},
   "source": [
    "Interestingly, we can look for words that are similar to a set of words and dissimilar to another set of words at the same time. This allows us to look for analogies of the type *BERT is to a transformer like an LSTM is to ...*. Our embedding model correctly predicts that LSTMs are a type of RNN, just like BERT is a particular type of transformer."
   ]
  },
  {
   "cell_type": "code",
   "execution_count": 16,
   "metadata": {},
   "outputs": [
    {
     "data": {
      "text/plain": [
       "[('rnn', 0.8033627271652222)]"
      ]
     },
     "execution_count": 16,
     "metadata": {},
     "output_type": "execute_result"
    }
   ],
   "source": [
    "model.wv.most_similar(positive=[\"transformer\", \"lstm\"], negative=[\"bert\"], topn=1)"
   ]
  },
  {
   "cell_type": "markdown",
   "metadata": {},
   "source": [
    "Similarly, we can also zoom in on one of the meanings of ambiguous words. For example, in NLP *tree* has a very specific meaning, which is obvious from its nearest neighbours *constituency*, *parse*, *dependency* and *syntax*. "
   ]
  },
  {
   "cell_type": "code",
   "execution_count": 17,
   "metadata": {},
   "outputs": [
    {
     "data": {
      "text/plain": [
       "[('trees', 0.7947016358375549),\n",
       " ('constituency', 0.713110625743866),\n",
       " ('parse', 0.6834737658500671),\n",
       " ('recursive', 0.6746057271957397),\n",
       " ('dependency', 0.6443460583686829),\n",
       " ('syntax', 0.6294395327568054),\n",
       " ('constituent', 0.6244012117385864),\n",
       " ('parser', 0.5863478183746338),\n",
       " ('grammars', 0.5828761458396912),\n",
       " ('hierarchical', 0.580916702747345)]"
      ]
     },
     "execution_count": 17,
     "metadata": {},
     "output_type": "execute_result"
    }
   ],
   "source": [
    "model.wv.most_similar(positive=[\"tree\"], topn=10)"
   ]
  },
  {
   "cell_type": "markdown",
   "metadata": {},
   "source": [
    "However, if we specify we're looking for words that are similar to *tree*, but dissimilar to *syntax*, suddenly its standard meaning takes over, and *forest* crops up in its nearest neighbours."
   ]
  },
  {
   "cell_type": "code",
   "execution_count": 18,
   "metadata": {},
   "outputs": [
    {
     "data": {
      "text/plain": [
       "[('forest', 0.4627920389175415),\n",
       " ('crf', 0.4132454991340637),\n",
       " ('softmax', 0.4102061688899994),\n",
       " ('normalized', 0.40531980991363525),\n",
       " ('greedy', 0.4028733968734741),\n",
       " ('logistic', 0.39832794666290283),\n",
       " ('neighbor', 0.38390251994132996),\n",
       " ('bayes', 0.3832186460494995),\n",
       " ('naive', 0.3713211417198181),\n",
       " ('binary', 0.3700289726257324)]"
      ]
     },
     "execution_count": 18,
     "metadata": {},
     "output_type": "execute_result"
    }
   ],
   "source": [
    "model.wv.most_similar(positive=[\"tree\"], negative=[\"syntax\"], topn=10)"
   ]
  },
  {
   "cell_type": "markdown",
   "metadata": {},
   "source": [
    "Finally, we can present the word2vec model with a list of words and ask it to identify the odd one out. It then uses the word embeddings to identify the word that is least similar to the other ones. For example, in the list *lstm cnn gru svm transformer*, it correctly identifies *svm* as the only non-neural model. In the list *bert word2vec gpt-2 roberta xlnet*, it correctly singles out *word2vec* as the only non-transormer model. In *word2vec bert glove fasttext elmo*, *bert* is singled out as the only transformer."
   ]
  },
  {
   "cell_type": "code",
   "execution_count": 19,
   "metadata": {},
   "outputs": [
    {
     "name": "stdout",
     "output_type": "stream",
     "text": [
      "svm\n",
      "word2vec\n",
      "bert\n"
     ]
    }
   ],
   "source": [
    "print(model.wv.doesnt_match(\"lstm cnn gru svm transformer\".split()))\n",
    "print(model.wv.doesnt_match(\"bert word2vec gpt-2 roberta xlnet\".split()))\n",
    "print(model.wv.doesnt_match(\"word2vec bert glove fasttext elmo\".split()))"
   ]
  },
  {
   "cell_type": "markdown",
   "metadata": {},
   "source": [
    "## Plotting embeddings"
   ]
  },
  {
   "cell_type": "markdown",
   "metadata": {},
   "source": [
    "Let's now visualize some of our embeddings. To plot embeddings with a dimensionality of 100 or more, we first need to map them to a dimensionality of 2. We do this with the popular [t-SNE](https://lvdmaaten.github.io/tsne/) method. T-SNE, short for t-distributed Stochastic Neighbor Embedding, helps us visualize high-dimensional data by mapping similar data to nearby points and dissimilar data to distance points in the low-dimensional space.\n",
    "\n",
    "T-SNE is present in [Scikit-learn](https://scikit-learn.org/stable/modules/generated/sklearn.manifold.TSNE.html). To run it, we just have to specify the number of dimensions we'd like to map the data to (`n_components`), and the similarity metric that t-SNE should use to compute the similarity between two data points (`metric`). We're going to map to 2 dimensions and use the cosine as our similarity metric. Additionally, we use PCA as an initialization method to remove some noise and speed up computation. The [Scikit-learn user guide](https://scikit-learn.org/stable/modules/manifold.html#t-sne) contains some additional tips for optimizing performance. \n",
    "\n",
    "Plotting all the embeddings in our vector space would result in a very crowded figure where the labels are hardly legible. Therefore we'll focus on a subset of embeddings by selecting the 200 most similar words to a target word. "
   ]
  },
  {
   "cell_type": "code",
   "execution_count": 20,
   "metadata": {},
   "outputs": [],
   "source": [
    "%matplotlib inline\n",
    "\n",
    "import pandas as pd\n",
    "import matplotlib\n",
    "import matplotlib.pyplot as plt\n",
    "\n",
    "from sklearn.manifold import TSNE\n",
    "\n",
    "target_word = \"bert\"\n",
    "selected_words = [w[0] for w in model.wv.most_similar(positive=[target_word], topn=200)] + [target_word]\n",
    "embeddings = [model.wv[w] for w in selected_words] + model.wv[\"bert\"]\n",
    "\n",
    "mapped_embeddings = TSNE(n_components=2, metric='cosine', init='pca').fit_transform(embeddings)"
   ]
  },
  {
   "cell_type": "markdown",
   "metadata": {},
   "source": [
    "If we take *bert* as our target word, the figure shows some interesting patterns. In the immediate vicinity of *bert*, we find the similar transformer models that we already identified as its nearest neighbours earlier: *xlm*, *mbert*, *gpt-2*, and so on. Other parts of the picture have equally informative clusters of NLP tasks and benchmarks (*squad* and *glue*), languages (*german* and *english*), neural-network architectures (*lstm*, *gru*, etc.), embedding types (*word2vec*, *glove*, *fasttext*, *elmo*), etc. "
   ]
  },
  {
   "cell_type": "code",
   "execution_count": 21,
   "metadata": {},
   "outputs": [
    {
     "data": {
      "image/png": "[encoded data removed]",
      "text/plain": [
       "<Figure size 1440x1440 with 1 Axes>"
      ]
     },
     "metadata": {
      "needs_background": "light"
     },
     "output_type": "display_data"
    }
   ],
   "source": [
    "plt.figure(figsize=(20,20))\n",
    "x = mapped_embeddings[:,0]\n",
    "y = mapped_embeddings[:,1]\n",
    "plt.scatter(x, y)\n",
    "\n",
    "for i, txt in enumerate(selected_words):\n",
    "    plt.annotate(txt, (x[i], y[i]))"
   ]
  },
  {
   "cell_type": "markdown",
   "metadata": {},
   "source": [
    "## Conclusions"
   ]
  },
  {
   "cell_type": "markdown",
   "metadata": {},
   "source": [
    "Word embeddings are one of the most exciting trends on Natural Language Processing since the 2000s. They allow us to model the meaning and usage of a word, and discover words that behave similarly. This is crucial for the generalization capacity of many machine learning models. Moving from raw strings to embeddings allows them to generalize across words that have a similar meaning, and discover patterns that had previously escaped them."
   ]
  }
 ],
 "metadata": {
  "colab": {
   "name": "NLP_Intro.ipynb",
   "provenance": []
  },
  "interpreter": {
   "hash": "6f6a9d06c0fd64bf60e6e1c5f52d9e61e3a0d126987fc458258eb07643fb7172"
  },
  "kernelspec": {
   "display_name": "Python 3",
   "language": "python",
   "name": "python3"
  },
  "language_info": {
   "codemirror_mode": {
    "name": "ipython",
    "version": 3
   },
   "file_extension": ".py",
   "mimetype": "text/x-python",
   "name": "python",
   "nbconvert_exporter": "python",
   "pygments_lexer": "ipython3",
   "version": "3.7.6"
  }
 },
 "nbformat": 4,
 "nbformat_minor": 1
}
